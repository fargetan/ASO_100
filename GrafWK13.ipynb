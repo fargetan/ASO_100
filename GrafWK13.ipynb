{
 "cells": [
  {
   "cell_type": "markdown",
   "metadata": {},
   "source": [
    "# WK 13 Homework\n",
    "## Nathan J. Graf, MTH 5401\n",
    "## Fall 2018\n",
    "## CH 14: 1, 3, 5, 7\n",
    "\n",
    "## 14-1\n",
    "### 14-1 (a) \n",
    "$H_{0}: \\tau_{1} = \\tau_{2} = 0$  \n",
    "$H_{1}:$ at least one $\\tau_{i} \\neq 0$  \n",
    "$H_{0}: \\beta_{1} = \\beta_{2} = \\beta_{3} = 0$  \n",
    "$H_{1}:$ at least one $\\beta_{j} \\neq 0$  \n",
    "$H_{0}: (\\tau\\beta)_{11} = (\\tau\\beta)_{12} = . . . = (\\tau\\beta)_{33} = 0$   \n",
    "$H_{1}:$ at least one $(\\tau\\beta)_{ij} \\neq 0$  \n",
    "\n",
    "### 14-1 (b)\n",
    "Test hypotheses:"
   ]
  },
  {
   "cell_type": "code",
   "execution_count": 2,
   "metadata": {},
   "outputs": [],
   "source": [
    "import pandas as pd\n",
    "import scipy\n",
    "from scipy import stats\n",
    "import numpy as np"
   ]
  },
  {
   "cell_type": "code",
   "execution_count": 3,
   "metadata": {},
   "outputs": [
    {
     "data": {
      "text/html": [
       "<div>\n",
       "<style scoped>\n",
       "    .dataframe tbody tr th:only-of-type {\n",
       "        vertical-align: middle;\n",
       "    }\n",
       "\n",
       "    .dataframe tbody tr th {\n",
       "        vertical-align: top;\n",
       "    }\n",
       "\n",
       "    .dataframe thead th {\n",
       "        text-align: right;\n",
       "    }\n",
       "</style>\n",
       "<table border=\"1\" class=\"dataframe\">\n",
       "  <thead>\n",
       "    <tr style=\"text-align: right;\">\n",
       "      <th></th>\n",
       "      <th>Primer</th>\n",
       "      <th>Method</th>\n",
       "      <th>Force</th>\n",
       "    </tr>\n",
       "  </thead>\n",
       "  <tbody>\n",
       "    <tr>\n",
       "      <th>0</th>\n",
       "      <td>1</td>\n",
       "      <td>1</td>\n",
       "      <td>4.0</td>\n",
       "    </tr>\n",
       "    <tr>\n",
       "      <th>1</th>\n",
       "      <td>1</td>\n",
       "      <td>1</td>\n",
       "      <td>4.5</td>\n",
       "    </tr>\n",
       "    <tr>\n",
       "      <th>2</th>\n",
       "      <td>1</td>\n",
       "      <td>1</td>\n",
       "      <td>4.3</td>\n",
       "    </tr>\n",
       "    <tr>\n",
       "      <th>3</th>\n",
       "      <td>1</td>\n",
       "      <td>2</td>\n",
       "      <td>5.4</td>\n",
       "    </tr>\n",
       "    <tr>\n",
       "      <th>4</th>\n",
       "      <td>1</td>\n",
       "      <td>2</td>\n",
       "      <td>4.9</td>\n",
       "    </tr>\n",
       "    <tr>\n",
       "      <th>5</th>\n",
       "      <td>1</td>\n",
       "      <td>2</td>\n",
       "      <td>5.6</td>\n",
       "    </tr>\n",
       "    <tr>\n",
       "      <th>6</th>\n",
       "      <td>2</td>\n",
       "      <td>1</td>\n",
       "      <td>5.6</td>\n",
       "    </tr>\n",
       "    <tr>\n",
       "      <th>7</th>\n",
       "      <td>2</td>\n",
       "      <td>1</td>\n",
       "      <td>4.9</td>\n",
       "    </tr>\n",
       "    <tr>\n",
       "      <th>8</th>\n",
       "      <td>2</td>\n",
       "      <td>1</td>\n",
       "      <td>5.4</td>\n",
       "    </tr>\n",
       "    <tr>\n",
       "      <th>9</th>\n",
       "      <td>2</td>\n",
       "      <td>2</td>\n",
       "      <td>5.8</td>\n",
       "    </tr>\n",
       "    <tr>\n",
       "      <th>10</th>\n",
       "      <td>2</td>\n",
       "      <td>2</td>\n",
       "      <td>6.1</td>\n",
       "    </tr>\n",
       "    <tr>\n",
       "      <th>11</th>\n",
       "      <td>2</td>\n",
       "      <td>2</td>\n",
       "      <td>6.3</td>\n",
       "    </tr>\n",
       "    <tr>\n",
       "      <th>12</th>\n",
       "      <td>3</td>\n",
       "      <td>1</td>\n",
       "      <td>3.8</td>\n",
       "    </tr>\n",
       "    <tr>\n",
       "      <th>13</th>\n",
       "      <td>3</td>\n",
       "      <td>1</td>\n",
       "      <td>3.7</td>\n",
       "    </tr>\n",
       "    <tr>\n",
       "      <th>14</th>\n",
       "      <td>3</td>\n",
       "      <td>1</td>\n",
       "      <td>4.0</td>\n",
       "    </tr>\n",
       "    <tr>\n",
       "      <th>15</th>\n",
       "      <td>3</td>\n",
       "      <td>2</td>\n",
       "      <td>5.5</td>\n",
       "    </tr>\n",
       "    <tr>\n",
       "      <th>16</th>\n",
       "      <td>3</td>\n",
       "      <td>2</td>\n",
       "      <td>5.0</td>\n",
       "    </tr>\n",
       "    <tr>\n",
       "      <th>17</th>\n",
       "      <td>3</td>\n",
       "      <td>2</td>\n",
       "      <td>5.0</td>\n",
       "    </tr>\n",
       "  </tbody>\n",
       "</table>\n",
       "</div>"
      ],
      "text/plain": [
       "    Primer  Method  Force\n",
       "0        1       1    4.0\n",
       "1        1       1    4.5\n",
       "2        1       1    4.3\n",
       "3        1       2    5.4\n",
       "4        1       2    4.9\n",
       "5        1       2    5.6\n",
       "6        2       1    5.6\n",
       "7        2       1    4.9\n",
       "8        2       1    5.4\n",
       "9        2       2    5.8\n",
       "10       2       2    6.1\n",
       "11       2       2    6.3\n",
       "12       3       1    3.8\n",
       "13       3       1    3.7\n",
       "14       3       1    4.0\n",
       "15       3       2    5.5\n",
       "16       3       2    5.0\n",
       "17       3       2    5.0"
      ]
     },
     "execution_count": 3,
     "metadata": {},
     "output_type": "execute_result"
    }
   ],
   "source": [
    "#load data\n",
    "#data = pd.DataFrame({'Glass': [1, 1, 1, 1, 1, 1, 1, 1, 1, \n",
    "#                               2, 2, 2, 2, 2, 2, 2, 2, 2], \n",
    "#                     'Phosphor': [1, 2, 3, 1, 2, 3, 1, 2, 3, \n",
    "#                                  1, 2, 3, 1, 2, 3, 1, 2, 3], \n",
    "#                     'Brightness': [280, 300, 290, 290, 310, \n",
    "#                                    285, 285, 295, 290, 230, \n",
    "#                                    260, 220, 235, 240, 225, \n",
    "#                                    240, 235, 230]})\n",
    "#data\n",
    "\n",
    "data = pd.DataFrame({'Primer': [1, 1, 1, 1, 1, 1, \n",
    "                               2, 2, 2, 2, 2, 2, \n",
    "                               3, 3, 3, 3, 3, 3], \n",
    "                     'Method': [1, 1, 1, 2, 2, 2, \n",
    "                                1, 1, 1, 2, 2, 2,\n",
    "                                1, 1, 1, 2, 2, 2], \n",
    "                     'Force': [4.0, 4.5, 4.3, 5.4, 4.9, 5.6, \n",
    "                               5.6, 4.9, 5.4, 5.8, 6.1, 6.3, \n",
    "                               3.8, 3.7, 4.0, 5.5, 5.0, 5.0]})\n",
    "data"
   ]
  },
  {
   "cell_type": "code",
   "execution_count": 4,
   "metadata": {},
   "outputs": [
    {
     "data": {
      "text/plain": [
       "448.00222222222214"
      ]
     },
     "execution_count": 4,
     "metadata": {},
     "output_type": "execute_result"
    }
   ],
   "source": [
    "total_sum = data['Force'].sum()\n",
    "a = 3\n",
    "b = 2\n",
    "n = 3\n",
    "big_mean_square = (total_sum**2) / (a * b * n)\n",
    "big_mean_square"
   ]
  },
  {
   "cell_type": "code",
   "execution_count": 6,
   "metadata": {},
   "outputs": [
    {
     "data": {
      "text/plain": [
       "448.00222222222214"
      ]
     },
     "execution_count": 6,
     "metadata": {},
     "output_type": "execute_result"
    }
   ],
   "source": [
    "(89.8**2)/18"
   ]
  },
  {
   "cell_type": "code",
   "execution_count": 8,
   "metadata": {},
   "outputs": [],
   "source": [
    "flipdata = data.transpose()\n",
    "# get counts and totals for the means\n",
    "a1_sum = a2_sum = a3_sum = b1_sum = b2_sum = 0\n",
    "ab11_sum = ab12_sum = ab21_sum = ab22_sum = ab31_sum = ab32_sum = 0\n",
    "a1_count = a2_count = b1_count = b2_count = a3_count = 0\n",
    "for i in flipdata:\n",
    "    col = flipdata[i]\n",
    "    y = col['Force']\n",
    "    if col['Primer'] == 1:\n",
    "        a1_sum += y\n",
    "        a1_count += 1\n",
    "        if col['Method'] == 1:\n",
    "            b1_sum += y\n",
    "            b1_count += 1\n",
    "            ab11_sum += y\n",
    "        elif col['Method'] == 2:\n",
    "            b2_sum += y\n",
    "            b2_count += 1\n",
    "            ab12_sum += y\n",
    "    elif col['Primer'] == 2:\n",
    "        a2_sum += y\n",
    "        a2_count += 1\n",
    "        if col['Method'] == 1:\n",
    "            b1_sum += y\n",
    "            b1_count +=1\n",
    "            ab21_sum += y\n",
    "        elif col['Method'] == 2:\n",
    "            b2_sum += y\n",
    "            b2_count += 1\n",
    "            ab22_sum += y\n",
    "    elif col['Primer'] == 3:\n",
    "        a3_sum += y\n",
    "        a3_count += 1\n",
    "        if col['Method'] == 1:\n",
    "            b1_sum += y\n",
    "            b1_count +=1\n",
    "            ab31_sum += y\n",
    "        elif col['Method'] == 2:\n",
    "            b2_sum += y\n",
    "            b2_count += 1\n",
    "            ab32_sum += y\n",
    "\n",
    "# calclate means        \n",
    "a1_mean = a1_sum / a1_count\n",
    "a2_mean = a2_sum / a2_count\n",
    "b1_mean = b1_sum / b1_count\n",
    "b2_mean = b2_sum / b2_count\n",
    "a3_mean = a3_sum / a3_count\n",
    "\n"
   ]
  },
  {
   "cell_type": "code",
   "execution_count": 10,
   "metadata": {},
   "outputs": [
    {
     "data": {
      "text/plain": [
       "10.717777777777883"
      ]
     },
     "execution_count": 10,
     "metadata": {},
     "output_type": "execute_result"
    }
   ],
   "source": [
    "# SST all the responses squared minus big mean square\n",
    "squares = data['Force']**2\n",
    "SST = squares.sum() - big_mean_square\n",
    "SST"
   ]
  },
  {
   "cell_type": "code",
   "execution_count": 12,
   "metadata": {},
   "outputs": [
    {
     "data": {
      "text/plain": [
       "4.58111111111117"
      ]
     },
     "execution_count": 12,
     "metadata": {},
     "output_type": "execute_result"
    }
   ],
   "source": [
    "# SSglass = sum of each group squared / bn - big_mean_square\n",
    "SStypes = (a1_sum ** 2 + a2_sum ** 2 + a3_sum ** 2)/(b*n) - big_mean_square\n",
    "SStypes"
   ]
  },
  {
   "cell_type": "code",
   "execution_count": 13,
   "metadata": {},
   "outputs": [
    {
     "data": {
      "text/plain": [
       "4.908888888888839"
      ]
     },
     "execution_count": 13,
     "metadata": {},
     "output_type": "execute_result"
    }
   ],
   "source": [
    "## SSphos = sum of each group squared / an - big_mean_square\n",
    "SSmethods = (b1_sum ** 2 + b2_sum ** 2 )/(a*n) - big_mean_square\n",
    "SSmethods"
   ]
  },
  {
   "cell_type": "code",
   "execution_count": 16,
   "metadata": {},
   "outputs": [
    {
     "data": {
      "text/plain": [
       "0.241111111111195"
      ]
     },
     "execution_count": 16,
     "metadata": {},
     "output_type": "execute_result"
    }
   ],
   "source": [
    "# SSinter = sum of each pair of treatments squared / n - big_mean_square\n",
    "SSab = (ab11_sum ** 2 + ab12_sum ** 2 + ab31_sum ** 2 + ab21_sum ** 2 + \n",
    "         ab22_sum ** 2 + ab32_sum ** 2) / n - big_mean_square - SStypes - SSmethods\n",
    "SSab"
   ]
  },
  {
   "cell_type": "code",
   "execution_count": 18,
   "metadata": {},
   "outputs": [
    {
     "data": {
      "text/plain": [
       "0.9866666666666788"
      ]
     },
     "execution_count": 18,
     "metadata": {},
     "output_type": "execute_result"
    }
   ],
   "source": [
    "## SSE = SST - SSA - SSB - SSAB\n",
    "SSE = SST - SStypes - SSmethods - SSab\n",
    "SSE"
   ]
  },
  {
   "cell_type": "code",
   "execution_count": 27,
   "metadata": {},
   "outputs": [
    {
     "name": "stdout",
     "output_type": "stream",
     "text": [
      "2\n",
      "1\n",
      "2\n",
      "12\n"
     ]
    }
   ],
   "source": [
    "df_A = a - 1\n",
    "df_B = b - 1\n",
    "df_inter = df_A * df_B\n",
    "df_error = a * b * (n - 1)\n",
    "print(df_A)\n",
    "print(df_B)\n",
    "print(df_inter)\n",
    "print(df_error)"
   ]
  },
  {
   "cell_type": "code",
   "execution_count": 28,
   "metadata": {},
   "outputs": [
    {
     "name": "stdout",
     "output_type": "stream",
     "text": [
      "F_0 for Glass Type is 27.858108108108123\n",
      "F_0 for Phosphor Type is 59.7\n",
      "F_0 for Interaction is 1.47\n"
     ]
    }
   ],
   "source": [
    "# MSA, MSB, MSAB, MSE = SS/df\n",
    "MSA = SStypes/df_A\n",
    "MSB = SSmethods/df_B\n",
    "MSAB = SSab/df_inter\n",
    "MSE = SSE/df_error\n",
    "F_0A = MSA/MSE\n",
    "F_0B = MSB/MSE\n",
    "F_0AB = MSAB/MSE\n",
    "print('F_0 for Glass Type is {}'.format(F_0A))\n",
    "print('F_0 for Phosphor Type is {}'.format(F_0B.round(2)))\n",
    "print('F_0 for Interaction is {}'.format(F_0AB.round(2)))"
   ]
  },
  {
   "cell_type": "code",
   "execution_count": 26,
   "metadata": {},
   "outputs": [
    {
     "data": {
      "text/plain": [
       "0.9866666666666788"
      ]
     },
     "execution_count": 26,
     "metadata": {},
     "output_type": "execute_result"
    }
   ],
   "source": [
    "SSE"
   ]
  },
  {
   "cell_type": "code",
   "execution_count": 141,
   "metadata": {},
   "outputs": [],
   "source": [
    "# P-values\n",
    "glass_p = stats.f.sf(F_0A, df_glass, df_error)\n",
    "phos_p = stats.f.sf(F_0B, df_phos, df_error)\n",
    "inter_p = stats.f.sf(F_0AB, df_inter, df_error)"
   ]
  },
  {
   "cell_type": "code",
   "execution_count": 145,
   "metadata": {},
   "outputs": [
    {
     "name": "stdout",
     "output_type": "stream",
     "text": [
      "P-value for Glass is 3.8485595616724516e-13\n",
      "P-value for Phosphor is 0.00045349637055794046\n",
      "P-value for Interaction is 0.19711469481368402\n"
     ]
    }
   ],
   "source": [
    "print('P-value for Glass is {}'.format(glass_p))\n",
    "print('P-value for Phosphor is {}'.format(phos_p))\n",
    "print('P-value for Interaction is {}'.format(inter_p))"
   ]
  },
  {
   "cell_type": "markdown",
   "metadata": {},
   "source": [
    "With *p*-values less than 0.0005, $H_{0}$ can be rejected for the glass and phosphor types.  \n",
    "With a *p*-value greater than 0.1, do not reject $H_{0}$ for interaction.\n",
    "\n",
    "### 14-1 (c) Analyze Residuals"
   ]
  },
  {
   "cell_type": "code",
   "execution_count": 166,
   "metadata": {},
   "outputs": [],
   "source": [
    "# calcluate residuals\n",
    "# start with cell means\n",
    "means = [[ab11_sum / n, ab12_sum / n, ab13_sum / n], \n",
    "         [ab21_sum / n, ab22_sum / n, ab23_sum / n]]\n",
    "# add column for residuals\n",
    "data['Residuals'] = pd.Series(index=data.index)\n",
    "# now subtract corresponding mean from each value\n",
    "flipdata = data.transpose()\n",
    "for row in flipdata:\n",
    "    col = flipdata[row]\n",
    "    i = int(col['Glass'] - 1)\n",
    "    j = int(col['Phosphor'] - 1 )\n",
    "    col['Residuals'] = col['Brightness'] - means[i][j]\n",
    "\n",
    "data1 = flipdata.transpose()"
   ]
  },
  {
   "cell_type": "code",
   "execution_count": 168,
   "metadata": {},
   "outputs": [
    {
     "data": {
      "text/plain": [
       "<matplotlib.axes._subplots.AxesSubplot at 0x1e0875fa898>"
      ]
     },
     "execution_count": 168,
     "metadata": {},
     "output_type": "execute_result"
    },
    {
     "data": {
      "image/png": "[encoded data removed]",
      "text/plain": [
       "<Figure size 432x288 with 1 Axes>"
      ]
     },
     "metadata": {},
     "output_type": "display_data"
    }
   ],
   "source": [
    "% matplotlib inline\n",
    "data1.Residuals.plot.density()"
   ]
  },
  {
   "cell_type": "code",
   "execution_count": 170,
   "metadata": {},
   "outputs": [
    {
     "data": {
      "text/plain": [
       "<matplotlib.collections.PathCollection at 0x1e0874f21d0>"
      ]
     },
     "execution_count": 170,
     "metadata": {},
     "output_type": "execute_result"
    },
    {
     "data": {
      "image/png": "[encoded data removed]",
      "text/plain": [
       "<Figure size 432x288 with 1 Axes>"
      ]
     },
     "metadata": {},
     "output_type": "display_data"
    }
   ],
   "source": [
    "from matplotlib import pyplot as plt\n",
    "plt.scatter(data1.Glass, data1.Residuals)"
   ]
  },
  {
   "cell_type": "code",
   "execution_count": 172,
   "metadata": {},
   "outputs": [
    {
     "data": {
      "text/plain": [
       "<matplotlib.collections.PathCollection at 0x1e086eeee48>"
      ]
     },
     "execution_count": 172,
     "metadata": {},
     "output_type": "execute_result"
    },
    {
     "data": {
      "image/png": "[encoded data removed]",
      "text/plain": [
       "<Figure size 432x288 with 1 Axes>"
      ]
     },
     "metadata": {},
     "output_type": "display_data"
    }
   ],
   "source": [
    "plt.scatter(data1.Phosphor, data1.Residuals)"
   ]
  },
  {
   "cell_type": "markdown",
   "metadata": {},
   "source": [
    "The residuals look fairly resonable. There seems to be more variation for Phosphor Type 2 and Glass Type 2, however.\n",
    "\n",
    "## 14-3 Battery Life"
   ]
  },
  {
   "cell_type": "code",
   "execution_count": 177,
   "metadata": {},
   "outputs": [],
   "source": [
    "# load new data\n",
    "data = pd.DataFrame({'A': [1, 1, 1, 1, 1, 1, 1, 1, 1, 1, 1, 1, \n",
    "                             2, 2, 2, 2, 2, 2, 2, 2, 2, 2, 2, 2, \n",
    "                             3, 3, 3, 3, 3, 3, 3, 3, 3, 3, 3, 3], \n",
    "                     'B': [0, 0, 1, 1, 2, 2, 0, 0, 1, 1, 2, 2, \n",
    "                              0, 0, 1, 1, 2, 2, 0, 0, 1, 1, 2, 2, \n",
    "                              0, 0, 1, 1, 2, 2, 0, 0, 1, 1, 2, 2,], \n",
    "                     'Y': [130, 155, 34, 40, 20, 70, \n",
    "                              74, 180, 80, 75, 82, 58, \n",
    "                              150, 188, 136, 122, 25, 70, \n",
    "                              159, 126, 106, 115, 58, 45, \n",
    "                              138, 110, 174, 120, 96, 104, \n",
    "                              168, 160, 150, 139, 82, 60]})"
   ]
  },
  {
   "cell_type": "code",
   "execution_count": 178,
   "metadata": {},
   "outputs": [],
   "source": [
    "# quick summary stats\n",
    "total_sum = data['Y'].sum()\n",
    "a = len(data.A.unique())\n",
    "b = len(data.B.unique())\n",
    "N = len(data.Y)\n",
    "n = N / ( a * b )\n",
    "big_mean_square = (total_sum**2) / N"
   ]
  },
  {
   "cell_type": "code",
   "execution_count": 184,
   "metadata": {},
   "outputs": [],
   "source": [
    "# calculate totals\n",
    "# transpose the data to iterate\n",
    "flipdata = data.transpose()\n",
    "# initialize totals\n",
    "a1_sum = a2_sum = a3_sum = b1_sum = b2_sum = b3_sum = 0\n",
    "a1_count = a2_count = a3_count = b1_count = b2_count = b3_count = 0\n",
    "ab11_sum = ab12_sum = ab13_sum = ab21_sum = ab22_sum = ab23_sum = 0\n",
    "ab31_sum = ab32_sum = ab33_sum = 0\n",
    "for row in flipdata:\n",
    "    col = flipdata[row]\n",
    "    y = col['Y']\n",
    "    if col['A'] == 1:\n",
    "        a1_sum += y\n",
    "        a1_count += 1\n",
    "        if col['B'] == 1:\n",
    "            b1_sum += y\n",
    "            b1_count += 1\n",
    "            ab11_sum += y\n",
    "        elif col['B'] == 2:\n",
    "            b2_sum += y\n",
    "            b2_count += 1\n",
    "            ab12_sum += y\n",
    "        else:\n",
    "            b3_sum += y\n",
    "            b3_count += 1\n",
    "            ab13_sum += y\n",
    "    elif col['A'] == 2:\n",
    "        a2_sum += y\n",
    "        a2_count += 1\n",
    "        if col['B'] == 1:\n",
    "            b1_sum += y\n",
    "            b1_count +=1\n",
    "            ab21_sum += y\n",
    "        elif col['B'] == 2:\n",
    "            b2_sum += y\n",
    "            b2_count += 1\n",
    "            ab22_sum += y\n",
    "        else:\n",
    "            b3_sum += y\n",
    "            b3_count += 1\n",
    "            ab23_sum +=y\n",
    "    else:\n",
    "        a3_sum += y\n",
    "        a3_count += 1\n",
    "        if col['B'] == 1:\n",
    "            b1_sum += y\n",
    "            b1_count +=1\n",
    "            ab31_sum += y\n",
    "        elif col['B'] == 2:\n",
    "            b2_sum += y\n",
    "            b2_count += 1\n",
    "            ab32_sum += y\n",
    "        else:\n",
    "            b3_sum += y\n",
    "            b3_count += 1\n",
    "            ab33_sum +=y\n"
   ]
  },
  {
   "cell_type": "code",
   "execution_count": 185,
   "metadata": {},
   "outputs": [],
   "source": [
    "# SST all the responses squared minus big mean square\n",
    "squares = data['Y']**2\n",
    "SST = squares.sum() - big_mean_square"
   ]
  },
  {
   "cell_type": "code",
   "execution_count": 186,
   "metadata": {},
   "outputs": [],
   "source": [
    "# SSA = sum of each group squared / bn - big_mean_square\n",
    "SSA = (a1_sum ** 2 + a2_sum ** 2 + a3_sum ** 2)/(b*n) - big_mean_square"
   ]
  },
  {
   "cell_type": "code",
   "execution_count": 187,
   "metadata": {},
   "outputs": [],
   "source": [
    "# SSB = sum of each group squared / bn - big_mean_square\n",
    "SSB = (b1_sum ** 2 + b2_sum ** 2 + b3_sum ** 2)/(a*n) - big_mean_square"
   ]
  },
  {
   "cell_type": "code",
   "execution_count": 188,
   "metadata": {},
   "outputs": [],
   "source": [
    "# SSAB = sum of each pair of treatments squared / n - big_mean_square\n",
    "SSAB = (ab11_sum ** 2 + ab12_sum ** 2 + ab13_sum ** 2 + ab21_sum ** 2 + \n",
    "         ab22_sum ** 2 + ab23_sum ** 2 + ab31_sum ** 2 + \n",
    "         ab32_sum ** 2 + ab33_sum ** 2) / n - big_mean_square - SSA - SSB"
   ]
  },
  {
   "cell_type": "code",
   "execution_count": 189,
   "metadata": {},
   "outputs": [],
   "source": [
    "## SSE = SST - SSA - SSB - SSAB\n",
    "SSE = SST - SSA - SSB - SSAB"
   ]
  },
  {
   "cell_type": "code",
   "execution_count": 190,
   "metadata": {},
   "outputs": [],
   "source": [
    "# degrees of freedom for each Sum of Squares\n",
    "df_a = a - 1\n",
    "df_b = b - 1\n",
    "df_ab = df_a * df_b\n",
    "df_error = a * b * n - 1"
   ]
  },
  {
   "cell_type": "code",
   "execution_count": 191,
   "metadata": {},
   "outputs": [
    {
     "name": "stdout",
     "output_type": "stream",
     "text": [
      "F_0 for Material is 10.26\n",
      "F_0 for Temperature is 37.55\n",
      "F_0 for Interaction is 4.61\n"
     ]
    }
   ],
   "source": [
    "# MSA, MSB, MSAB, MSE = SS/df\n",
    "MSA = SSA/df_a\n",
    "MSB = SSB/df_b\n",
    "MSAB = SSAB/df_ab\n",
    "MSE = SSE/df_error\n",
    "F_0A = MSA/MSE\n",
    "F_0B = MSB/MSE\n",
    "F_0AB = MSAB/MSE\n",
    "print('F_0 for Material is {}'.format(F_0A.round(2)))\n",
    "print('F_0 for Temperature is {}'.format(F_0B.round(2)))\n",
    "print('F_0 for Interaction is {}'.format(F_0AB.round(2)))"
   ]
  },
  {
   "cell_type": "code",
   "execution_count": 192,
   "metadata": {},
   "outputs": [
    {
     "name": "stdout",
     "output_type": "stream",
     "text": [
      "P-value for Material is 0.000312292932919646\n",
      "P-value for Temperature is 1.9490116104231757e-09\n",
      "P-value for Interaction is 0.004254394966559781\n"
     ]
    }
   ],
   "source": [
    "# P-values\n",
    "A_p = stats.f.sf(F_0A, df_a, df_error)\n",
    "B_p = stats.f.sf(F_0B, df_b, df_error)\n",
    "AB_p = stats.f.sf(F_0AB, df_ab, df_error)\n",
    "print('P-value for Material is {}'.format(A_p))\n",
    "print('P-value for Temperature is {}'.format(B_p))\n",
    "print('P-value for Interaction is {}'.format(AB_p))"
   ]
  },
  {
   "cell_type": "markdown",
   "metadata": {},
   "source": [
    "Although the *p*-values for each factors are significant, there is evidence of interaction between the two factors. Reject all null hypotheses\n",
    "\n",
    "### 14-3 (b) Graph the interaction\n"
   ]
  },
  {
   "cell_type": "code",
   "execution_count": 204,
   "metadata": {},
   "outputs": [
    {
     "data": {
      "image/png": "[encoded data removed]",
      "text/plain": [
       "<Figure size 432x288 with 1 Axes>"
      ]
     },
     "metadata": {},
     "output_type": "display_data"
    }
   ],
   "source": [
    "# plot the mean values for each cell\n",
    "temp1_avgs = [ab11_sum/4, ab21_sum/4, ab31_sum/4]\n",
    "temp2_avgs = [ab12_sum/4, ab22_sum/4, ab32_sum/4]\n",
    "temp3_avgs = [ab13_sum/4, ab23_sum/4, ab33_sum/4]\n",
    "\n",
    "ax = plt.subplot(111)\n",
    "\n",
    "plt.plot([1, 2, 3], temp1_avgs, label='Low Temp')\n",
    "plt.plot([1, 2, 3], temp2_avgs, label='Med Temp')\n",
    "plt.plot([1, 2, 3], temp3_avgs, label='High Temp')\n",
    "ax.set_xlabel('Material')\n",
    "ax.set_ylabel('Effective Life (hours)')\n",
    "ax.set_xticks(ticks=[1.0, 2.0, 3.0], minor=False)\n",
    "plt.legend()\n",
    "plt.show()"
   ]
  },
  {
   "cell_type": "markdown",
   "metadata": {},
   "source": [
    "### 14-3 Analyze Residuals\n"
   ]
  },
  {
   "cell_type": "code",
   "execution_count": 205,
   "metadata": {},
   "outputs": [],
   "source": [
    "# calcluate residuals\n",
    "# start with cell means\n",
    "means = [[ab11_sum / n, ab12_sum / n, ab13_sum / n], \n",
    "         [ab21_sum / n, ab22_sum / n, ab23_sum / n], \n",
    "         [ab31_sum / n, ab32_sum / n, ab33_sum / n] ]\n",
    "# add column for residuals\n",
    "data['Residuals'] = pd.Series(index=data.index)\n",
    "# now subtract corresponding mean from each value\n",
    "flipdata = data.transpose()\n",
    "for row in flipdata:\n",
    "    col = flipdata[row]\n",
    "    i = int(col['A'] - 1)\n",
    "    j = int(col['B'] )\n",
    "    col['Residuals'] = col['Y'] - means[i][j]\n",
    "\n",
    "data1 = flipdata.transpose()"
   ]
  },
  {
   "cell_type": "code",
   "execution_count": 206,
   "metadata": {},
   "outputs": [
    {
     "data": {
      "text/html": [
       "<div>\n",
       "<style scoped>\n",
       "    .dataframe tbody tr th:only-of-type {\n",
       "        vertical-align: middle;\n",
       "    }\n",
       "\n",
       "    .dataframe tbody tr th {\n",
       "        vertical-align: top;\n",
       "    }\n",
       "\n",
       "    .dataframe thead th {\n",
       "        text-align: right;\n",
       "    }\n",
       "</style>\n",
       "<table border=\"1\" class=\"dataframe\">\n",
       "  <thead>\n",
       "    <tr style=\"text-align: right;\">\n",
       "      <th></th>\n",
       "      <th>A</th>\n",
       "      <th>B</th>\n",
       "      <th>Y</th>\n",
       "      <th>Residuals</th>\n",
       "    </tr>\n",
       "  </thead>\n",
       "  <tbody>\n",
       "    <tr>\n",
       "      <th>0</th>\n",
       "      <td>1.0</td>\n",
       "      <td>0.0</td>\n",
       "      <td>130.0</td>\n",
       "      <td>72.75</td>\n",
       "    </tr>\n",
       "    <tr>\n",
       "      <th>1</th>\n",
       "      <td>1.0</td>\n",
       "      <td>0.0</td>\n",
       "      <td>155.0</td>\n",
       "      <td>97.75</td>\n",
       "    </tr>\n",
       "    <tr>\n",
       "      <th>2</th>\n",
       "      <td>1.0</td>\n",
       "      <td>1.0</td>\n",
       "      <td>34.0</td>\n",
       "      <td>-23.50</td>\n",
       "    </tr>\n",
       "    <tr>\n",
       "      <th>3</th>\n",
       "      <td>1.0</td>\n",
       "      <td>1.0</td>\n",
       "      <td>40.0</td>\n",
       "      <td>-17.50</td>\n",
       "    </tr>\n",
       "    <tr>\n",
       "      <th>4</th>\n",
       "      <td>1.0</td>\n",
       "      <td>2.0</td>\n",
       "      <td>20.0</td>\n",
       "      <td>-114.75</td>\n",
       "    </tr>\n",
       "    <tr>\n",
       "      <th>5</th>\n",
       "      <td>1.0</td>\n",
       "      <td>2.0</td>\n",
       "      <td>70.0</td>\n",
       "      <td>-64.75</td>\n",
       "    </tr>\n",
       "    <tr>\n",
       "      <th>6</th>\n",
       "      <td>1.0</td>\n",
       "      <td>0.0</td>\n",
       "      <td>74.0</td>\n",
       "      <td>16.75</td>\n",
       "    </tr>\n",
       "    <tr>\n",
       "      <th>7</th>\n",
       "      <td>1.0</td>\n",
       "      <td>0.0</td>\n",
       "      <td>180.0</td>\n",
       "      <td>122.75</td>\n",
       "    </tr>\n",
       "    <tr>\n",
       "      <th>8</th>\n",
       "      <td>1.0</td>\n",
       "      <td>1.0</td>\n",
       "      <td>80.0</td>\n",
       "      <td>22.50</td>\n",
       "    </tr>\n",
       "    <tr>\n",
       "      <th>9</th>\n",
       "      <td>1.0</td>\n",
       "      <td>1.0</td>\n",
       "      <td>75.0</td>\n",
       "      <td>17.50</td>\n",
       "    </tr>\n",
       "    <tr>\n",
       "      <th>10</th>\n",
       "      <td>1.0</td>\n",
       "      <td>2.0</td>\n",
       "      <td>82.0</td>\n",
       "      <td>-52.75</td>\n",
       "    </tr>\n",
       "    <tr>\n",
       "      <th>11</th>\n",
       "      <td>1.0</td>\n",
       "      <td>2.0</td>\n",
       "      <td>58.0</td>\n",
       "      <td>-76.75</td>\n",
       "    </tr>\n",
       "    <tr>\n",
       "      <th>12</th>\n",
       "      <td>2.0</td>\n",
       "      <td>0.0</td>\n",
       "      <td>150.0</td>\n",
       "      <td>30.25</td>\n",
       "    </tr>\n",
       "    <tr>\n",
       "      <th>13</th>\n",
       "      <td>2.0</td>\n",
       "      <td>0.0</td>\n",
       "      <td>188.0</td>\n",
       "      <td>68.25</td>\n",
       "    </tr>\n",
       "    <tr>\n",
       "      <th>14</th>\n",
       "      <td>2.0</td>\n",
       "      <td>1.0</td>\n",
       "      <td>136.0</td>\n",
       "      <td>86.50</td>\n",
       "    </tr>\n",
       "    <tr>\n",
       "      <th>15</th>\n",
       "      <td>2.0</td>\n",
       "      <td>1.0</td>\n",
       "      <td>122.0</td>\n",
       "      <td>72.50</td>\n",
       "    </tr>\n",
       "    <tr>\n",
       "      <th>16</th>\n",
       "      <td>2.0</td>\n",
       "      <td>2.0</td>\n",
       "      <td>25.0</td>\n",
       "      <td>-130.75</td>\n",
       "    </tr>\n",
       "    <tr>\n",
       "      <th>17</th>\n",
       "      <td>2.0</td>\n",
       "      <td>2.0</td>\n",
       "      <td>70.0</td>\n",
       "      <td>-85.75</td>\n",
       "    </tr>\n",
       "    <tr>\n",
       "      <th>18</th>\n",
       "      <td>2.0</td>\n",
       "      <td>0.0</td>\n",
       "      <td>159.0</td>\n",
       "      <td>39.25</td>\n",
       "    </tr>\n",
       "    <tr>\n",
       "      <th>19</th>\n",
       "      <td>2.0</td>\n",
       "      <td>0.0</td>\n",
       "      <td>126.0</td>\n",
       "      <td>6.25</td>\n",
       "    </tr>\n",
       "    <tr>\n",
       "      <th>20</th>\n",
       "      <td>2.0</td>\n",
       "      <td>1.0</td>\n",
       "      <td>106.0</td>\n",
       "      <td>56.50</td>\n",
       "    </tr>\n",
       "    <tr>\n",
       "      <th>21</th>\n",
       "      <td>2.0</td>\n",
       "      <td>1.0</td>\n",
       "      <td>115.0</td>\n",
       "      <td>65.50</td>\n",
       "    </tr>\n",
       "    <tr>\n",
       "      <th>22</th>\n",
       "      <td>2.0</td>\n",
       "      <td>2.0</td>\n",
       "      <td>58.0</td>\n",
       "      <td>-97.75</td>\n",
       "    </tr>\n",
       "    <tr>\n",
       "      <th>23</th>\n",
       "      <td>2.0</td>\n",
       "      <td>2.0</td>\n",
       "      <td>45.0</td>\n",
       "      <td>-110.75</td>\n",
       "    </tr>\n",
       "    <tr>\n",
       "      <th>24</th>\n",
       "      <td>3.0</td>\n",
       "      <td>0.0</td>\n",
       "      <td>138.0</td>\n",
       "      <td>-7.75</td>\n",
       "    </tr>\n",
       "    <tr>\n",
       "      <th>25</th>\n",
       "      <td>3.0</td>\n",
       "      <td>0.0</td>\n",
       "      <td>110.0</td>\n",
       "      <td>-35.75</td>\n",
       "    </tr>\n",
       "    <tr>\n",
       "      <th>26</th>\n",
       "      <td>3.0</td>\n",
       "      <td>1.0</td>\n",
       "      <td>174.0</td>\n",
       "      <td>88.50</td>\n",
       "    </tr>\n",
       "    <tr>\n",
       "      <th>27</th>\n",
       "      <td>3.0</td>\n",
       "      <td>1.0</td>\n",
       "      <td>120.0</td>\n",
       "      <td>34.50</td>\n",
       "    </tr>\n",
       "    <tr>\n",
       "      <th>28</th>\n",
       "      <td>3.0</td>\n",
       "      <td>2.0</td>\n",
       "      <td>96.0</td>\n",
       "      <td>-48.00</td>\n",
       "    </tr>\n",
       "    <tr>\n",
       "      <th>29</th>\n",
       "      <td>3.0</td>\n",
       "      <td>2.0</td>\n",
       "      <td>104.0</td>\n",
       "      <td>-40.00</td>\n",
       "    </tr>\n",
       "    <tr>\n",
       "      <th>30</th>\n",
       "      <td>3.0</td>\n",
       "      <td>0.0</td>\n",
       "      <td>168.0</td>\n",
       "      <td>22.25</td>\n",
       "    </tr>\n",
       "    <tr>\n",
       "      <th>31</th>\n",
       "      <td>3.0</td>\n",
       "      <td>0.0</td>\n",
       "      <td>160.0</td>\n",
       "      <td>14.25</td>\n",
       "    </tr>\n",
       "    <tr>\n",
       "      <th>32</th>\n",
       "      <td>3.0</td>\n",
       "      <td>1.0</td>\n",
       "      <td>150.0</td>\n",
       "      <td>64.50</td>\n",
       "    </tr>\n",
       "    <tr>\n",
       "      <th>33</th>\n",
       "      <td>3.0</td>\n",
       "      <td>1.0</td>\n",
       "      <td>139.0</td>\n",
       "      <td>53.50</td>\n",
       "    </tr>\n",
       "    <tr>\n",
       "      <th>34</th>\n",
       "      <td>3.0</td>\n",
       "      <td>2.0</td>\n",
       "      <td>82.0</td>\n",
       "      <td>-62.00</td>\n",
       "    </tr>\n",
       "    <tr>\n",
       "      <th>35</th>\n",
       "      <td>3.0</td>\n",
       "      <td>2.0</td>\n",
       "      <td>60.0</td>\n",
       "      <td>-84.00</td>\n",
       "    </tr>\n",
       "  </tbody>\n",
       "</table>\n",
       "</div>"
      ],
      "text/plain": [
       "      A    B      Y  Residuals\n",
       "0   1.0  0.0  130.0      72.75\n",
       "1   1.0  0.0  155.0      97.75\n",
       "2   1.0  1.0   34.0     -23.50\n",
       "3   1.0  1.0   40.0     -17.50\n",
       "4   1.0  2.0   20.0    -114.75\n",
       "5   1.0  2.0   70.0     -64.75\n",
       "6   1.0  0.0   74.0      16.75\n",
       "7   1.0  0.0  180.0     122.75\n",
       "8   1.0  1.0   80.0      22.50\n",
       "9   1.0  1.0   75.0      17.50\n",
       "10  1.0  2.0   82.0     -52.75\n",
       "11  1.0  2.0   58.0     -76.75\n",
       "12  2.0  0.0  150.0      30.25\n",
       "13  2.0  0.0  188.0      68.25\n",
       "14  2.0  1.0  136.0      86.50\n",
       "15  2.0  1.0  122.0      72.50\n",
       "16  2.0  2.0   25.0    -130.75\n",
       "17  2.0  2.0   70.0     -85.75\n",
       "18  2.0  0.0  159.0      39.25\n",
       "19  2.0  0.0  126.0       6.25\n",
       "20  2.0  1.0  106.0      56.50\n",
       "21  2.0  1.0  115.0      65.50\n",
       "22  2.0  2.0   58.0     -97.75\n",
       "23  2.0  2.0   45.0    -110.75\n",
       "24  3.0  0.0  138.0      -7.75\n",
       "25  3.0  0.0  110.0     -35.75\n",
       "26  3.0  1.0  174.0      88.50\n",
       "27  3.0  1.0  120.0      34.50\n",
       "28  3.0  2.0   96.0     -48.00\n",
       "29  3.0  2.0  104.0     -40.00\n",
       "30  3.0  0.0  168.0      22.25\n",
       "31  3.0  0.0  160.0      14.25\n",
       "32  3.0  1.0  150.0      64.50\n",
       "33  3.0  1.0  139.0      53.50\n",
       "34  3.0  2.0   82.0     -62.00\n",
       "35  3.0  2.0   60.0     -84.00"
      ]
     },
     "execution_count": 206,
     "metadata": {},
     "output_type": "execute_result"
    }
   ],
   "source": [
    "data1"
   ]
  },
  {
   "cell_type": "code",
   "execution_count": 207,
   "metadata": {},
   "outputs": [
    {
     "data": {
      "text/plain": [
       "<matplotlib.axes._subplots.AxesSubplot at 0x1e088c66048>"
      ]
     },
     "execution_count": 207,
     "metadata": {},
     "output_type": "execute_result"
    },
    {
     "data": {
      "image/png": "[encoded data removed]",
      "text/plain": [
       "<Figure size 432x288 with 1 Axes>"
      ]
     },
     "metadata": {},
     "output_type": "display_data"
    }
   ],
   "source": [
    "data1.Residuals.plot.density()"
   ]
  },
  {
   "cell_type": "code",
   "execution_count": 210,
   "metadata": {},
   "outputs": [
    {
     "data": {
      "text/plain": [
       "<matplotlib.collections.PathCollection at 0x1e088e4fb00>"
      ]
     },
     "execution_count": 210,
     "metadata": {},
     "output_type": "execute_result"
    },
    {
     "data": {
      "image/png": "[encoded data removed]",
      "text/plain": [
       "<Figure size 432x288 with 1 Axes>"
      ]
     },
     "metadata": {},
     "output_type": "display_data"
    }
   ],
   "source": [
    "ax = plt.subplot(111)\n",
    "ax.set_xlabel('Material')\n",
    "ax.set_ylabel('Residual')\n",
    "ax.set_xticks([1, 2, 3], minor=False)\n",
    "plt.scatter(data1.A, data1.Residuals)"
   ]
  },
  {
   "cell_type": "code",
   "execution_count": 211,
   "metadata": {},
   "outputs": [
    {
     "data": {
      "text/plain": [
       "<matplotlib.collections.PathCollection at 0x1e088e97d68>"
      ]
     },
     "execution_count": 211,
     "metadata": {},
     "output_type": "execute_result"
    },
    {
     "data": {
      "image/png": "[encoded data removed]",
      "text/plain": [
       "<Figure size 432x288 with 1 Axes>"
      ]
     },
     "metadata": {},
     "output_type": "display_data"
    }
   ],
   "source": [
    "ax = plt.subplot(111)\n",
    "ax.set_xlabel('Temperature')\n",
    "ax.set_ylabel('Residual')\n",
    "ax.set_xticks([1, 2, 3], minor=False)\n",
    "plt.scatter(data1.B, data1.Residuals)"
   ]
  },
  {
   "cell_type": "markdown",
   "metadata": {},
   "source": [
    "The probability density plot shows possible multi-modality and the temperature residuals show signs of abnormality.\n",
    "\n",
    "_ _ _\n",
    "\n",
    "### 14-5 (a) Write a model for the experiment\n",
    "\n",
    "$Y_{ijk} = \\mu+ \\tau_{i} + \\beta{j} + (\\tau\\beta)_{ij} + \\epsilon_{ijk}$ for $i = 1, 2, 3$; $j = 1, 2, 3, 4$; $k = 1, 2, 3, 4, 5, 6$  \n",
    "\n",
    "### 14-5 (b) test the hypotheses with $\\alpha = 0.05$"
   ]
  },
  {
   "cell_type": "code",
   "execution_count": 228,
   "metadata": {},
   "outputs": [],
   "source": [
    "# load new data\n",
    "data = pd.DataFrame({'A': [1, 1, 2, 2, 3, 3, 1, 1, 2, 2, 3, 3, \n",
    "                           1, 1, 2, 2, 3, 3, 1, 1, 2, 2, 3, 3, \n",
    "                           1, 1, 2, 2, 3, 3, 1, 1, 2, 2, 3, 3,\n",
    "                           1, 1, 2, 2, 3, 3, 1, 1, 2, 2, 3, 3, \n",
    "                           1, 1, 2, 2, 3, 3, 1, 1, 2, 2, 3, 3, \n",
    "                           1, 1, 2, 2, 3, 3, 1, 1, 2, 2, 3, 3], \n",
    "                     'B': [1, 1, 1, 1, 1, 1, 1, 1, 1, 1, 1, 1, \n",
    "                           1, 1, 1, 1, 1, 1, 2, 2, 2, 2, 2, 2, \n",
    "                           2, 2, 2, 2, 2, 2, 2, 2, 2, 2, 2, 2,\n",
    "                           3, 3, 3, 3, 3, 3, 3, 3, 3, 3, 3, 3, \n",
    "                           3, 3, 3, 3, 3, 3, 4, 4, 4, 4, 4, 4, \n",
    "                           4, 4, 4, 4, 4, 4, 4, 4, 4, 4, 4, 4],\n",
    "                     'Y': [6.6, 4.0, 4.5, 2.2, 2.3, 0.9, 2.7, 6.2, 5.5, 2.7, 5.6, 4.9, \n",
    "                           6.0, 5.0, 4.8, 5.8, 2.2, 3.4, 3.0, 3.2, 3.0, 1.5, 1.3, 3.3, \n",
    "                           2.1, 4.1, 2.5, 2.6, 0.5, 1.1, 5.9, 2.5, 0.4, 3.5, 1.7, 0.1, \n",
    "                           5.7, 4.4, 8.9, 7.7, 2.6, 9.9, 3.2, 3.2, 7.0, 7.3, 11.5, 10.5, \n",
    "                           5.3, 9.7, 8.0, 2.2, 3.4, 6.7, 7.0, 8.9, 12.0, 9.7, 8.3, 8.0, \n",
    "                           7.3, 9.0, 8.5, 10.8, 10.4, 9.7, 8.6, 11.3, 7.9, 7.3, 10.6, 7.4]})"
   ]
  },
  {
   "cell_type": "code",
   "execution_count": 229,
   "metadata": {},
   "outputs": [],
   "source": [
    "# quick summary stats\n",
    "total_sum = data['Y'].sum()\n",
    "a = len(data.A.unique())\n",
    "b = len(data.B.unique())\n",
    "N = len(data.Y)\n",
    "n = N / ( a * b )\n",
    "big_mean_square = (total_sum**2) / N"
   ]
  },
  {
   "cell_type": "code",
   "execution_count": 230,
   "metadata": {},
   "outputs": [],
   "source": [
    "# calculate totals\n",
    "# transpose the data to iterate\n",
    "flipdata = data.transpose()\n",
    "# initialize totals\n",
    "a1_sum = a2_sum = a3_sum = b1_sum = b2_sum = b3_sum = b4_sum = 0\n",
    "a1_count = a2_count = a3_count = b1_count = b2_count = b3_count = b4_count = 0\n",
    "ab11_sum = ab12_sum = ab13_sum = ab14_sum = 0\n",
    "ab21_sum = ab22_sum = ab23_sum = ab24_sum = 0\n",
    "ab31_sum = ab32_sum = ab33_sum = ab34_sum = 0\n",
    "for row in flipdata:\n",
    "    col = flipdata[row]\n",
    "    y = col['Y']\n",
    "    if col['A'] == 1:\n",
    "        a1_sum += y\n",
    "        a1_count += 1\n",
    "        if col['B'] == 1:\n",
    "            b1_sum += y\n",
    "            b1_count += 1\n",
    "            ab11_sum += y\n",
    "        elif col['B'] == 2:\n",
    "            b2_sum += y\n",
    "            b2_count += 1\n",
    "            ab12_sum += y\n",
    "        elif col['B'] == 3:\n",
    "            b3_sum += y\n",
    "            b3_count += 1\n",
    "            ab13_sum += y\n",
    "        else:\n",
    "            b4_sum += y\n",
    "            b4_count += 1\n",
    "            ab14_sum += y\n",
    "    elif col['A'] == 2:\n",
    "        a2_sum += y\n",
    "        a2_count += 1\n",
    "        if col['B'] == 1:\n",
    "            b1_sum += y\n",
    "            b1_count +=1\n",
    "            ab21_sum += y\n",
    "        elif col['B'] == 2:\n",
    "            b2_sum += y\n",
    "            b2_count += 1\n",
    "            ab22_sum += y\n",
    "        elif col['B'] == 3:\n",
    "            b3_sum += y\n",
    "            b3_count += 1\n",
    "            ab23_sum +=y\n",
    "        else:\n",
    "            b4_sum += y\n",
    "            b4_count += 1\n",
    "            ab24_sum +=y\n",
    "    else:\n",
    "        a3_sum += y\n",
    "        a3_count += 1\n",
    "        if col['B'] == 1:\n",
    "            b1_sum += y\n",
    "            b1_count +=1\n",
    "            ab31_sum += y\n",
    "        elif col['B'] == 2:\n",
    "            b2_sum += y\n",
    "            b2_count += 1\n",
    "            ab32_sum += y\n",
    "        elif col['B'] == 3:\n",
    "            b3_sum += y\n",
    "            b3_count += 1\n",
    "            ab33_sum +=y\n",
    "        else:\n",
    "            b4_sum += y\n",
    "            b4_count += 1\n",
    "            ab34_sum +=y\n"
   ]
  },
  {
   "cell_type": "code",
   "execution_count": 237,
   "metadata": {},
   "outputs": [
    {
     "name": "stdout",
     "output_type": "stream",
     "text": [
      "F_0 for Temperature is 0.38\n",
      "F_0 for Insulator is 47.41\n",
      "F_0 for Interaction is 2.01\n",
      "P-value for Material is 0.6831681486770953\n",
      "P-value for Temperature is 6.200504324851501e-17\n",
      "P-value for Interaction is 0.07500102328525304\n"
     ]
    }
   ],
   "source": [
    "# SST all the responses squared minus big mean square\n",
    "squares = data['Y']**2\n",
    "SST = squares.sum() - big_mean_square\n",
    "\n",
    "# SSA = sum of each group squared / bn - big_mean_square\n",
    "SSA = (a1_sum ** 2 + a2_sum ** 2 + a3_sum ** 2)/(b*n) - big_mean_square\n",
    "\n",
    "# SSB = sum of each group squared / bn - big_mean_square\n",
    "SSB = (b1_sum ** 2 + b2_sum ** 2 + \n",
    "       b3_sum ** 2 + b4_sum ** 2)/(a*n) - big_mean_square\n",
    "\n",
    "# SSAB = sum of each pair of treatments squared / n - big_mean_square\n",
    "SSAB = (ab11_sum ** 2 + ab12_sum ** 2 + ab13_sum ** 2 + ab14_sum ** 2 + \n",
    "        ab21_sum ** 2 + ab22_sum ** 2 + ab23_sum ** 2 + ab24_sum ** 2 + \n",
    "        ab31_sum ** 2 + ab32_sum ** 2 + ab33_sum ** 2 + ab34_sum ** 2) / n \n",
    "SSAB = SSAB - big_mean_square - SSA - SSB\n",
    "\n",
    "## SSE = SST - SSA - SSB - SSAB\n",
    "SSE = SST - SSA - SSB - SSAB\n",
    "\n",
    "# degrees of freedom for each Sum of Squares\n",
    "df_a = a - 1\n",
    "df_b = b - 1\n",
    "df_ab = df_a * df_b\n",
    "df_error = a * b * n - 1\n",
    "\n",
    "# MSA, MSB, MSAB, MSE = SS/df\n",
    "MSA = SSA/df_a\n",
    "MSB = SSB/df_b\n",
    "MSAB = SSAB/df_ab\n",
    "MSE = SSE/df_error\n",
    "F_0A = MSA/MSE\n",
    "F_0B = MSB/MSE\n",
    "F_0AB = MSAB/MSE\n",
    "print('F_0 for Temperature is {}'.format(F_0A.round(2)))\n",
    "print('F_0 for Insulator is {}'.format(F_0B.round(2)))\n",
    "print('F_0 for Interaction is {}'.format(F_0AB.round(2)))\n",
    "\n",
    "# P-values\n",
    "A_p = stats.f.sf(F_0A, df_a, df_error)\n",
    "B_p = stats.f.sf(F_0B, df_b, df_error)\n",
    "AB_p = stats.f.sf(F_0AB, df_ab, df_error)\n",
    "print('P-value for Material is {}'.format(A_p))\n",
    "print('P-value for Temperature is {}'.format(B_p))\n",
    "print('P-value for Interaction is {}'.format(AB_p))"
   ]
  },
  {
   "cell_type": "markdown",
   "metadata": {},
   "source": [
    "With *p*-values of 0.6, $\\approx0$ and 0.075, only reject $H_{0}$ for Insulation\n",
    "\n",
    "### 14-5 (c) Grahpically analyze\n"
   ]
  },
  {
   "cell_type": "code",
   "execution_count": 240,
   "metadata": {},
   "outputs": [
    {
     "data": {
      "image/png": "[encoded data removed]",
      "text/plain": [
       "<Figure size 432x288 with 1 Axes>"
      ]
     },
     "metadata": {},
     "output_type": "display_data"
    }
   ],
   "source": [
    "# plot the mean values for each cell\n",
    "ins1_avgs = [ab11_sum/6, ab21_sum/6, ab31_sum/6]\n",
    "ins2_avgs = [ab12_sum/6, ab22_sum/6, ab32_sum/6]\n",
    "ins3_avgs = [ab13_sum/6, ab23_sum/6, ab33_sum/6]\n",
    "ins4_avgs = [ab14_sum/6, ab24_sum/6, ab34_sum/6]\n",
    "\n",
    "ax = plt.subplot(111)\n",
    "\n",
    "plt.plot([1, 2, 3], ins1_avgs, label='Insulator 1')\n",
    "plt.plot([1, 2, 3], ins2_avgs, label='Insulator 2')\n",
    "plt.plot([1, 2, 3], ins3_avgs, label='Insulator 3')\n",
    "plt.plot([1, 2, 3], ins4_avgs, label='Insulator 4')\n",
    "ax.set_xlabel('Temperature')\n",
    "ax.set_ylabel('Response')\n",
    "ax.set_xticks(ticks=[1.0, 2.0, 3.0], minor=False)\n",
    "plt.legend()\n",
    "plt.show()"
   ]
  },
  {
   "cell_type": "markdown",
   "metadata": {},
   "source": [
    "### 14-5 (d) Analyze Residuals"
   ]
  },
  {
   "cell_type": "code",
   "execution_count": 241,
   "metadata": {},
   "outputs": [],
   "source": [
    "# calcluate residuals\n",
    "# start with cell means\n",
    "means = [[ab11_sum / n, ab12_sum / n, ab13_sum / n, ab14_sum / n], \n",
    "         [ab21_sum / n, ab22_sum / n, ab23_sum / n, ab24_sum / n], \n",
    "         [ab31_sum / n, ab32_sum / n, ab33_sum / n, ab34_sum / n] ]\n",
    "# add column for residuals\n",
    "data['Residuals'] = pd.Series(index=data.index)\n",
    "# now subtract corresponding mean from each value\n",
    "flipdata = data.transpose()\n",
    "for row in flipdata:\n",
    "    col = flipdata[row]\n",
    "    i = int(col['A'] - 1 )\n",
    "    j = int(col['B'] - 1 )\n",
    "    col['Residuals'] = col['Y'] - means[i][j]\n",
    "\n",
    "data1 = flipdata.transpose()"
   ]
  },
  {
   "cell_type": "code",
   "execution_count": 242,
   "metadata": {},
   "outputs": [
    {
     "data": {
      "text/plain": [
       "<matplotlib.axes._subplots.AxesSubplot at 0x1e088d2deb8>"
      ]
     },
     "execution_count": 242,
     "metadata": {},
     "output_type": "execute_result"
    },
    {
     "data": {
      "image/png": "[encoded data removed]",
      "text/plain": [
       "<Figure size 432x288 with 1 Axes>"
      ]
     },
     "metadata": {},
     "output_type": "display_data"
    }
   ],
   "source": [
    "data1.Residuals.plot.density()"
   ]
  },
  {
   "cell_type": "code",
   "execution_count": 244,
   "metadata": {},
   "outputs": [
    {
     "data": {
      "text/plain": [
       "<matplotlib.collections.PathCollection at 0x1e088bbc048>"
      ]
     },
     "execution_count": 244,
     "metadata": {},
     "output_type": "execute_result"
    },
    {
     "data": {
      "image/png": "[encoded data removed]",
      "text/plain": [
       "<Figure size 432x288 with 1 Axes>"
      ]
     },
     "metadata": {},
     "output_type": "display_data"
    }
   ],
   "source": [
    "ax = plt.subplot(111)\n",
    "ax.set_xlabel('Temperature')\n",
    "ax.set_ylabel('Residual')\n",
    "ax.set_xticks([1, 2, 3], minor=False)\n",
    "plt.scatter(data1.A, data1.Residuals)"
   ]
  },
  {
   "cell_type": "code",
   "execution_count": 245,
   "metadata": {},
   "outputs": [
    {
     "data": {
      "text/plain": [
       "<matplotlib.collections.PathCollection at 0x1e088efa080>"
      ]
     },
     "execution_count": 245,
     "metadata": {},
     "output_type": "execute_result"
    },
    {
     "data": {
      "image/png": "[encoded data removed]",
      "text/plain": [
       "<Figure size 432x288 with 1 Axes>"
      ]
     },
     "metadata": {},
     "output_type": "display_data"
    }
   ],
   "source": [
    "ax = plt.subplot(111)\n",
    "ax.set_xlabel('Insulation')\n",
    "ax.set_ylabel('Residual')\n",
    "ax.set_xticks([1, 2, 3, 4], minor=False)\n",
    "plt.scatter(data1.B, data1.Residuals)"
   ]
  },
  {
   "cell_type": "markdown",
   "metadata": {},
   "source": [
    "The residuals look reasonable. The variance of Insulator 3 may be slightly larger.\n"
   ]
  },
  {
   "cell_type": "markdown",
   "metadata": {},
   "source": [
    "## 14-7 Doping"
   ]
  },
  {
   "cell_type": "code",
   "execution_count": 261,
   "metadata": {},
   "outputs": [],
   "source": [
    "data = pd.DataFrame({'A': [1, 1, 1, 1, 1, 1, 1, 1, 1, 1, \n",
    "                           2, 2, 2, 2, 2, 2, 2, 2, 2, 2],\n",
    "                     'B': [1, 2, 3, 4, 5, 1, 2, 3, 4, 5, \n",
    "                           1, 2, 3, 4, 5, 1, 2, 3, 4, 5,], \n",
    "                     'Y': [4.40, 8.30, 10.15, 10.29, 11.01, \n",
    "                           4.60, 8.90, 10.20, 10.30, 10.58, \n",
    "                           3.2, 7.81, 9.38, 10.19, 10.81, \n",
    "                           3.5, 7.75, 10.02, 10.10, 10.60]})"
   ]
  },
  {
   "cell_type": "code",
   "execution_count": 262,
   "metadata": {},
   "outputs": [],
   "source": [
    "# quick summary stats\n",
    "total_sum = data['Y'].sum()\n",
    "a = len(data.A.unique())\n",
    "b = len(data.B.unique())\n",
    "N = len(data.Y)\n",
    "n = N / ( a * b )\n",
    "big_mean_square = (total_sum**2) / N"
   ]
  },
  {
   "cell_type": "code",
   "execution_count": 303,
   "metadata": {},
   "outputs": [],
   "source": [
    "# calculate totals\n",
    "# transpose the data to iterate\n",
    "flipdata = data.transpose()\n",
    "# initialize totals\n",
    "a1_sum = a2_sum = b1_sum = b2_sum = 0\n",
    "b3_sum = b3_count = b4_sum = b4_count = b5_sum = b5_count = 0\n",
    "a1_count = a2_count = b1_count = b2_count =  0\n",
    "ab11_sum = ab21_sum = 0\n",
    "ab12_sum = ab22_sum = 0\n",
    "ab13_sum = ab23_sum = 0\n",
    "ab14_sum = ab24_sum = 0\n",
    "ab15_sum = ab25_sum = 0\n",
    "\n",
    "for row in flipdata:\n",
    "    col = flipdata[row]\n",
    "    y = col['Y']\n",
    "    if col['A'] == 1:\n",
    "        a1_sum += y\n",
    "        a1_count += 1\n",
    "        if col['B'] == 1:\n",
    "            b1_sum += y\n",
    "            b1_count += 1\n",
    "            ab11_sum += y\n",
    "        elif col['B'] == 2:\n",
    "            b2_sum += y\n",
    "            b2_count += 1\n",
    "            ab12_sum += y\n",
    "        elif col['B'] == 3:\n",
    "            b3_sum += y\n",
    "            b3_count += 1\n",
    "            ab13_sum += y\n",
    "        elif col['B'] == 4:\n",
    "            b4_sum += y\n",
    "            b4_count += 1\n",
    "            ab14_sum += y\n",
    "        elif col['B'] == 5:\n",
    "            b5_sum += y\n",
    "            b5_count += 1\n",
    "            ab15_sum += y\n",
    "    elif col['A'] == 2:\n",
    "        a2_sum += y\n",
    "        a2_count += 1\n",
    "        if col['B'] == 1:\n",
    "            b1_sum += y\n",
    "            b1_count +=1\n",
    "            ab21_sum += y\n",
    "        elif col['B'] == 2:\n",
    "            b2_sum += y\n",
    "            b2_count += 1\n",
    "            ab22_sum += y\n",
    "        elif col['B'] == 3:\n",
    "            b3_sum += y\n",
    "            b3_count += 1\n",
    "            ab23_sum +=y\n",
    "        elif col['B'] == 4:\n",
    "            b4_sum += y\n",
    "            b4_count += 1\n",
    "            ab24_sum +=y\n",
    "        elif col['B'] == 5:\n",
    "            b5_sum += y\n",
    "            b5_count += 1\n",
    "            ab25_sum +=y\n",
    "            "
   ]
  },
  {
   "cell_type": "code",
   "execution_count": 304,
   "metadata": {},
   "outputs": [
    {
     "name": "stdout",
     "output_type": "stream",
     "text": [
      "F_0 for Doping Level is 47.94\n",
      "F_0 for Annealing Conditions is 1032.69\n",
      "F_0 for Interaction is 6.73\n",
      "P-value for Doping Level is 1.335502012284608e-06\n",
      "P-value for Annealing Conditions is 6.256594832348462e-22\n",
      "P-value for Interaction is 0.0015055853982941872\n"
     ]
    }
   ],
   "source": [
    "# SST all the responses squared minus big mean square\n",
    "squares = data['Y']**2\n",
    "SST = squares.sum() - big_mean_square\n",
    "\n",
    "# SSA = sum of each group squared / bn - big_mean_square\n",
    "SSA = (a1_sum ** 2 + a2_sum ** 2 )/(b*n) - big_mean_square\n",
    "\n",
    "# SSB = sum of each group squared / bn - big_mean_square\n",
    "SSB = (b1_sum ** 2 + b2_sum ** 2 + b3_sum ** 2 + b4_sum ** 2 + b5_sum ** 2)/(a*n) - big_mean_square\n",
    "\n",
    "# SSAB = sum of each pair of treatments squared / n - big_mean_square\n",
    "SSAB = (ab11_sum ** 2 + ab12_sum ** 2 + ab13_sum ** 2 + ab14_sum ** 2 + \n",
    "        ab15_sum ** 2 + ab21_sum ** 2 + ab22_sum ** 2 + ab23_sum ** 2 + \n",
    "        ab24_sum ** 2 + ab25_sum ** 2 ) / n \n",
    "SSAB = SSAB - big_mean_square - SSA - SSB\n",
    "\n",
    "## SSE = SST - SSA - SSB - SSAB\n",
    "SSE = SST - SSA - SSB - SSAB\n",
    "\n",
    "# degrees of freedom for each Sum of Squares\n",
    "df_a = a - 1\n",
    "df_b = b - 1\n",
    "df_ab = df_a * df_b\n",
    "df_error = a * b * n - 1\n",
    "\n",
    "# MSA, MSB, MSAB, MSE = SS/df\n",
    "MSA = SSA/df_a\n",
    "MSB = SSB/df_b\n",
    "MSAB = SSAB/df_ab\n",
    "MSE = SSE/df_error\n",
    "F_0A = MSA/MSE\n",
    "F_0B = MSB/MSE\n",
    "F_0AB = MSAB/MSE\n",
    "print('F_0 for Doping Level is {}'.format(F_0A.round(2)))\n",
    "print('F_0 for Annealing Conditions is {}'.format(F_0B.round(2)))\n",
    "print('F_0 for Interaction is {}'.format(F_0AB.round(2)))\n",
    "\n",
    "# P-values\n",
    "A_p = stats.f.sf(F_0A, df_a, df_error)\n",
    "B_p = stats.f.sf(F_0B, df_b, df_error)\n",
    "AB_p = stats.f.sf(F_0AB, df_ab, df_error)\n",
    "print('P-value for Doping Level is {}'.format(A_p))\n",
    "print('P-value for Annealing Conditions is {}'.format(B_p))\n",
    "print('P-value for Interaction is {}'.format(AB_p))"
   ]
  },
  {
   "cell_type": "markdown",
   "metadata": {},
   "source": [
    "Reject $H_{0}$ for main effects and interaction."
   ]
  },
  {
   "cell_type": "code",
   "execution_count": 285,
   "metadata": {},
   "outputs": [
    {
     "data": {
      "image/png": "[encoded data removed]",
      "text/plain": [
       "<Figure size 432x288 with 1 Axes>"
      ]
     },
     "metadata": {},
     "output_type": "display_data"
    }
   ],
   "source": [
    "# plot the mean values for each cell\n",
    "ann1_avgs = [ab11_sum/2, ab21_sum/2]\n",
    "ann2_avgs = [ab12_sum/2, ab22_sum/2]\n",
    "ann3_avgs = [ab13_sum/2, ab23_sum/2]\n",
    "ann4_avgs = [ab14_sum/2, ab24_sum/2]\n",
    "ann5_avgs = [ab15_sum/2, ab25_sum/2]\n",
    "\n",
    "ax = plt.subplot(111)\n",
    "\n",
    "plt.plot([1, 2], ann1_avgs, label='Condition 1')\n",
    "plt.plot([1, 2], ann2_avgs, label='Condition 2')\n",
    "plt.plot([1, 2], ann3_avgs, label='Condition 3')\n",
    "plt.plot([1, 2], ann4_avgs, label='Condition 4')\n",
    "plt.plot([1, 2], ann5_avgs, label='Condition 5')\n",
    "ax.set_xlabel('Doping Method')\n",
    "ax.set_ylabel('Response')\n",
    "ax.set_xticks(ticks=[1.0, 2.0], minor=False)\n",
    "plt.legend()\n",
    "plt.show()"
   ]
  },
  {
   "cell_type": "code",
   "execution_count": 306,
   "metadata": {},
   "outputs": [],
   "source": [
    "# calcluate residuals\n",
    "# start with cell means\n",
    "means = [[ab11_sum / n, ab12_sum / n, ab13_sum / n, ab14_sum / n, ab15_sum / n], \n",
    "         [ab21_sum / n, ab22_sum / n, ab23_sum / n, ab24_sum / n, ab25_sum / n]]\n",
    "# add column for residuals\n",
    "data['Residuals'] = pd.Series(index=data.index)\n",
    "# now subtract corresponding mean from each value\n",
    "flipdata = data.transpose()\n",
    "for row in flipdata:\n",
    "    col = flipdata[row]\n",
    "    i = int(col['A'] - 1 )\n",
    "    j = int(col['B'] - 1 )\n",
    "    col['Residuals'] = col['Y'] - means[i][j]\n",
    "\n",
    "data1 = flipdata.transpose()"
   ]
  },
  {
   "cell_type": "code",
   "execution_count": 307,
   "metadata": {},
   "outputs": [
    {
     "data": {
      "text/plain": [
       "<matplotlib.axes._subplots.AxesSubplot at 0x1e089080eb8>"
      ]
     },
     "execution_count": 307,
     "metadata": {},
     "output_type": "execute_result"
    },
    {
     "data": {
      "image/png": "[encoded data removed]",
      "text/plain": [
       "<Figure size 432x288 with 1 Axes>"
      ]
     },
     "metadata": {},
     "output_type": "display_data"
    }
   ],
   "source": [
    "data1.Residuals.plot.density()"
   ]
  },
  {
   "cell_type": "code",
   "execution_count": 308,
   "metadata": {},
   "outputs": [
    {
     "data": {
      "text/plain": [
       "<matplotlib.collections.PathCollection at 0x1e08920ad68>"
      ]
     },
     "execution_count": 308,
     "metadata": {},
     "output_type": "execute_result"
    },
    {
     "data": {
      "image/png": "[encoded data removed]",
      "text/plain": [
       "<Figure size 432x288 with 1 Axes>"
      ]
     },
     "metadata": {},
     "output_type": "display_data"
    }
   ],
   "source": [
    "ax = plt.subplot(111)\n",
    "ax.set_xlabel('Doping Method')\n",
    "ax.set_ylabel('Residual')\n",
    "ax.set_xticks([1, 2], minor=False)\n",
    "plt.scatter(data1.A, data1.Residuals)"
   ]
  },
  {
   "cell_type": "code",
   "execution_count": 309,
   "metadata": {},
   "outputs": [
    {
     "data": {
      "text/plain": [
       "<matplotlib.collections.PathCollection at 0x1e08a22f710>"
      ]
     },
     "execution_count": 309,
     "metadata": {},
     "output_type": "execute_result"
    },
    {
     "data": {
      "image/png": "[encoded data removed]",
      "text/plain": [
       "<Figure size 432x288 with 1 Axes>"
      ]
     },
     "metadata": {},
     "output_type": "display_data"
    }
   ],
   "source": [
    "ax = plt.subplot(111)\n",
    "ax.set_xlabel('Annealing Conditions')\n",
    "ax.set_ylabel('Residual')\n",
    "ax.set_xticks([1, 2, 3, 4, 5], minor=False)\n",
    "plt.scatter(data1.B, data1.Residuals)"
   ]
  },
  {
   "cell_type": "markdown",
   "metadata": {},
   "source": [
    "The residuals look reasonable, with the exception of the small variance in condition 4."
   ]
  },
  {
   "cell_type": "code",
   "execution_count": null,
   "metadata": {},
   "outputs": [],
   "source": []
  }
 ],
 "metadata": {
  "kernelspec": {
   "display_name": "Python 3",
   "language": "python",
   "name": "python3"
  },
  "language_info": {
   "codemirror_mode": {
    "name": "ipython",
    "version": 3
   },
   "file_extension": ".py",
   "mimetype": "text/x-python",
   "name": "python",
   "nbconvert_exporter": "python",
   "pygments_lexer": "ipython3",
   "version": "3.6.5"
  }
 },
 "nbformat": 4,
 "nbformat_minor": 2
}
