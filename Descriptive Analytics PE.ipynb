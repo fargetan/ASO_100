{
 "cells": [
  {
   "cell_type": "markdown",
   "metadata": {},
   "source": [
    "# Descriptive Analytics\n",
    "\n",
    "This practical exercise will focus on using Python and R to provide some of the basic information regarding some set of data.\n",
    "\n",
    "We'll start by importing some modified real-world network traffic data from */data/network_traffic.csv*.\n",
    "\n",
    "Note: \n",
    "\n",
    ">The sample is a ~500K CSV with summary of some real network traffic data from the past. The dataset has ~21K rows and covers 10 local workstation IPs over a three month period. \n",
    "Half of these local IPs were compromised at some point during this period and became members of various botnets. \n",
    "Can you discover when a compromise has occurred by a change in the pattern of communication? \n",
    "\n",
    ">Each row consists of four columns:\n",
    "\n",
    ">**date**: yyyy-mm-dd (from 2006-07-01 through 2006-09-30)  \n",
    "**l_ipn**: local IP (coded as an integer from 0-9)  \n",
    "**r_asn**: remote ASN (an integer which identifies the remote ISP)  \n",
    "**f**: flows (count of connnections for that day)  \n",
    "\n",
    ">Reports of \"odd\" activity or suspicions about a machine's behavior triggered investigations on the following days (although the machine might have been compromised earlier) \n",
    "Date : IP \n",
    "08-24 : 1 \n",
    "09-04 : 5 \n",
    "09-18 : 4 \n",
    "09-26 : 3 6 \n",
    "\n",
    ">Retrieved from: http://statweb.stanford.edu/~sabatti/data.html"
   ]
  },
  {
   "cell_type": "markdown",
   "metadata": {},
   "source": [
    "## Statistics \n",
    "\n",
    "Let's begin our exploratory analysis with some basic descriptive statistics. First we'll import pandas and load the data from the csv."
   ]
  },
  {
   "cell_type": "code",
   "execution_count": 1,
   "metadata": {},
   "outputs": [],
   "source": [
    "import pandas as pd\n",
    "from pprint import pprint\n",
    "\n",
    "dta = pd.read_csv(\"data/network_traffic.csv\")"
   ]
  },
  {
   "cell_type": "markdown",
   "metadata": {},
   "source": [
    "Pandas labels rows and columns with **indices** we can use to access the data. We'll see what they are and then use them. But first we'll set the maximum rows to display so we don't fill up our screen with data."
   ]
  },
  {
   "cell_type": "code",
   "execution_count": 2,
   "metadata": {},
   "outputs": [],
   "source": [
    "pd.set_option(\"max.rows\", 15)"
   ]
  },
  {
   "cell_type": "code",
   "execution_count": 3,
   "metadata": {},
   "outputs": [
    {
     "data": {
      "text/plain": [
       "RangeIndex(start=0, stop=20803, step=1)"
      ]
     },
     "execution_count": 3,
     "metadata": {},
     "output_type": "execute_result"
    }
   ],
   "source": [
    "dta.index"
   ]
  },
  {
   "cell_type": "markdown",
   "metadata": {},
   "source": [
    "Looks like we have 20804 rows of data. How about columns? From the description, we should expect four columns."
   ]
  },
  {
   "cell_type": "code",
   "execution_count": 4,
   "metadata": {},
   "outputs": [
    {
     "data": {
      "text/plain": [
       "Index(['date', 'l_ipn', 'r_asn', 'f'], dtype='object')"
      ]
     },
     "execution_count": 4,
     "metadata": {},
     "output_type": "execute_result"
    }
   ],
   "source": [
    "dta.columns"
   ]
  },
  {
   "cell_type": "markdown",
   "metadata": {},
   "source": [
    "Using our column names and row indices we can select parts of the data.\n",
    "Using two different syntaxes we can select an entire column and Pandas will return a **Series** object, similar to a one-dimensional dataframe. First is the attribute lookup:"
   ]
  },
  {
   "cell_type": "code",
   "execution_count": 5,
   "metadata": {},
   "outputs": [
    {
     "data": {
      "text/plain": [
       "0        2006-07-01\n",
       "1        2006-07-01\n",
       "2        2006-07-01\n",
       "3        2006-07-01\n",
       "4        2006-07-01\n",
       "5        2006-07-01\n",
       "6        2006-07-01\n",
       "            ...    \n",
       "20796    2006-09-30\n",
       "20797    2006-09-30\n",
       "20798    2006-09-30\n",
       "20799    2006-09-30\n",
       "20800    2006-09-30\n",
       "20801    2006-09-30\n",
       "20802    2006-09-30\n",
       "Name: date, Length: 20803, dtype: object"
      ]
     },
     "execution_count": 5,
     "metadata": {},
     "output_type": "execute_result"
    }
   ],
   "source": [
    "dta.date"
   ]
  },
  {
   "cell_type": "markdown",
   "metadata": {},
   "source": [
    "Second is the **getitem** syntax, using our column headings:"
   ]
  },
  {
   "cell_type": "code",
   "execution_count": 6,
   "metadata": {},
   "outputs": [
    {
     "data": {
      "text/plain": [
       "0        2006-07-01\n",
       "1        2006-07-01\n",
       "2        2006-07-01\n",
       "3        2006-07-01\n",
       "4        2006-07-01\n",
       "5        2006-07-01\n",
       "6        2006-07-01\n",
       "            ...    \n",
       "20796    2006-09-30\n",
       "20797    2006-09-30\n",
       "20798    2006-09-30\n",
       "20799    2006-09-30\n",
       "20800    2006-09-30\n",
       "20801    2006-09-30\n",
       "20802    2006-09-30\n",
       "Name: date, Length: 20803, dtype: object"
      ]
     },
     "execution_count": 6,
     "metadata": {},
     "output_type": "execute_result"
    }
   ],
   "source": [
    "dta['date']"
   ]
  },
  {
   "cell_type": "markdown",
   "metadata": {},
   "source": [
    "To keep the DataFrame data type, we use a list as an index, which allows us to pull out multiple columns as well."
   ]
  },
  {
   "cell_type": "code",
   "execution_count": 7,
   "metadata": {},
   "outputs": [
    {
     "data": {
      "text/html": [
       "<div>\n",
       "<style scoped>\n",
       "    .dataframe tbody tr th:only-of-type {\n",
       "        vertical-align: middle;\n",
       "    }\n",
       "\n",
       "    .dataframe tbody tr th {\n",
       "        vertical-align: top;\n",
       "    }\n",
       "\n",
       "    .dataframe thead th {\n",
       "        text-align: right;\n",
       "    }\n",
       "</style>\n",
       "<table border=\"1\" class=\"dataframe\">\n",
       "  <thead>\n",
       "    <tr style=\"text-align: right;\">\n",
       "      <th></th>\n",
       "      <th>date</th>\n",
       "    </tr>\n",
       "  </thead>\n",
       "  <tbody>\n",
       "    <tr>\n",
       "      <th>0</th>\n",
       "      <td>2006-07-01</td>\n",
       "    </tr>\n",
       "    <tr>\n",
       "      <th>1</th>\n",
       "      <td>2006-07-01</td>\n",
       "    </tr>\n",
       "    <tr>\n",
       "      <th>2</th>\n",
       "      <td>2006-07-01</td>\n",
       "    </tr>\n",
       "    <tr>\n",
       "      <th>3</th>\n",
       "      <td>2006-07-01</td>\n",
       "    </tr>\n",
       "    <tr>\n",
       "      <th>4</th>\n",
       "      <td>2006-07-01</td>\n",
       "    </tr>\n",
       "    <tr>\n",
       "      <th>5</th>\n",
       "      <td>2006-07-01</td>\n",
       "    </tr>\n",
       "    <tr>\n",
       "      <th>6</th>\n",
       "      <td>2006-07-01</td>\n",
       "    </tr>\n",
       "    <tr>\n",
       "      <th>...</th>\n",
       "      <td>...</td>\n",
       "    </tr>\n",
       "    <tr>\n",
       "      <th>20796</th>\n",
       "      <td>2006-09-30</td>\n",
       "    </tr>\n",
       "    <tr>\n",
       "      <th>20797</th>\n",
       "      <td>2006-09-30</td>\n",
       "    </tr>\n",
       "    <tr>\n",
       "      <th>20798</th>\n",
       "      <td>2006-09-30</td>\n",
       "    </tr>\n",
       "    <tr>\n",
       "      <th>20799</th>\n",
       "      <td>2006-09-30</td>\n",
       "    </tr>\n",
       "    <tr>\n",
       "      <th>20800</th>\n",
       "      <td>2006-09-30</td>\n",
       "    </tr>\n",
       "    <tr>\n",
       "      <th>20801</th>\n",
       "      <td>2006-09-30</td>\n",
       "    </tr>\n",
       "    <tr>\n",
       "      <th>20802</th>\n",
       "      <td>2006-09-30</td>\n",
       "    </tr>\n",
       "  </tbody>\n",
       "</table>\n",
       "<p>20803 rows × 1 columns</p>\n",
       "</div>"
      ],
      "text/plain": [
       "             date\n",
       "0      2006-07-01\n",
       "1      2006-07-01\n",
       "2      2006-07-01\n",
       "3      2006-07-01\n",
       "4      2006-07-01\n",
       "5      2006-07-01\n",
       "6      2006-07-01\n",
       "...           ...\n",
       "20796  2006-09-30\n",
       "20797  2006-09-30\n",
       "20798  2006-09-30\n",
       "20799  2006-09-30\n",
       "20800  2006-09-30\n",
       "20801  2006-09-30\n",
       "20802  2006-09-30\n",
       "\n",
       "[20803 rows x 1 columns]"
      ]
     },
     "execution_count": 7,
     "metadata": {},
     "output_type": "execute_result"
    }
   ],
   "source": [
    "dta[['date']]"
   ]
  },
  {
   "cell_type": "markdown",
   "metadata": {},
   "source": [
    "Or:"
   ]
  },
  {
   "cell_type": "code",
   "execution_count": 8,
   "metadata": {},
   "outputs": [
    {
     "data": {
      "text/html": [
       "<div>\n",
       "<style scoped>\n",
       "    .dataframe tbody tr th:only-of-type {\n",
       "        vertical-align: middle;\n",
       "    }\n",
       "\n",
       "    .dataframe tbody tr th {\n",
       "        vertical-align: top;\n",
       "    }\n",
       "\n",
       "    .dataframe thead th {\n",
       "        text-align: right;\n",
       "    }\n",
       "</style>\n",
       "<table border=\"1\" class=\"dataframe\">\n",
       "  <thead>\n",
       "    <tr style=\"text-align: right;\">\n",
       "      <th></th>\n",
       "      <th>l_ipn</th>\n",
       "      <th>f</th>\n",
       "    </tr>\n",
       "  </thead>\n",
       "  <tbody>\n",
       "    <tr>\n",
       "      <th>0</th>\n",
       "      <td>0</td>\n",
       "      <td>1</td>\n",
       "    </tr>\n",
       "    <tr>\n",
       "      <th>1</th>\n",
       "      <td>0</td>\n",
       "      <td>1</td>\n",
       "    </tr>\n",
       "    <tr>\n",
       "      <th>2</th>\n",
       "      <td>0</td>\n",
       "      <td>1</td>\n",
       "    </tr>\n",
       "    <tr>\n",
       "      <th>3</th>\n",
       "      <td>0</td>\n",
       "      <td>1</td>\n",
       "    </tr>\n",
       "    <tr>\n",
       "      <th>4</th>\n",
       "      <td>0</td>\n",
       "      <td>1</td>\n",
       "    </tr>\n",
       "    <tr>\n",
       "      <th>5</th>\n",
       "      <td>0</td>\n",
       "      <td>1</td>\n",
       "    </tr>\n",
       "    <tr>\n",
       "      <th>6</th>\n",
       "      <td>0</td>\n",
       "      <td>13</td>\n",
       "    </tr>\n",
       "    <tr>\n",
       "      <th>...</th>\n",
       "      <td>...</td>\n",
       "      <td>...</td>\n",
       "    </tr>\n",
       "    <tr>\n",
       "      <th>20796</th>\n",
       "      <td>8</td>\n",
       "      <td>1</td>\n",
       "    </tr>\n",
       "    <tr>\n",
       "      <th>20797</th>\n",
       "      <td>8</td>\n",
       "      <td>1</td>\n",
       "    </tr>\n",
       "    <tr>\n",
       "      <th>20798</th>\n",
       "      <td>8</td>\n",
       "      <td>3</td>\n",
       "    </tr>\n",
       "    <tr>\n",
       "      <th>20799</th>\n",
       "      <td>8</td>\n",
       "      <td>4</td>\n",
       "    </tr>\n",
       "    <tr>\n",
       "      <th>20800</th>\n",
       "      <td>9</td>\n",
       "      <td>1</td>\n",
       "    </tr>\n",
       "    <tr>\n",
       "      <th>20801</th>\n",
       "      <td>9</td>\n",
       "      <td>1</td>\n",
       "    </tr>\n",
       "    <tr>\n",
       "      <th>20802</th>\n",
       "      <td>9</td>\n",
       "      <td>2</td>\n",
       "    </tr>\n",
       "  </tbody>\n",
       "</table>\n",
       "<p>20803 rows × 2 columns</p>\n",
       "</div>"
      ],
      "text/plain": [
       "       l_ipn   f\n",
       "0          0   1\n",
       "1          0   1\n",
       "2          0   1\n",
       "3          0   1\n",
       "4          0   1\n",
       "5          0   1\n",
       "6          0  13\n",
       "...      ...  ..\n",
       "20796      8   1\n",
       "20797      8   1\n",
       "20798      8   3\n",
       "20799      8   4\n",
       "20800      9   1\n",
       "20801      9   1\n",
       "20802      9   2\n",
       "\n",
       "[20803 rows x 2 columns]"
      ]
     },
     "execution_count": 8,
     "metadata": {},
     "output_type": "execute_result"
    }
   ],
   "source": [
    "dta[['l_ipn', 'f']]"
   ]
  },
  {
   "cell_type": "markdown",
   "metadata": {},
   "source": [
    "Now let's take a look at the first few records in the data using `DataFrame.head`. It should look fairly straightforward in accordance with the description of the data above."
   ]
  },
  {
   "cell_type": "code",
   "execution_count": 9,
   "metadata": {},
   "outputs": [
    {
     "data": {
      "text/html": [
       "<div>\n",
       "<style scoped>\n",
       "    .dataframe tbody tr th:only-of-type {\n",
       "        vertical-align: middle;\n",
       "    }\n",
       "\n",
       "    .dataframe tbody tr th {\n",
       "        vertical-align: top;\n",
       "    }\n",
       "\n",
       "    .dataframe thead th {\n",
       "        text-align: right;\n",
       "    }\n",
       "</style>\n",
       "<table border=\"1\" class=\"dataframe\">\n",
       "  <thead>\n",
       "    <tr style=\"text-align: right;\">\n",
       "      <th></th>\n",
       "      <th>date</th>\n",
       "      <th>l_ipn</th>\n",
       "      <th>r_asn</th>\n",
       "      <th>f</th>\n",
       "    </tr>\n",
       "  </thead>\n",
       "  <tbody>\n",
       "    <tr>\n",
       "      <th>0</th>\n",
       "      <td>2006-07-01</td>\n",
       "      <td>0</td>\n",
       "      <td>701</td>\n",
       "      <td>1</td>\n",
       "    </tr>\n",
       "    <tr>\n",
       "      <th>1</th>\n",
       "      <td>2006-07-01</td>\n",
       "      <td>0</td>\n",
       "      <td>714</td>\n",
       "      <td>1</td>\n",
       "    </tr>\n",
       "    <tr>\n",
       "      <th>2</th>\n",
       "      <td>2006-07-01</td>\n",
       "      <td>0</td>\n",
       "      <td>1239</td>\n",
       "      <td>1</td>\n",
       "    </tr>\n",
       "    <tr>\n",
       "      <th>3</th>\n",
       "      <td>2006-07-01</td>\n",
       "      <td>0</td>\n",
       "      <td>1680</td>\n",
       "      <td>1</td>\n",
       "    </tr>\n",
       "    <tr>\n",
       "      <th>4</th>\n",
       "      <td>2006-07-01</td>\n",
       "      <td>0</td>\n",
       "      <td>2514</td>\n",
       "      <td>1</td>\n",
       "    </tr>\n",
       "  </tbody>\n",
       "</table>\n",
       "</div>"
      ],
      "text/plain": [
       "         date  l_ipn  r_asn  f\n",
       "0  2006-07-01      0    701  1\n",
       "1  2006-07-01      0    714  1\n",
       "2  2006-07-01      0   1239  1\n",
       "3  2006-07-01      0   1680  1\n",
       "4  2006-07-01      0   2514  1"
      ]
     },
     "execution_count": 9,
     "metadata": {},
     "output_type": "execute_result"
    }
   ],
   "source": [
    "dta.head()"
   ]
  },
  {
   "cell_type": "markdown",
   "metadata": {},
   "source": [
    "Next, we can use `DataFrame.describe` to get some summary statistics of our data."
   ]
  },
  {
   "cell_type": "code",
   "execution_count": 10,
   "metadata": {},
   "outputs": [
    {
     "data": {
      "text/html": [
       "<div>\n",
       "<style scoped>\n",
       "    .dataframe tbody tr th:only-of-type {\n",
       "        vertical-align: middle;\n",
       "    }\n",
       "\n",
       "    .dataframe tbody tr th {\n",
       "        vertical-align: top;\n",
       "    }\n",
       "\n",
       "    .dataframe thead th {\n",
       "        text-align: right;\n",
       "    }\n",
       "</style>\n",
       "<table border=\"1\" class=\"dataframe\">\n",
       "  <thead>\n",
       "    <tr style=\"text-align: right;\">\n",
       "      <th></th>\n",
       "      <th>l_ipn</th>\n",
       "      <th>r_asn</th>\n",
       "      <th>f</th>\n",
       "    </tr>\n",
       "  </thead>\n",
       "  <tbody>\n",
       "    <tr>\n",
       "      <th>count</th>\n",
       "      <td>20803.000000</td>\n",
       "      <td>20803.000000</td>\n",
       "      <td>20803.000000</td>\n",
       "    </tr>\n",
       "    <tr>\n",
       "      <th>mean</th>\n",
       "      <td>4.228236</td>\n",
       "      <td>12138.320338</td>\n",
       "      <td>93.914243</td>\n",
       "    </tr>\n",
       "    <tr>\n",
       "      <th>std</th>\n",
       "      <td>3.278183</td>\n",
       "      <td>9766.324252</td>\n",
       "      <td>5764.995269</td>\n",
       "    </tr>\n",
       "    <tr>\n",
       "      <th>min</th>\n",
       "      <td>0.000000</td>\n",
       "      <td>3.000000</td>\n",
       "      <td>1.000000</td>\n",
       "    </tr>\n",
       "    <tr>\n",
       "      <th>25%</th>\n",
       "      <td>1.000000</td>\n",
       "      <td>4323.000000</td>\n",
       "      <td>1.000000</td>\n",
       "    </tr>\n",
       "    <tr>\n",
       "      <th>50%</th>\n",
       "      <td>4.000000</td>\n",
       "      <td>8764.000000</td>\n",
       "      <td>2.000000</td>\n",
       "    </tr>\n",
       "    <tr>\n",
       "      <th>75%</th>\n",
       "      <td>7.000000</td>\n",
       "      <td>17676.000000</td>\n",
       "      <td>8.000000</td>\n",
       "    </tr>\n",
       "    <tr>\n",
       "      <th>max</th>\n",
       "      <td>9.000000</td>\n",
       "      <td>40092.000000</td>\n",
       "      <td>784234.000000</td>\n",
       "    </tr>\n",
       "  </tbody>\n",
       "</table>\n",
       "</div>"
      ],
      "text/plain": [
       "              l_ipn         r_asn              f\n",
       "count  20803.000000  20803.000000   20803.000000\n",
       "mean       4.228236  12138.320338      93.914243\n",
       "std        3.278183   9766.324252    5764.995269\n",
       "min        0.000000      3.000000       1.000000\n",
       "25%        1.000000   4323.000000       1.000000\n",
       "50%        4.000000   8764.000000       2.000000\n",
       "75%        7.000000  17676.000000       8.000000\n",
       "max        9.000000  40092.000000  784234.000000"
      ]
     },
     "execution_count": 10,
     "metadata": {},
     "output_type": "execute_result"
    }
   ],
   "source": [
    "dta.describe()"
   ]
  },
  {
   "cell_type": "markdown",
   "metadata": {},
   "source": [
    "Can we really interpret a mean or standard deviation for an IP address or AS number? They certain are numbers, but they are not numerical data, they are categorical. Let's remedy that.\n",
    "\n",
    "We can use `DataFrame.info` to check all of the data types."
   ]
  },
  {
   "cell_type": "code",
   "execution_count": 11,
   "metadata": {},
   "outputs": [
    {
     "name": "stdout",
     "output_type": "stream",
     "text": [
      "<class 'pandas.core.frame.DataFrame'>\n",
      "RangeIndex: 20803 entries, 0 to 20802\n",
      "Data columns (total 4 columns):\n",
      "date     20803 non-null object\n",
      "l_ipn    20803 non-null int64\n",
      "r_asn    20803 non-null int64\n",
      "f        20803 non-null int64\n",
      "dtypes: int64(3), object(1)\n",
      "memory usage: 650.2+ KB\n"
     ]
    }
   ],
   "source": [
    "dta.info()"
   ]
  },
  {
   "cell_type": "markdown",
   "metadata": {},
   "source": [
    "We can also use the `dtypes` attribute of DataFrames to check data types. "
   ]
  },
  {
   "cell_type": "code",
   "execution_count": 12,
   "metadata": {},
   "outputs": [
    {
     "data": {
      "text/plain": [
       "date     object\n",
       "l_ipn     int64\n",
       "r_asn     int64\n",
       "f         int64\n",
       "dtype: object"
      ]
     },
     "execution_count": 12,
     "metadata": {},
     "output_type": "execute_result"
    }
   ],
   "source": [
    "dta.dtypes[['date', 'l_ipn', 'r_asn', 'f']]"
   ]
  },
  {
   "cell_type": "markdown",
   "metadata": {},
   "source": [
    "We see that the date is stored as a string in the **numpy** `object` dtype. The other columns are stored as integers. We can use the **apply** function to modify the data type for the date field."
   ]
  },
  {
   "cell_type": "code",
   "execution_count": 13,
   "metadata": {},
   "outputs": [
    {
     "data": {
      "text/plain": [
       "0       2006-07-01\n",
       "1       2006-07-01\n",
       "2       2006-07-01\n",
       "3       2006-07-01\n",
       "4       2006-07-01\n",
       "5       2006-07-01\n",
       "6       2006-07-01\n",
       "           ...    \n",
       "20796   2006-09-30\n",
       "20797   2006-09-30\n",
       "20798   2006-09-30\n",
       "20799   2006-09-30\n",
       "20800   2006-09-30\n",
       "20801   2006-09-30\n",
       "20802   2006-09-30\n",
       "Name: date, Length: 20803, dtype: datetime64[ns]"
      ]
     },
     "execution_count": 13,
     "metadata": {},
     "output_type": "execute_result"
    }
   ],
   "source": [
    "dta.date = dta.date.apply(pd.to_datetime)\n",
    "dta.date"
   ]
  },
  {
   "cell_type": "markdown",
   "metadata": {},
   "source": [
    "For the other two categorical fields, we can use the **astype** function to cast to the Pandas *Categorical* type."
   ]
  },
  {
   "cell_type": "code",
   "execution_count": 14,
   "metadata": {},
   "outputs": [],
   "source": [
    "dta.l_ipn = dta.l_ipn.astype('category')\n",
    "dta.r_asn = dta.r_asn.astype('category')"
   ]
  },
  {
   "cell_type": "markdown",
   "metadata": {},
   "source": [
    "Let's take another look at our data and see what we have done."
   ]
  },
  {
   "cell_type": "code",
   "execution_count": 15,
   "metadata": {},
   "outputs": [
    {
     "name": "stdout",
     "output_type": "stream",
     "text": [
      "<class 'pandas.core.frame.DataFrame'>\n",
      "RangeIndex: 20803 entries, 0 to 20802\n",
      "Data columns (total 4 columns):\n",
      "date     20803 non-null datetime64[ns]\n",
      "l_ipn    20803 non-null category\n",
      "r_asn    20803 non-null category\n",
      "f        20803 non-null int64\n",
      "dtypes: category(2), datetime64[ns](1), int64(1)\n",
      "memory usage: 482.1 KB\n"
     ]
    }
   ],
   "source": [
    "dta.info()"
   ]
  },
  {
   "cell_type": "markdown",
   "metadata": {},
   "source": [
    "Now we can use describe again to get those summary statistics."
   ]
  },
  {
   "cell_type": "code",
   "execution_count": 16,
   "metadata": {},
   "outputs": [
    {
     "data": {
      "text/html": [
       "<div>\n",
       "<style scoped>\n",
       "    .dataframe tbody tr th:only-of-type {\n",
       "        vertical-align: middle;\n",
       "    }\n",
       "\n",
       "    .dataframe tbody tr th {\n",
       "        vertical-align: top;\n",
       "    }\n",
       "\n",
       "    .dataframe thead th {\n",
       "        text-align: right;\n",
       "    }\n",
       "</style>\n",
       "<table border=\"1\" class=\"dataframe\">\n",
       "  <thead>\n",
       "    <tr style=\"text-align: right;\">\n",
       "      <th></th>\n",
       "      <th>f</th>\n",
       "    </tr>\n",
       "  </thead>\n",
       "  <tbody>\n",
       "    <tr>\n",
       "      <th>count</th>\n",
       "      <td>20803.000000</td>\n",
       "    </tr>\n",
       "    <tr>\n",
       "      <th>mean</th>\n",
       "      <td>93.914243</td>\n",
       "    </tr>\n",
       "    <tr>\n",
       "      <th>std</th>\n",
       "      <td>5764.995269</td>\n",
       "    </tr>\n",
       "    <tr>\n",
       "      <th>min</th>\n",
       "      <td>1.000000</td>\n",
       "    </tr>\n",
       "    <tr>\n",
       "      <th>25%</th>\n",
       "      <td>1.000000</td>\n",
       "    </tr>\n",
       "    <tr>\n",
       "      <th>50%</th>\n",
       "      <td>2.000000</td>\n",
       "    </tr>\n",
       "    <tr>\n",
       "      <th>75%</th>\n",
       "      <td>8.000000</td>\n",
       "    </tr>\n",
       "    <tr>\n",
       "      <th>max</th>\n",
       "      <td>784234.000000</td>\n",
       "    </tr>\n",
       "  </tbody>\n",
       "</table>\n",
       "</div>"
      ],
      "text/plain": [
       "                   f\n",
       "count   20803.000000\n",
       "mean       93.914243\n",
       "std      5764.995269\n",
       "min         1.000000\n",
       "25%         1.000000\n",
       "50%         2.000000\n",
       "75%         8.000000\n",
       "max    784234.000000"
      ]
     },
     "execution_count": 16,
     "metadata": {},
     "output_type": "execute_result"
    }
   ],
   "source": [
    "dta.describe()"
   ]
  },
  {
   "cell_type": "markdown",
   "metadata": {},
   "source": [
    "Where did our other fields go?! The `describe` function only displays numerical data by default. We can change that functionality:"
   ]
  },
  {
   "cell_type": "code",
   "execution_count": 17,
   "metadata": {},
   "outputs": [
    {
     "data": {
      "text/html": [
       "<div>\n",
       "<style scoped>\n",
       "    .dataframe tbody tr th:only-of-type {\n",
       "        vertical-align: middle;\n",
       "    }\n",
       "\n",
       "    .dataframe tbody tr th {\n",
       "        vertical-align: top;\n",
       "    }\n",
       "\n",
       "    .dataframe thead th {\n",
       "        text-align: right;\n",
       "    }\n",
       "</style>\n",
       "<table border=\"1\" class=\"dataframe\">\n",
       "  <thead>\n",
       "    <tr style=\"text-align: right;\">\n",
       "      <th></th>\n",
       "      <th>l_ipn</th>\n",
       "      <th>r_asn</th>\n",
       "    </tr>\n",
       "  </thead>\n",
       "  <tbody>\n",
       "    <tr>\n",
       "      <th>count</th>\n",
       "      <td>20803</td>\n",
       "      <td>20803</td>\n",
       "    </tr>\n",
       "    <tr>\n",
       "      <th>unique</th>\n",
       "      <td>10</td>\n",
       "      <td>2005</td>\n",
       "    </tr>\n",
       "    <tr>\n",
       "      <th>top</th>\n",
       "      <td>0</td>\n",
       "      <td>3561</td>\n",
       "    </tr>\n",
       "    <tr>\n",
       "      <th>freq</th>\n",
       "      <td>3980</td>\n",
       "      <td>483</td>\n",
       "    </tr>\n",
       "  </tbody>\n",
       "</table>\n",
       "</div>"
      ],
      "text/plain": [
       "        l_ipn  r_asn\n",
       "count   20803  20803\n",
       "unique     10   2005\n",
       "top         0   3561\n",
       "freq     3980    483"
      ]
     },
     "execution_count": 17,
     "metadata": {},
     "output_type": "execute_result"
    }
   ],
   "source": [
    "dta.describe(include='category')"
   ]
  },
  {
   "cell_type": "markdown",
   "metadata": {},
   "source": [
    "Or we can only pass categorical fields to the describe function:"
   ]
  },
  {
   "cell_type": "code",
   "execution_count": 18,
   "metadata": {},
   "outputs": [
    {
     "data": {
      "text/html": [
       "<div>\n",
       "<style scoped>\n",
       "    .dataframe tbody tr th:only-of-type {\n",
       "        vertical-align: middle;\n",
       "    }\n",
       "\n",
       "    .dataframe tbody tr th {\n",
       "        vertical-align: top;\n",
       "    }\n",
       "\n",
       "    .dataframe thead th {\n",
       "        text-align: right;\n",
       "    }\n",
       "</style>\n",
       "<table border=\"1\" class=\"dataframe\">\n",
       "  <thead>\n",
       "    <tr style=\"text-align: right;\">\n",
       "      <th></th>\n",
       "      <th>l_ipn</th>\n",
       "      <th>r_asn</th>\n",
       "    </tr>\n",
       "  </thead>\n",
       "  <tbody>\n",
       "    <tr>\n",
       "      <th>count</th>\n",
       "      <td>20803</td>\n",
       "      <td>20803</td>\n",
       "    </tr>\n",
       "    <tr>\n",
       "      <th>unique</th>\n",
       "      <td>10</td>\n",
       "      <td>2005</td>\n",
       "    </tr>\n",
       "    <tr>\n",
       "      <th>top</th>\n",
       "      <td>0</td>\n",
       "      <td>3561</td>\n",
       "    </tr>\n",
       "    <tr>\n",
       "      <th>freq</th>\n",
       "      <td>3980</td>\n",
       "      <td>483</td>\n",
       "    </tr>\n",
       "  </tbody>\n",
       "</table>\n",
       "</div>"
      ],
      "text/plain": [
       "        l_ipn  r_asn\n",
       "count   20803  20803\n",
       "unique     10   2005\n",
       "top         0   3561\n",
       "freq     3980    483"
      ]
     },
     "execution_count": 18,
     "metadata": {},
     "output_type": "execute_result"
    }
   ],
   "source": [
    "dta.select_dtypes(['category']).describe()"
   ]
  },
  {
   "cell_type": "markdown",
   "metadata": {},
   "source": [
    "Or we can just look at everything at once:"
   ]
  },
  {
   "cell_type": "code",
   "execution_count": 19,
   "metadata": {},
   "outputs": [
    {
     "data": {
      "text/html": [
       "<div>\n",
       "<style scoped>\n",
       "    .dataframe tbody tr th:only-of-type {\n",
       "        vertical-align: middle;\n",
       "    }\n",
       "\n",
       "    .dataframe tbody tr th {\n",
       "        vertical-align: top;\n",
       "    }\n",
       "\n",
       "    .dataframe thead th {\n",
       "        text-align: right;\n",
       "    }\n",
       "</style>\n",
       "<table border=\"1\" class=\"dataframe\">\n",
       "  <thead>\n",
       "    <tr style=\"text-align: right;\">\n",
       "      <th></th>\n",
       "      <th>date</th>\n",
       "      <th>l_ipn</th>\n",
       "      <th>r_asn</th>\n",
       "      <th>f</th>\n",
       "    </tr>\n",
       "  </thead>\n",
       "  <tbody>\n",
       "    <tr>\n",
       "      <th>count</th>\n",
       "      <td>20803</td>\n",
       "      <td>20803.0</td>\n",
       "      <td>20803.0</td>\n",
       "      <td>20803.000000</td>\n",
       "    </tr>\n",
       "    <tr>\n",
       "      <th>unique</th>\n",
       "      <td>92</td>\n",
       "      <td>10.0</td>\n",
       "      <td>2005.0</td>\n",
       "      <td>NaN</td>\n",
       "    </tr>\n",
       "    <tr>\n",
       "      <th>top</th>\n",
       "      <td>2006-07-26 00:00:00</td>\n",
       "      <td>0.0</td>\n",
       "      <td>3561.0</td>\n",
       "      <td>NaN</td>\n",
       "    </tr>\n",
       "    <tr>\n",
       "      <th>freq</th>\n",
       "      <td>372</td>\n",
       "      <td>3980.0</td>\n",
       "      <td>483.0</td>\n",
       "      <td>NaN</td>\n",
       "    </tr>\n",
       "    <tr>\n",
       "      <th>first</th>\n",
       "      <td>2006-07-01 00:00:00</td>\n",
       "      <td>NaN</td>\n",
       "      <td>NaN</td>\n",
       "      <td>NaN</td>\n",
       "    </tr>\n",
       "    <tr>\n",
       "      <th>last</th>\n",
       "      <td>2006-09-30 00:00:00</td>\n",
       "      <td>NaN</td>\n",
       "      <td>NaN</td>\n",
       "      <td>NaN</td>\n",
       "    </tr>\n",
       "    <tr>\n",
       "      <th>mean</th>\n",
       "      <td>NaN</td>\n",
       "      <td>NaN</td>\n",
       "      <td>NaN</td>\n",
       "      <td>93.914243</td>\n",
       "    </tr>\n",
       "    <tr>\n",
       "      <th>std</th>\n",
       "      <td>NaN</td>\n",
       "      <td>NaN</td>\n",
       "      <td>NaN</td>\n",
       "      <td>5764.995269</td>\n",
       "    </tr>\n",
       "    <tr>\n",
       "      <th>min</th>\n",
       "      <td>NaN</td>\n",
       "      <td>NaN</td>\n",
       "      <td>NaN</td>\n",
       "      <td>1.000000</td>\n",
       "    </tr>\n",
       "    <tr>\n",
       "      <th>25%</th>\n",
       "      <td>NaN</td>\n",
       "      <td>NaN</td>\n",
       "      <td>NaN</td>\n",
       "      <td>1.000000</td>\n",
       "    </tr>\n",
       "    <tr>\n",
       "      <th>50%</th>\n",
       "      <td>NaN</td>\n",
       "      <td>NaN</td>\n",
       "      <td>NaN</td>\n",
       "      <td>2.000000</td>\n",
       "    </tr>\n",
       "    <tr>\n",
       "      <th>75%</th>\n",
       "      <td>NaN</td>\n",
       "      <td>NaN</td>\n",
       "      <td>NaN</td>\n",
       "      <td>8.000000</td>\n",
       "    </tr>\n",
       "    <tr>\n",
       "      <th>max</th>\n",
       "      <td>NaN</td>\n",
       "      <td>NaN</td>\n",
       "      <td>NaN</td>\n",
       "      <td>784234.000000</td>\n",
       "    </tr>\n",
       "  </tbody>\n",
       "</table>\n",
       "</div>"
      ],
      "text/plain": [
       "                       date    l_ipn    r_asn              f\n",
       "count                 20803  20803.0  20803.0   20803.000000\n",
       "unique                   92     10.0   2005.0            NaN\n",
       "top     2006-07-26 00:00:00      0.0   3561.0            NaN\n",
       "freq                    372   3980.0    483.0            NaN\n",
       "first   2006-07-01 00:00:00      NaN      NaN            NaN\n",
       "last    2006-09-30 00:00:00      NaN      NaN            NaN\n",
       "mean                    NaN      NaN      NaN      93.914243\n",
       "std                     NaN      NaN      NaN    5764.995269\n",
       "min                     NaN      NaN      NaN       1.000000\n",
       "25%                     NaN      NaN      NaN       1.000000\n",
       "50%                     NaN      NaN      NaN       2.000000\n",
       "75%                     NaN      NaN      NaN       8.000000\n",
       "max                     NaN      NaN      NaN  784234.000000"
      ]
     },
     "execution_count": 19,
     "metadata": {},
     "output_type": "execute_result"
    }
   ],
   "source": [
    "dta.describe(include='all')"
   ]
  },
  {
   "cell_type": "markdown",
   "metadata": {},
   "source": [
    "## Descriptive Statistics using R\n",
    "\n",
    "For this notebook we will load the rpy2.ipython extension to allow R magics in this Python notebook. We can use the dataframe already created in the **_R_** code. Alternatively we can load from the csv in **_R_**."
   ]
  },
  {
   "cell_type": "code",
   "execution_count": 20,
   "metadata": {},
   "outputs": [],
   "source": [
    "%load_ext rpy2.ipython"
   ]
  },
  {
   "cell_type": "markdown",
   "metadata": {},
   "source": [
    "To get a similar output to Pandas' `describe`, we can use `summary()` in **_R_**. First we can import and use the DataFrame from our previous example:"
   ]
  },
  {
   "cell_type": "code",
   "execution_count": 21,
   "metadata": {},
   "outputs": [
    {
     "name": "stderr",
     "output_type": "stream",
     "text": [
      "/srv/conda/lib/python3.6/site-packages/rpy2/robjects/pandas2ri.py:67: UserWarning: Error while trying to convert the column \"l_ipn\". Fall back to string conversion. The error is: Converting pandas \"Category\" series to R factor is only possible when categories are strings.\n",
      "  (name, str(e)))\n",
      "/srv/conda/lib/python3.6/site-packages/rpy2/robjects/pandas2ri.py:67: UserWarning: Error while trying to convert the column \"r_asn\". Fall back to string conversion. The error is: Converting pandas \"Category\" series to R factor is only possible when categories are strings.\n",
      "  (name, str(e)))\n",
      "/srv/conda/lib/python3.6/site-packages/rpy2/robjects/pandas2ri.py:191: FutureWarning: from_items is deprecated. Please use DataFrame.from_dict(dict(items), ...) instead. DataFrame.from_dict(OrderedDict(items)) may be used to preserve the key order.\n",
      "  res = PandasDataFrame.from_items(items)\n"
     ]
    },
    {
     "data": {
      "text/plain": [
       "      date                        l_ipn              r_asn          \n",
       " Min.   :2006-07-01 00:00:00   Length:20803       Length:20803      \n",
       " 1st Qu.:2006-07-23 00:00:00   Class :character   Class :character  \n",
       " Median :2006-08-11 00:00:00   Mode  :character   Mode  :character  \n",
       " Mean   :2006-08-13 06:11:51                                        \n",
       " 3rd Qu.:2006-09-04 00:00:00                                        \n",
       " Max.   :2006-09-30 00:00:00                                        \n",
       "       f           \n",
       " Min.   :     1.0  \n",
       " 1st Qu.:     1.0  \n",
       " Median :     2.0  \n",
       " Mean   :    93.9  \n",
       " 3rd Qu.:     8.0  \n",
       " Max.   :784234.0  \n"
      ]
     },
     "metadata": {},
     "output_type": "display_data"
    }
   ],
   "source": [
    "%%R -i dta \n",
    "summary(dta)"
   ]
  },
  {
   "cell_type": "markdown",
   "metadata": {},
   "source": [
    "Next we will creat an **_R_** dataframe and call `summary` on that:"
   ]
  },
  {
   "cell_type": "code",
   "execution_count": 22,
   "metadata": {},
   "outputs": [
    {
     "data": {
      "text/plain": [
       "         date           l_ipn           r_asn             f           \n",
       " 2006-07-26:  372   Min.   :0.000   Min.   :    3   Min.   :     1.0  \n",
       " 2006-07-25:  358   1st Qu.:1.000   1st Qu.: 4323   1st Qu.:     1.0  \n",
       " 2006-07-27:  352   Median :4.000   Median : 8764   Median :     2.0  \n",
       " 2006-07-28:  345   Mean   :4.228   Mean   :12138   Mean   :    93.9  \n",
       " 2006-07-24:  333   3rd Qu.:7.000   3rd Qu.:17676   3rd Qu.:     8.0  \n",
       " 2006-08-10:  315   Max.   :9.000   Max.   :40092   Max.   :784234.0  \n",
       " (Other)   :18728                                                     \n"
      ]
     },
     "metadata": {},
     "output_type": "display_data"
    }
   ],
   "source": [
    "%%R\n",
    "data <- read.csv(file=\"data/network_traffic.csv\")\n",
    "summary(data)"
   ]
  },
  {
   "cell_type": "markdown",
   "metadata": {},
   "source": [
    "Let's see what data types **_R_** sees the data as:"
   ]
  },
  {
   "cell_type": "code",
   "execution_count": 23,
   "metadata": {},
   "outputs": [
    {
     "data": {
      "text/plain": [
       "     date     l_ipn     r_asn         f \n",
       " \"factor\" \"integer\" \"integer\" \"integer\" \n"
      ]
     },
     "metadata": {},
     "output_type": "display_data"
    }
   ],
   "source": [
    "%%R\n",
    "sapply(data, class)"
   ]
  },
  {
   "cell_type": "markdown",
   "metadata": {},
   "source": [
    "Using the `as.character()` on the columns we changed in Python, we can recast our data types. "
   ]
  },
  {
   "cell_type": "code",
   "execution_count": 24,
   "metadata": {},
   "outputs": [
    {
     "data": {
      "text/plain": [
       "       date       l_ipn       r_asn           f \n",
       "   \"factor\" \"character\" \"character\"   \"integer\" \n"
      ]
     },
     "metadata": {},
     "output_type": "display_data"
    }
   ],
   "source": [
    "%%R\n",
    "data$l_ipn <- as.character(data$l_ipn)\n",
    "data$r_asn <- as.character(data$r_asn)\n",
    "sapply(data, class)"
   ]
  },
  {
   "cell_type": "code",
   "execution_count": 25,
   "metadata": {},
   "outputs": [
    {
     "data": {
      "text/plain": [
       "         date          l_ipn              r_asn                 f           \n",
       " 2006-07-26:  372   Length:20803       Length:20803       Min.   :     1.0  \n",
       " 2006-07-25:  358   Class :character   Class :character   1st Qu.:     1.0  \n",
       " 2006-07-27:  352   Mode  :character   Mode  :character   Median :     2.0  \n",
       " 2006-07-28:  345                                         Mean   :    93.9  \n",
       " 2006-07-24:  333                                         3rd Qu.:     8.0  \n",
       " 2006-08-10:  315                                         Max.   :784234.0  \n",
       " (Other)   :18728                                                           \n"
      ]
     },
     "metadata": {},
     "output_type": "display_data"
    }
   ],
   "source": [
    "%%R\n",
    "summary(data)"
   ]
  },
  {
   "cell_type": "markdown",
   "metadata": {},
   "source": [
    "## Visualizations\n",
    "\n",
    "Now that we have some simple descriptive statistics. Let's try some descriptive visualizations.\n",
    "First thing we'll do is set a display option allowing matplotlib visualizations to appear in the notebook."
   ]
  },
  {
   "cell_type": "code",
   "execution_count": 26,
   "metadata": {},
   "outputs": [],
   "source": [
    "%matplotlib inline"
   ]
  },
  {
   "cell_type": "code",
   "execution_count": 27,
   "metadata": {},
   "outputs": [],
   "source": [
    "import matplotlib.pyplot as plt"
   ]
  },
  {
   "cell_type": "markdown",
   "metadata": {},
   "source": [
    "Pandas has a plotting API that utilizes matplotlib under the hood. Let's take a look at some of this functionality using our data set.\n",
    "\n",
    "We can use Pandas to create a bar plot, perhaps to compare counts of certain groups in the data. Here we will use Pandas' **groupby()**, get the sum of each group and send to the `...plot.bar()` to see if there is anything immediately interesting."
   ]
  },
  {
   "cell_type": "code",
   "execution_count": 28,
   "metadata": {},
   "outputs": [
    {
     "data": {
      "image/png": "[encoded data removed]",
      "text/plain": [
       "<Figure size 432x288 with 1 Axes>"
      ]
     },
     "metadata": {
      "needs_background": "light"
     },
     "output_type": "display_data"
    }
   ],
   "source": [
    "ax = (dta.groupby('l_ipn').f.sum().plot.bar())"
   ]
  },
  {
   "cell_type": "markdown",
   "metadata": {},
   "source": [
    "Notice that pandas returned to us the matplotlib axes. We could go on and customize these axes should we so desire. Let's rotate **tick labels**, for example."
   ]
  },
  {
   "cell_type": "code",
   "execution_count": 29,
   "metadata": {},
   "outputs": [
    {
     "data": {
      "image/png": "[encoded data removed]",
      "text/plain": [
       "<Figure size 432x288 with 1 Axes>"
      ]
     },
     "execution_count": 29,
     "metadata": {},
     "output_type": "execute_result"
    }
   ],
   "source": [
    "for label in ax.xaxis.get_ticklabels():\n",
    "    label.set_rotation(0)\n",
    "    \n",
    "ax.figure"
   ]
  },
  {
   "cell_type": "markdown",
   "metadata": {},
   "source": [
    "Lets make the plot a little larger by using `subplots` and `figsize` to explicitly set the size of the figure and the axes. The figure and axes are the two components of a pyplot."
   ]
  },
  {
   "cell_type": "code",
   "execution_count": 30,
   "metadata": {},
   "outputs": [
    {
     "data": {
      "image/png": "[encoded data removed]",
      "text/plain": [
       "<Figure size 864x432 with 1 Axes>"
      ]
     },
     "metadata": {
      "needs_background": "light"
     },
     "output_type": "display_data"
    }
   ],
   "source": [
    "fig, ax = plt.subplots(figsize=(12, 6))\n",
    "\n",
    "ax = (dta.groupby('l_ipn').f.sum().plot.bar())\n"
   ]
  },
  {
   "cell_type": "markdown",
   "metadata": {},
   "source": [
    "For the next example we will import the Pandas DataFrame into **_R_** and use ggplot2 to visualize the same data. Let's simplify our DataFrame into the specific data we wish to visualize. The following code creates a Pandas _Series_ using `groupby()` and the sum of the `f` fields for each IP address. Then we create a new DataFrame called `dataf` using the indices of the series, which correspond to the IP address above, and the values of the series which are the sums of the flows."
   ]
  },
  {
   "cell_type": "code",
   "execution_count": 31,
   "metadata": {},
   "outputs": [
    {
     "data": {
      "text/html": [
       "<div>\n",
       "<style scoped>\n",
       "    .dataframe tbody tr th:only-of-type {\n",
       "        vertical-align: middle;\n",
       "    }\n",
       "\n",
       "    .dataframe tbody tr th {\n",
       "        vertical-align: top;\n",
       "    }\n",
       "\n",
       "    .dataframe thead th {\n",
       "        text-align: right;\n",
       "    }\n",
       "</style>\n",
       "<table border=\"1\" class=\"dataframe\">\n",
       "  <thead>\n",
       "    <tr style=\"text-align: right;\">\n",
       "      <th></th>\n",
       "      <th>l_ipn</th>\n",
       "      <th>flows</th>\n",
       "    </tr>\n",
       "  </thead>\n",
       "  <tbody>\n",
       "    <tr>\n",
       "      <th>0</th>\n",
       "      <td>0</td>\n",
       "      <td>105177</td>\n",
       "    </tr>\n",
       "    <tr>\n",
       "      <th>1</th>\n",
       "      <td>1</td>\n",
       "      <td>195691</td>\n",
       "    </tr>\n",
       "    <tr>\n",
       "      <th>2</th>\n",
       "      <td>2</td>\n",
       "      <td>195713</td>\n",
       "    </tr>\n",
       "    <tr>\n",
       "      <th>3</th>\n",
       "      <td>3</td>\n",
       "      <td>4904</td>\n",
       "    </tr>\n",
       "    <tr>\n",
       "      <th>4</th>\n",
       "      <td>4</td>\n",
       "      <td>1175417</td>\n",
       "    </tr>\n",
       "    <tr>\n",
       "      <th>5</th>\n",
       "      <td>5</td>\n",
       "      <td>5780</td>\n",
       "    </tr>\n",
       "    <tr>\n",
       "      <th>6</th>\n",
       "      <td>6</td>\n",
       "      <td>6674</td>\n",
       "    </tr>\n",
       "    <tr>\n",
       "      <th>7</th>\n",
       "      <td>7</td>\n",
       "      <td>35362</td>\n",
       "    </tr>\n",
       "    <tr>\n",
       "      <th>8</th>\n",
       "      <td>8</td>\n",
       "      <td>120203</td>\n",
       "    </tr>\n",
       "    <tr>\n",
       "      <th>9</th>\n",
       "      <td>9</td>\n",
       "      <td>108777</td>\n",
       "    </tr>\n",
       "  </tbody>\n",
       "</table>\n",
       "</div>"
      ],
      "text/plain": [
       "  l_ipn    flows\n",
       "0     0   105177\n",
       "1     1   195691\n",
       "2     2   195713\n",
       "3     3     4904\n",
       "4     4  1175417\n",
       "5     5     5780\n",
       "6     6     6674\n",
       "7     7    35362\n",
       "8     8   120203\n",
       "9     9   108777"
      ]
     },
     "execution_count": 31,
     "metadata": {},
     "output_type": "execute_result"
    }
   ],
   "source": [
    "#creates a Series object, grouping the data by IP address and calculating the sum of the 'f' attribute for each one\n",
    "dtas = dta.groupby('l_ipn').f.sum()\n",
    "\n",
    "#R will work nicely with a DataFrame, so we make one out of our one-dimensional Series\n",
    "dataf = pd.DataFrame({'l_ipn':dtas.index, 'flows':dtas.values})\n",
    "\n",
    "#disply our new DataFrame\n",
    "dataf"
   ]
  },
  {
   "cell_type": "markdown",
   "metadata": {},
   "source": [
    "First we will use an **_R_** line maginc and the `require()` command to use the ggplot2 library."
   ]
  },
  {
   "cell_type": "code",
   "execution_count": 35,
   "metadata": {},
   "outputs": [
    {
     "data": {
      "text/plain": [
       "array([1], dtype=int32)"
      ]
     },
     "execution_count": 35,
     "metadata": {},
     "output_type": "execute_result"
    }
   ],
   "source": [
    "%R require(ggplot2)"
   ]
  },
  {
   "cell_type": "markdown",
   "metadata": {},
   "source": [
    "Now we will use our DataFrame as an input and see what it looks like in **_R_**. The next command implements an **_R_** cell, importing the DataFrame, `dataf`. An accompanying method `fortify()` implicitly makes the conversion between the Pandas DataFrame type and the **_R_** dataframe type. "
   ]
  },
  {
   "cell_type": "code",
   "execution_count": 45,
   "metadata": {},
   "outputs": [
    {
     "name": "stderr",
     "output_type": "stream",
     "text": [
      "/srv/conda/lib/python3.6/site-packages/rpy2/robjects/pandas2ri.py:67: UserWarning: Error while trying to convert the column \"l_ipn\". Fall back to string conversion. The error is: Converting pandas \"Category\" series to R factor is only possible when categories are strings.\n",
      "  (name, str(e)))\n"
     ]
    },
    {
     "data": {
      "text/plain": [
       "  l_ipn   flows\n",
       "0     0  105177\n",
       "1     1  195691\n",
       "2     2  195713\n",
       "3     3    4904\n",
       "4     4 1175417\n",
       "5     5    5780\n",
       "6     6    6674\n",
       "7     7   35362\n",
       "8     8  120203\n",
       "9     9  108777\n"
      ]
     },
     "metadata": {},
     "output_type": "display_data"
    }
   ],
   "source": [
    "%%R -i dataf\n",
    "dataf"
   ]
  },
  {
   "cell_type": "markdown",
   "metadata": {},
   "source": [
    "Next we use the `<-` assignment operator to create a table with the `rbind()` method. Then the `barplot()` method displays a simple bar plot of the data."
   ]
  },
  {
   "cell_type": "code",
   "execution_count": 47,
   "metadata": {},
   "outputs": [
    {
     "data": {
      "text/plain": [
       "     [,1]     [,2]     [,3]     [,4]   [,5]      [,6]   [,7]   [,8]    [,9]    \n",
       "[1,] \"0\"      \"1\"      \"2\"      \"3\"    \"4\"       \"5\"    \"6\"    \"7\"     \"8\"     \n",
       "[2,] \"105177\" \"195691\" \"195713\" \"4904\" \"1175417\" \"5780\" \"6674\" \"35362\" \"120203\"\n",
       "     [,10]   \n",
       "[1,] \"9\"     \n",
       "[2,] \"108777\"\n"
      ]
     },
     "metadata": {},
     "output_type": "display_data"
    }
   ],
   "source": [
    "%%R -i dataf\n",
    "#create a table, a, from the dataframe\n",
    "a <- rbind(dataf$l_ipn, dataf$flows)\n",
    "#display the table, notice R indexes starting with '1'\n",
    "a"
   ]
  },
  {
   "cell_type": "code",
   "execution_count": 49,
   "metadata": {},
   "outputs": [
    {
     "data": {
      "image/png": "[encoded data removed]"
     },
     "metadata": {},
     "output_type": "display_data"
    },
    {
     "data": {
      "text/plain": [
       "array([ 0.7,  1.9,  3.1,  4.3,  5.5,  6.7,  7.9,  9.1, 10.3, 11.5])"
      ]
     },
     "execution_count": 49,
     "metadata": {},
     "output_type": "execute_result"
    }
   ],
   "source": [
    "#create a simple bar plot\n",
    "%R barplot(a)"
   ]
  },
  {
   "cell_type": "code",
   "execution_count": null,
   "metadata": {},
   "outputs": [],
   "source": []
  }
 ],
 "metadata": {
  "kernelspec": {
   "display_name": "Python 3",
   "language": "python",
   "name": "python3"
  },
  "language_info": {
   "codemirror_mode": {
    "name": "ipython",
    "version": 3
   },
   "file_extension": ".py",
   "mimetype": "text/x-python",
   "name": "python",
   "nbconvert_exporter": "python",
   "pygments_lexer": "ipython3",
   "version": "3.6.6"
  }
 },
 "nbformat": 4,
 "nbformat_minor": 2
}
