{
 "cells": [
  {
   "cell_type": "markdown",
   "metadata": {},
   "source": [
    "# Collection Techniques Practical Exercise"
   ]
  },
  {
   "cell_type": "markdown",
   "metadata": {},
   "source": [
    "In this practical exercise we will explore ways to get data into your data science environment. We will use native Python methods and modules to import some data and have a look at it. Then we will look for ways to get information from external sources."
   ]
  },
  {
   "cell_type": "markdown",
   "metadata": {},
   "source": [
    "### Reading Data: CSVs"
   ]
  },
  {
   "cell_type": "markdown",
   "metadata": {},
   "source": [
    "One way to get data into our analytic environment is to simply read .csv files provided by sensors, exported from other sources like *Kibana* or *Gabriel Nimbus*. Let's look at how we may do this. As always, Python has *batteries included*. The `csv` built-in module is great for basic data-munging needs."
   ]
  },
  {
   "cell_type": "code",
   "execution_count": 2,
   "metadata": {},
   "outputs": [],
   "source": [
    "import csv\n",
    "from pprint import pprint"
   ]
  },
  {
   "cell_type": "markdown",
   "metadata": {},
   "source": [
    "Let's open a csv file and use csv's `reader` function to read in the data."
   ]
  },
  {
   "cell_type": "code",
   "execution_count": 3,
   "metadata": {},
   "outputs": [],
   "source": [
    "csv_file = open(\"data/health_inspection_chi_sample.csv\")\n",
    "\n",
    "reader = csv.reader(csv_file)"
   ]
  },
  {
   "cell_type": "markdown",
   "metadata": {},
   "source": [
    "`csv.reader` returns an iterator that you may move through deliberately or iterate through with a for loop. To get to the first object in the iterator use the next() method on the iterator:"
   ]
  },
  {
   "cell_type": "code",
   "execution_count": 11,
   "metadata": {},
   "outputs": [],
   "source": [
    "headers = next(reader)"
   ]
  },
  {
   "cell_type": "markdown",
   "metadata": {},
   "source": [
    "`csv.reader` conveniently splits the .csv text into lists. Each row becomes a list, with the first object in reader (the first row) in this case being the table column names. Below is a nicely printed list of the column names for the example data."
   ]
  },
  {
   "cell_type": "code",
   "execution_count": 12,
   "metadata": {},
   "outputs": [
    {
     "name": "stdout",
     "output_type": "stream",
     "text": [
      "['address',\n",
      " 'aka_name',\n",
      " 'city',\n",
      " 'dba_name',\n",
      " 'facility_type',\n",
      " 'inspection_date',\n",
      " 'inspection_id',\n",
      " 'inspection_type',\n",
      " 'latitude',\n",
      " 'license_',\n",
      " 'location',\n",
      " 'longitude',\n",
      " 'results',\n",
      " 'risk',\n",
      " 'state',\n",
      " 'violations',\n",
      " 'zip']\n"
     ]
    }
   ],
   "source": [
    "pprint(headers)"
   ]
  },
  {
   "cell_type": "code",
   "execution_count": 6,
   "metadata": {},
   "outputs": [],
   "source": [
    "line = next(reader)"
   ]
  },
  {
   "cell_type": "code",
   "execution_count": 7,
   "metadata": {},
   "outputs": [
    {
     "name": "stdout",
     "output_type": "stream",
     "text": [
      "['5255 W MADISON ST ',\n",
      " 'RED SNAPPER FISH CHICKEN & PIZZA',\n",
      " 'CHICAGO',\n",
      " 'RED SNAPPER FISH CHICKEN & PIZZA',\n",
      " 'Restaurant',\n",
      " '2016-09-26T00:00:00.000',\n",
      " '1965287',\n",
      " 'Canvass',\n",
      " '41.880236543865834',\n",
      " '1991820.0',\n",
      " \"{'type': 'Point', 'coordinates': [-87.757220392117, 41.880236543866]}\",\n",
      " '-87.7572203921175',\n",
      " 'Pass w/ Conditions',\n",
      " 'Risk 1 (High)',\n",
      " 'IL',\n",
      " '35. WALLS, CEILINGS, ATTACHED EQUIPMENT CONSTRUCTED PER CODE: GOOD REPAIR, '\n",
      " 'SURFACES CLEAN AND DUST-LESS CLEANING METHODS - Comments: MUST CLEAN THE '\n",
      " 'WALLS AT WALL BASE NEAR THE MIXER IN REAR OF PREMISES AND THE PREP AREA OF '\n",
      " 'FOOD SPILLS AND CLEAN THE WALL VENT IN PREP AREA ,INSTRUCTED TO CLEAN AND '\n",
      " 'MAINTAIN AREA | 33. FOOD AND NON-FOOD CONTACT EQUIPMENT UTENSILS CLEAN, FREE '\n",
      " 'OF ABRASIVE DETERGENTS - Comments: MUST CLEAN THE INTERIOR PANEL OF THE ICE '\n",
      " 'MACHINE IN REAR OF PREMISES | 34. FLOORS: CONSTRUCTED PER CODE, CLEANED, '\n",
      " 'GOOD REPAIR, COVING INSTALLED, DUST-LESS CLEANING METHODS USED - Comments: '\n",
      " 'MUST CLEAN FLOORS THROUGHOUT PREMISES,ALONG WALL BASE AND CORNERS OF GREASE '\n",
      " 'AND DIRT BUILD-UP,INSTRUCTED TO CLEAN AND MAINTAIN AREA | 36. LIGHTING: '\n",
      " 'REQUIRED MINIMUM FOOT-CANDLES OF LIGHT PROVIDED, FIXTURES SHIELDED - '\n",
      " 'Comments: MUST PROVIDE A LIGHT SHIELD COVER FOR THE WALK-IN FREEZER IN REAR '\n",
      " 'OF PREMISES | 22. DISH MACHINES: PROVIDED WITH ACCURATE THERMOMETERS, '\n",
      " 'CHEMICAL TEST KITS AND SUITABLE GAUGE COCK - Comments: OBSERVED NO CHEMICAL '\n",
      " 'TEST STRIPS TO TEST THE SANITIZER AT 3 COMPARTMENT SINK,WHEN SINK IS SET UP '\n",
      " 'FOR WASH,RINSE AND SANITIZE,INSTRUCTED TO PROVIDE SERIOUS VIOLATION 7-38-030 '\n",
      " '| 40. REFRIGERATION AND METAL STEM THERMOMETERS PROVIDED AND CONSPICUOUS - '\n",
      " 'Comments: MUST PROVIDE A THERMOMETER INSIDE THE PREP COOLER IN PREP AREA',\n",
      " '60644.0']\n"
     ]
    }
   ],
   "source": [
    "pprint(line)"
   ]
  },
  {
   "cell_type": "markdown",
   "metadata": {},
   "source": [
    "You can control the behavior of `csv.reader` through a `Dialect` object. By default, `csv.reader` uses a Dialect object called \"excel.\" Here let's look at the attributes of the excel dialect."
   ]
  },
  {
   "cell_type": "code",
   "execution_count": 13,
   "metadata": {},
   "outputs": [
    {
     "name": "stdout",
     "output_type": "stream",
     "text": [
      "{'delimiter': ',',\n",
      " 'doublequote': True,\n",
      " 'lineterminator': '\\r\\n',\n",
      " 'quotechar': '\"',\n",
      " 'quoting': 0,\n",
      " 'skipinitialspace': False}\n"
     ]
    }
   ],
   "source": [
    "items = csv.excel.__dict__.items()\n",
    "\n",
    "pprint({key: value for key, value in items if not key.startswith(\"_\")})"
   ]
  },
  {
   "cell_type": "markdown",
   "metadata": {},
   "source": [
    "You might also find `DictReader` to be useful. \n",
    "\n",
    "First, let's back up in the file to the beginning."
   ]
  },
  {
   "cell_type": "code",
   "execution_count": 14,
   "metadata": {},
   "outputs": [
    {
     "data": {
      "text/plain": [
       "0"
      ]
     },
     "execution_count": 14,
     "metadata": {},
     "output_type": "execute_result"
    }
   ],
   "source": [
    "csv_file.seek(0)"
   ]
  },
  {
   "cell_type": "code",
   "execution_count": 15,
   "metadata": {},
   "outputs": [],
   "source": [
    "reader = csv.DictReader(csv_file)"
   ]
  },
  {
   "cell_type": "code",
   "execution_count": 16,
   "metadata": {},
   "outputs": [
    {
     "name": "stdout",
     "output_type": "stream",
     "text": [
      "OrderedDict([('address', '5255 W MADISON ST '),\n",
      "             ('aka_name', 'RED SNAPPER FISH CHICKEN & PIZZA'),\n",
      "             ('city', 'CHICAGO'),\n",
      "             ('dba_name', 'RED SNAPPER FISH CHICKEN & PIZZA'),\n",
      "             ('facility_type', 'Restaurant'),\n",
      "             ('inspection_date', '2016-09-26T00:00:00.000'),\n",
      "             ('inspection_id', '1965287'),\n",
      "             ('inspection_type', 'Canvass'),\n",
      "             ('latitude', '41.880236543865834'),\n",
      "             ('license_', '1991820.0'),\n",
      "             ('location',\n",
      "              \"{'type': 'Point', 'coordinates': [-87.757220392117, \"\n",
      "              '41.880236543866]}'),\n",
      "             ('longitude', '-87.7572203921175'),\n",
      "             ('results', 'Pass w/ Conditions'),\n",
      "             ('risk', 'Risk 1 (High)'),\n",
      "             ('state', 'IL'),\n",
      "             ('violations',\n",
      "              '35. WALLS, CEILINGS, ATTACHED EQUIPMENT CONSTRUCTED PER CODE: '\n",
      "              'GOOD REPAIR, SURFACES CLEAN AND DUST-LESS CLEANING METHODS - '\n",
      "              'Comments: MUST CLEAN THE WALLS AT WALL BASE NEAR THE MIXER IN '\n",
      "              'REAR OF PREMISES AND THE PREP AREA OF FOOD SPILLS AND CLEAN THE '\n",
      "              'WALL VENT IN PREP AREA ,INSTRUCTED TO CLEAN AND MAINTAIN AREA | '\n",
      "              '33. FOOD AND NON-FOOD CONTACT EQUIPMENT UTENSILS CLEAN, FREE OF '\n",
      "              'ABRASIVE DETERGENTS - Comments: MUST CLEAN THE INTERIOR PANEL '\n",
      "              'OF THE ICE MACHINE IN REAR OF PREMISES | 34. FLOORS: '\n",
      "              'CONSTRUCTED PER CODE, CLEANED, GOOD REPAIR, COVING INSTALLED, '\n",
      "              'DUST-LESS CLEANING METHODS USED - Comments: MUST CLEAN FLOORS '\n",
      "              'THROUGHOUT PREMISES,ALONG WALL BASE AND CORNERS OF GREASE AND '\n",
      "              'DIRT BUILD-UP,INSTRUCTED TO CLEAN AND MAINTAIN AREA | 36. '\n",
      "              'LIGHTING: REQUIRED MINIMUM FOOT-CANDLES OF LIGHT PROVIDED, '\n",
      "              'FIXTURES SHIELDED - Comments: MUST PROVIDE A LIGHT SHIELD COVER '\n",
      "              'FOR THE WALK-IN FREEZER IN REAR OF PREMISES | 22. DISH '\n",
      "              'MACHINES: PROVIDED WITH ACCURATE THERMOMETERS, CHEMICAL TEST '\n",
      "              'KITS AND SUITABLE GAUGE COCK - Comments: OBSERVED NO CHEMICAL '\n",
      "              'TEST STRIPS TO TEST THE SANITIZER AT 3 COMPARTMENT SINK,WHEN '\n",
      "              'SINK IS SET UP FOR WASH,RINSE AND SANITIZE,INSTRUCTED TO '\n",
      "              'PROVIDE SERIOUS VIOLATION 7-38-030 | 40. REFRIGERATION AND '\n",
      "              'METAL STEM THERMOMETERS PROVIDED AND CONSPICUOUS - Comments: '\n",
      "              'MUST PROVIDE A THERMOMETER INSIDE THE PREP COOLER IN PREP AREA'),\n",
      "             ('zip', '60644.0')])\n"
     ]
    }
   ],
   "source": [
    "pprint(next(reader))"
   ]
  },
  {
   "cell_type": "markdown",
   "metadata": {},
   "source": [
    "As you can see, `csv.DictReader` converts each row into an ordered dictionary, joining the header row information with each cell. Let's close the file."
   ]
  },
  {
   "cell_type": "code",
   "execution_count": 24,
   "metadata": {},
   "outputs": [],
   "source": [
    "csv_file.close()"
   ]
  },
  {
   "cell_type": "markdown",
   "metadata": {},
   "source": [
    "One last handy trick with the `csv` module is to use `Sniffer` to determine the csv dialect for you."
   ]
  },
  {
   "cell_type": "code",
   "execution_count": 25,
   "metadata": {},
   "outputs": [],
   "source": [
    "file_name = \"data/health_inspection_chi_sample.csv\"\n",
    "\n",
    "with open(file_name) as csv_file:\n",
    "    \n",
    "    try:\n",
    "        dialect = csv.Sniffer().sniff(csv_file.read(1024))\n",
    "    except csv.Error as err:\n",
    "        # log that this file format couldn't be deduced\n",
    "        print(f\"The format of {file_name} could not be detected.\")\n",
    "    else:\n",
    "        csv_file.seek(0)\n",
    "    \n",
    "        dta = csv.reader(csv_file, dialect=dialect)"
   ]
  },
  {
   "cell_type": "markdown",
   "metadata": {},
   "source": [
    "A big part of increased productivity is saving yourself some work later. The first rule of dealing with data is probably something like \"The data is against you. Act accordingly.\"\n",
    "\n",
    "We set this block of code up to be pretty paranoid. Software engineers call this **defensive programming**. It's a good habit to get into when you're doing any data science work in Python. \n",
    "\n",
    "There are three things to note here. First, is the use of `Sniffer` at all. If `file_name` is a standard csv format, we'll be able to read it.\n",
    "\n",
    "The second is using a `try/except/else` block. In a `try/except` block, any exception that is raised will trigger the code in the except block. If no exception is raised, the *optional* else block will run.\n",
    "\n",
    "Let's take a look at a toy example to fix ideas."
   ]
  },
  {
   "cell_type": "code",
   "execution_count": 26,
   "metadata": {},
   "outputs": [
    {
     "name": "stdout",
     "output_type": "stream",
     "text": [
      "Something went wrong.\n"
     ]
    }
   ],
   "source": [
    "try:\n",
    "    1/0\n",
    "except:\n",
    "    print(\"Something went wrong.\")"
   ]
  },
  {
   "cell_type": "code",
   "execution_count": 27,
   "metadata": {},
   "outputs": [
    {
     "name": "stdout",
     "output_type": "stream",
     "text": [
      "Something went wrong.\n"
     ]
    },
    {
     "ename": "ZeroDivisionError",
     "evalue": "division by zero",
     "output_type": "error",
     "traceback": [
      "\u001b[0;31m---------------------------------------------------------------------------\u001b[0m",
      "\u001b[0;31mZeroDivisionError\u001b[0m                         Traceback (most recent call last)",
      "\u001b[0;32m<ipython-input-27-9a2c39c2ba3d>\u001b[0m in \u001b[0;36m<module>\u001b[0;34m()\u001b[0m\n\u001b[1;32m      3\u001b[0m \u001b[0;32mexcept\u001b[0m \u001b[0mZeroDivisionError\u001b[0m \u001b[0;32mas\u001b[0m \u001b[0merr\u001b[0m\u001b[0;34m:\u001b[0m\u001b[0;34m\u001b[0m\u001b[0m\n\u001b[1;32m      4\u001b[0m     \u001b[0mprint\u001b[0m\u001b[0;34m(\u001b[0m\u001b[0;34m\"Something went wrong.\"\u001b[0m\u001b[0;34m)\u001b[0m\u001b[0;34m\u001b[0m\u001b[0m\n\u001b[0;32m----> 5\u001b[0;31m     \u001b[0;32mraise\u001b[0m\u001b[0;34m(\u001b[0m\u001b[0merr\u001b[0m\u001b[0;34m)\u001b[0m\u001b[0;34m\u001b[0m\u001b[0m\n\u001b[0m",
      "\u001b[0;32m<ipython-input-27-9a2c39c2ba3d>\u001b[0m in \u001b[0;36m<module>\u001b[0;34m()\u001b[0m\n\u001b[1;32m      1\u001b[0m \u001b[0;32mtry\u001b[0m\u001b[0;34m:\u001b[0m\u001b[0;34m\u001b[0m\u001b[0m\n\u001b[0;32m----> 2\u001b[0;31m     \u001b[0;36m1\u001b[0m\u001b[0;34m/\u001b[0m\u001b[0;36m0\u001b[0m\u001b[0;34m\u001b[0m\u001b[0m\n\u001b[0m\u001b[1;32m      3\u001b[0m \u001b[0;32mexcept\u001b[0m \u001b[0mZeroDivisionError\u001b[0m \u001b[0;32mas\u001b[0m \u001b[0merr\u001b[0m\u001b[0;34m:\u001b[0m\u001b[0;34m\u001b[0m\u001b[0m\n\u001b[1;32m      4\u001b[0m     \u001b[0mprint\u001b[0m\u001b[0;34m(\u001b[0m\u001b[0;34m\"Something went wrong.\"\u001b[0m\u001b[0;34m)\u001b[0m\u001b[0;34m\u001b[0m\u001b[0m\n\u001b[1;32m      5\u001b[0m     \u001b[0;32mraise\u001b[0m\u001b[0;34m(\u001b[0m\u001b[0merr\u001b[0m\u001b[0;34m)\u001b[0m\u001b[0;34m\u001b[0m\u001b[0m\n",
      "\u001b[0;31mZeroDivisionError\u001b[0m: division by zero"
     ]
    }
   ],
   "source": [
    "try:\n",
    "    1/0\n",
    "except ZeroDivisionError as err:\n",
    "    print(\"Something went wrong.\")\n",
    "    raise(err)"
   ]
  },
  {
   "cell_type": "code",
   "execution_count": 28,
   "metadata": {},
   "outputs": [
    {
     "ename": "ZeroDivisionError",
     "evalue": "division by zero",
     "output_type": "error",
     "traceback": [
      "\u001b[0;31m---------------------------------------------------------------------------\u001b[0m",
      "\u001b[0;31mZeroDivisionError\u001b[0m                         Traceback (most recent call last)",
      "\u001b[0;32m<ipython-input-28-b55c17bc580e>\u001b[0m in \u001b[0;36m<module>\u001b[0;34m()\u001b[0m\n\u001b[1;32m      1\u001b[0m \u001b[0;32mtry\u001b[0m\u001b[0;34m:\u001b[0m\u001b[0;34m\u001b[0m\u001b[0m\n\u001b[0;32m----> 2\u001b[0;31m     \u001b[0;36m1\u001b[0m\u001b[0;34m/\u001b[0m\u001b[0;36m0\u001b[0m\u001b[0;34m\u001b[0m\u001b[0m\n\u001b[0m\u001b[1;32m      3\u001b[0m \u001b[0;32mexcept\u001b[0m \u001b[0mFileNotFoundError\u001b[0m\u001b[0;34m:\u001b[0m\u001b[0;34m\u001b[0m\u001b[0m\n\u001b[1;32m      4\u001b[0m     \u001b[0mprint\u001b[0m\u001b[0;34m(\u001b[0m\u001b[0;34m\"This error isn't raised, so we're not here.\"\u001b[0m\u001b[0;34m)\u001b[0m\u001b[0;34m\u001b[0m\u001b[0m\n",
      "\u001b[0;31mZeroDivisionError\u001b[0m: division by zero"
     ]
    }
   ],
   "source": [
    "try:\n",
    "    1/0\n",
    "except FileNotFoundError:\n",
    "    print(\"This error isn't raised, so we're not here.\")"
   ]
  },
  {
   "cell_type": "markdown",
   "metadata": {},
   "source": [
    "The final thing to note in the block above is the use of `print` to provide some information about what went wrong. Logging is another really good habit to get into, and print statements are the dead simplest way to log the behavior of your code.\n",
    "\n",
    "In practice, you probably don't want to use `print`. You want to use the [logging](https://docs.python.org/3/library/logging.html) module, but we're not going to talk about best practices in logging anymore today."
   ]
  },
  {
   "cell_type": "markdown",
   "metadata": {},
   "source": [
    "### Reading Data: json"
   ]
  },
  {
   "cell_type": "markdown",
   "metadata": {},
   "source": [
    "Perhaps the second most common file format after CSVs is the `JSON` format. JSON stands for JavaScript Object Notation. When reading data from an API, for example, you will often encounter json files. Or reading data exported from ElasticSearch."
   ]
  },
  {
   "cell_type": "markdown",
   "metadata": {},
   "source": [
    "Each line in the file `data/health_inspection_chi_sample.json` is a single json object that represents the same data above. "
   ]
  },
  {
   "cell_type": "code",
   "execution_count": 29,
   "metadata": {},
   "outputs": [
    {
     "name": "stdout",
     "output_type": "stream",
     "text": [
      "{\"address\":\"5255 W MADISON ST \",\"aka_name\":\"RED SNAPPER FISH CHICKEN & PIZZA\",\"city\":\"CHICAGO\",\"dba_name\":\"RED SNAPPER FISH CHICKEN & PIZZA\",\"facility_type\":\"Restaurant\",\"inspection_date\":\"2016-09-26T00:00:00.000\",\"inspection_id\":1965287,\"inspection_type\":\"Canvass\",\"latitude\":41.8802365439,\"license_\":1991820.0,\"location\":{\"type\":\"Point\",\"coordinates\":[-87.7572203921,41.8802365439]},\"longitude\":-87.7572203921,\"results\":\"Pass w\\/ Conditions\",\"risk\":\"Risk 1 (High)\",\"state\":\"IL\",\"violations\":\"35. WALLS, CEILINGS, ATTACHED EQUIPMENT CONSTRUCTED PER CODE: GOOD REPAIR, SURFACES CLEAN AND DUST-LESS CLEANING METHODS - Comments: MUST CLEAN THE WALLS AT WALL BASE NEAR THE MIXER IN REAR OF PREMISES AND THE PREP AREA OF FOOD SPILLS AND CLEAN THE WALL VENT IN PREP AREA ,INSTRUCTED TO CLEAN AND MAINTAIN AREA | 33. FOOD AND NON-FOOD CONTACT EQUIPMENT UTENSILS CLEAN, FREE OF ABRASIVE DETERGENTS - Comments: MUST CLEAN THE INTERIOR PANEL OF THE ICE MACHINE IN REAR OF PREMISES | 34. FLOORS: CONSTRUCTED PER CODE, CLEANED, GOOD REPAIR, COVING INSTALLED, DUST-LESS CLEANING METHODS USED - Comments: MUST CLEAN FLOORS THROUGHOUT PREMISES,ALONG WALL BASE AND CORNERS OF GREASE AND DIRT BUILD-UP,INSTRUCTED TO CLEAN AND MAINTAIN AREA | 36. LIGHTING: REQUIRED MINIMUM FOOT-CANDLES OF LIGHT PROVIDED, FIXTURES SHIELDED - Comments: MUST PROVIDE A LIGHT SHIELD COVER FOR THE WALK-IN FREEZER IN REAR OF PREMISES | 22. DISH MACHINES: PROVIDED WITH ACCURATE THERMOMETERS, CHEMICAL TEST KITS AND SUITABLE GAUGE COCK - Comments: OBSERVED NO CHEMICAL TEST STRIPS TO TEST THE SANITIZER AT 3 COMPARTMENT SINK,WHEN SINK IS SET UP FOR WASH,RINSE AND SANITIZE,INSTRUCTED TO PROVIDE SERIOUS VIOLATION 7-38-030 | 40. REFRIGERATION AND METAL STEM THERMOMETERS PROVIDED AND CONSPICUOUS - Comments: MUST PROVIDE A THERMOMETER INSIDE THE PREP COOLER IN PREP AREA\",\"zip\":60644.0}\r\n"
     ]
    }
   ],
   "source": [
    "!head -n 1 data/health_inspection_chi_sample.json"
   ]
  },
  {
   "cell_type": "markdown",
   "metadata": {},
   "source": [
    "We can use the `json` module to read and manipulate json data."
   ]
  },
  {
   "cell_type": "code",
   "execution_count": 30,
   "metadata": {},
   "outputs": [],
   "source": [
    "import json"
   ]
  },
  {
   "cell_type": "markdown",
   "metadata": {},
   "source": [
    "Since each line is a json object here, we need to iterate over the file and parse each line. We use the `json.loads` function here for \"load string.\" The similar function `json.load` takes a file-like object."
   ]
  },
  {
   "cell_type": "code",
   "execution_count": 31,
   "metadata": {
    "scrolled": true
   },
   "outputs": [
    {
     "name": "stdout",
     "output_type": "stream",
     "text": [
      "{'address': '5255 W MADISON ST ',\n",
      " 'aka_name': 'RED SNAPPER FISH CHICKEN & PIZZA',\n",
      " 'city': 'CHICAGO',\n",
      " 'dba_name': 'RED SNAPPER FISH CHICKEN & PIZZA',\n",
      " 'facility_type': 'Restaurant',\n",
      " 'inspection_date': '2016-09-26T00:00:00.000',\n",
      " 'inspection_id': 1965287,\n",
      " 'inspection_type': 'Canvass',\n",
      " 'latitude': 41.8802365439,\n",
      " 'license_': 1991820.0,\n",
      " 'location': {'coordinates': [-87.7572203921, 41.8802365439], 'type': 'Point'},\n",
      " 'longitude': -87.7572203921,\n",
      " 'results': 'Pass w/ Conditions',\n",
      " 'risk': 'Risk 1 (High)',\n",
      " 'state': 'IL',\n",
      " 'violations': '35. WALLS, CEILINGS, ATTACHED EQUIPMENT CONSTRUCTED PER CODE: '\n",
      "               'GOOD REPAIR, SURFACES CLEAN AND DUST-LESS CLEANING METHODS - '\n",
      "               'Comments: MUST CLEAN THE WALLS AT WALL BASE NEAR THE MIXER IN '\n",
      "               'REAR OF PREMISES AND THE PREP AREA OF FOOD SPILLS AND CLEAN '\n",
      "               'THE WALL VENT IN PREP AREA ,INSTRUCTED TO CLEAN AND MAINTAIN '\n",
      "               'AREA | 33. FOOD AND NON-FOOD CONTACT EQUIPMENT UTENSILS CLEAN, '\n",
      "               'FREE OF ABRASIVE DETERGENTS - Comments: MUST CLEAN THE '\n",
      "               'INTERIOR PANEL OF THE ICE MACHINE IN REAR OF PREMISES | 34. '\n",
      "               'FLOORS: CONSTRUCTED PER CODE, CLEANED, GOOD REPAIR, COVING '\n",
      "               'INSTALLED, DUST-LESS CLEANING METHODS USED - Comments: MUST '\n",
      "               'CLEAN FLOORS THROUGHOUT PREMISES,ALONG WALL BASE AND CORNERS '\n",
      "               'OF GREASE AND DIRT BUILD-UP,INSTRUCTED TO CLEAN AND MAINTAIN '\n",
      "               'AREA | 36. LIGHTING: REQUIRED MINIMUM FOOT-CANDLES OF LIGHT '\n",
      "               'PROVIDED, FIXTURES SHIELDED - Comments: MUST PROVIDE A LIGHT '\n",
      "               'SHIELD COVER FOR THE WALK-IN FREEZER IN REAR OF PREMISES | 22. '\n",
      "               'DISH MACHINES: PROVIDED WITH ACCURATE THERMOMETERS, CHEMICAL '\n",
      "               'TEST KITS AND SUITABLE GAUGE COCK - Comments: OBSERVED NO '\n",
      "               'CHEMICAL TEST STRIPS TO TEST THE SANITIZER AT 3 COMPARTMENT '\n",
      "               'SINK,WHEN SINK IS SET UP FOR WASH,RINSE AND '\n",
      "               'SANITIZE,INSTRUCTED TO PROVIDE SERIOUS VIOLATION 7-38-030 | '\n",
      "               '40. REFRIGERATION AND METAL STEM THERMOMETERS PROVIDED AND '\n",
      "               'CONSPICUOUS - Comments: MUST PROVIDE A THERMOMETER INSIDE THE '\n",
      "               'PREP COOLER IN PREP AREA',\n",
      " 'zip': 60644.0}\n"
     ]
    }
   ],
   "source": [
    "dta = []\n",
    "\n",
    "with open(\"data/health_inspection_chi_sample.json\") as json_file:\n",
    "    for line in json_file:\n",
    "        line = json.loads(line)\n",
    "        dta.append(line)\n",
    "\n",
    "pprint(dta[0])"
   ]
  },
  {
   "cell_type": "markdown",
   "metadata": {},
   "source": [
    "`json.loads` places each json object into a Python dictionary, helpfully filling in `None` for `null` for missing values and otherwise preserving types. It also, works recursively as we see in the `location` field."
   ]
  },
  {
   "cell_type": "markdown",
   "metadata": {},
   "source": [
    "## Aside: List Comprehensions"
   ]
  },
  {
   "cell_type": "markdown",
   "metadata": {},
   "source": [
    "Let's take a look at another Pythonic concept, introduced a bit above, called a **list comprehension**. This is what's called *syntactic sugar*. It's a concise way to create a list."
   ]
  },
  {
   "cell_type": "code",
   "execution_count": 32,
   "metadata": {},
   "outputs": [
    {
     "data": {
      "text/plain": [
       "[1, 2, 3, 4, 5]"
      ]
     },
     "execution_count": 32,
     "metadata": {},
     "output_type": "execute_result"
    }
   ],
   "source": [
    "[i for i in range(1, 6)]"
   ]
  },
  {
   "cell_type": "markdown",
   "metadata": {},
   "source": [
    "Alternatively, we could have made this list by writing"
   ]
  },
  {
   "cell_type": "code",
   "execution_count": 33,
   "metadata": {},
   "outputs": [
    {
     "data": {
      "text/plain": [
       "[1, 2, 3, 4, 5]"
      ]
     },
     "execution_count": 33,
     "metadata": {},
     "output_type": "execute_result"
    }
   ],
   "source": [
    "result_list = []\n",
    "\n",
    "for i in range(1, 6):\n",
    "    result_list.append(i)\n",
    "\n",
    "result_list"
   ]
  },
  {
   "cell_type": "markdown",
   "metadata": {},
   "source": [
    "List comprehensions can contain logic."
   ]
  },
  {
   "cell_type": "code",
   "execution_count": 34,
   "metadata": {},
   "outputs": [],
   "source": [
    "x = ['a', 'b', 'c', 'd', '_e', '_f']"
   ]
  },
  {
   "cell_type": "code",
   "execution_count": 36,
   "metadata": {},
   "outputs": [
    {
     "data": {
      "text/plain": [
       "['a', 'b', 'c', 'd']"
      ]
     },
     "execution_count": 36,
     "metadata": {},
     "output_type": "execute_result"
    }
   ],
   "source": [
    "[i for i in x if not i.startswith('_')]"
   ]
  },
  {
   "cell_type": "markdown",
   "metadata": {},
   "source": [
    "You can also use a an else clause. Notice the slightly different syntax."
   ]
  },
  {
   "cell_type": "code",
   "execution_count": 37,
   "metadata": {},
   "outputs": [
    {
     "data": {
      "text/plain": [
       "['a', 'b', 'c', 'd', 'skipped', 'skipped']"
      ]
     },
     "execution_count": 37,
     "metadata": {},
     "output_type": "execute_result"
    }
   ],
   "source": [
    "[i if not i.startswith('_') else 'skipped' for i in x]"
   ]
  },
  {
   "cell_type": "markdown",
   "metadata": {},
   "source": [
    "List comprehensions can be nested, though it's usually best practices not to go overboard. They can quickly become difficult to read."
   ]
  },
  {
   "cell_type": "code",
   "execution_count": 38,
   "metadata": {},
   "outputs": [],
   "source": [
    "matrix = [\n",
    "    [1, 2, 3, 4],\n",
    "    [5, 6, 7, 8],\n",
    "    [9, 10, 11, 12],\n",
    "]"
   ]
  },
  {
   "cell_type": "markdown",
   "metadata": {},
   "source": [
    "Notice that we write this from outside to in."
   ]
  },
  {
   "cell_type": "code",
   "execution_count": 39,
   "metadata": {},
   "outputs": [
    {
     "data": {
      "text/plain": [
       "[1, 2, 3, 4, 5, 6, 7, 8, 9, 10, 11, 12]"
      ]
     },
     "execution_count": 39,
     "metadata": {},
     "output_type": "execute_result"
    }
   ],
   "source": [
    "[element for row in matrix for element in row]"
   ]
  },
  {
   "cell_type": "markdown",
   "metadata": {},
   "source": [
    "You can also create **dictionary comprehensions**."
   ]
  },
  {
   "cell_type": "code",
   "execution_count": 40,
   "metadata": {},
   "outputs": [],
   "source": [
    "pairs = [\n",
    "    (\"first_initial\", \"J\"), \n",
    "    (\"last_name\", \"Doe\"), \n",
    "    (\"address\", \"1234 Main Street\")\n",
    "]"
   ]
  },
  {
   "cell_type": "code",
   "execution_count": 41,
   "metadata": {},
   "outputs": [
    {
     "data": {
      "text/plain": [
       "{'first_initial': 'J', 'last_name': 'Doe', 'address': '1234 Main Street'}"
      ]
     },
     "execution_count": 41,
     "metadata": {},
     "output_type": "execute_result"
    }
   ],
   "source": [
    "{key: value for key, value in pairs}"
   ]
  },
  {
   "cell_type": "markdown",
   "metadata": {},
   "source": [
    "## Exercise\n",
    "\n",
    "Returning to the code that we introduced above, we can take further control over how a file with json objects is read in by using the `object_hook` argument in `json.loads`. Say we wanted to remove the `location` field above. We don't need the `geoJSON` formatted information. We could do so with the `object_hook`. \n",
    "\n",
    "The syntax is: `json.loads(json_object, object_hook=some_function)`\n",
    "\n",
    "This will pass the `json_object` to the function passed to the `object_hook` argument.\n",
    "\n",
    "Write a function called `remove_entry` that removes the `'location'` field from each record in the `'data/health_inspection_chi_sample.json'` file. Do not forget to `import json`.\n",
    "\n",
    "Pass this function to the `object_hook` argument of `json.loads`. Be careful, `object_hook` will get called recursively on nested json objects."
   ]
  },
  {
   "cell_type": "code",
   "execution_count": null,
   "metadata": {},
   "outputs": [],
   "source": [
    "# Type your solution here"
   ]
  },
  {
   "cell_type": "code",
   "execution_count": null,
   "metadata": {},
   "outputs": [],
   "source": [
    "# %load solutions/object_hook_json.py\n",
    "import json\n",
    "from pprint import pprint\n",
    "\n",
    "\n",
    "def remove_entry(record):\n",
    "    try:\n",
    "        del record['location']\n",
    "    # this is called recursively on objects so not all have it\n",
    "    except KeyError:\n",
    "        pass\n",
    "\n",
    "    return record\n",
    "\n",
    "\n",
    "def parse_json(record):\n",
    "    return json.loads(record, object_hook=remove_entry)\n",
    "\n",
    "\n",
    "with open(\"data/health_inspection_chi_sample.json\") as json_file:\n",
    "    dta = [parse_json(line) for line in json_file]\n",
    "\n",
    "\n",
    "pprint(dta[0])\n"
   ]
  },
  {
   "cell_type": "markdown",
   "metadata": {},
   "source": [
    "### Reading Data: pandas"
   ]
  },
  {
   "cell_type": "markdown",
   "metadata": {},
   "source": [
    "Now let's take a look at using [pandas]() to read data."
   ]
  },
  {
   "cell_type": "markdown",
   "metadata": {},
   "source": [
    "#### Introducing Pandas\n",
    "\n",
    "First, a few words of introduction for **pandas**. Pandas is a Python package, built on top of **numpy**, that provides fast, flexible, and expressive data structures designed to work with relational or labeled data. It is a high-level tool for doing practical, real world data analysis in Python.\n",
    "\n",
    "You reach for pandas when you have:\n",
    "\n",
    "* Tabular data with heterogeneously-typed columns\n",
    "* Ordered and unordered (not necessarily fixed-frequency) time series data.\n",
    "* Arbitrary matrix data with row and column labels\n",
    "\n",
    "Almost any dataset can be converted to a pandas data structure for cleaning, transformation, and analysis. Incidentally, the pandas DataFrame also works well with __*R*__.\n"
   ]
  },
  {
   "cell_type": "markdown",
   "metadata": {},
   "source": [
    "First, let's import the pandas."
   ]
  },
  {
   "cell_type": "code",
   "execution_count": 44,
   "metadata": {},
   "outputs": [],
   "source": [
    "import pandas as pd"
   ]
  },
  {
   "cell_type": "markdown",
   "metadata": {},
   "source": [
    "Let's set some display options."
   ]
  },
  {
   "cell_type": "code",
   "execution_count": 45,
   "metadata": {},
   "outputs": [],
   "source": [
    "pd.set_option(\"max.rows\", 6)"
   ]
  },
  {
   "cell_type": "markdown",
   "metadata": {},
   "source": [
    "Pandas has facilities for reading csv files and files containing JSON records (and other formats). We can use `read_csv` for csv files."
   ]
  },
  {
   "cell_type": "code",
   "execution_count": 46,
   "metadata": {},
   "outputs": [
    {
     "data": {
      "text/html": [
       "<div>\n",
       "<style scoped>\n",
       "    .dataframe tbody tr th:only-of-type {\n",
       "        vertical-align: middle;\n",
       "    }\n",
       "\n",
       "    .dataframe tbody tr th {\n",
       "        vertical-align: top;\n",
       "    }\n",
       "\n",
       "    .dataframe thead th {\n",
       "        text-align: right;\n",
       "    }\n",
       "</style>\n",
       "<table border=\"1\" class=\"dataframe\">\n",
       "  <thead>\n",
       "    <tr style=\"text-align: right;\">\n",
       "      <th></th>\n",
       "      <th>address</th>\n",
       "      <th>aka_name</th>\n",
       "      <th>city</th>\n",
       "      <th>dba_name</th>\n",
       "      <th>facility_type</th>\n",
       "      <th>inspection_date</th>\n",
       "      <th>inspection_id</th>\n",
       "      <th>inspection_type</th>\n",
       "      <th>latitude</th>\n",
       "      <th>license_</th>\n",
       "      <th>location</th>\n",
       "      <th>longitude</th>\n",
       "      <th>results</th>\n",
       "      <th>risk</th>\n",
       "      <th>state</th>\n",
       "      <th>violations</th>\n",
       "      <th>zip</th>\n",
       "    </tr>\n",
       "  </thead>\n",
       "  <tbody>\n",
       "    <tr>\n",
       "      <th>0</th>\n",
       "      <td>5255 W MADISON ST</td>\n",
       "      <td>RED SNAPPER FISH CHICKEN &amp; PIZZA</td>\n",
       "      <td>CHICAGO</td>\n",
       "      <td>RED SNAPPER FISH CHICKEN &amp; PIZZA</td>\n",
       "      <td>Restaurant</td>\n",
       "      <td>2016-09-26T00:00:00.000</td>\n",
       "      <td>1965287</td>\n",
       "      <td>Canvass</td>\n",
       "      <td>41.880237</td>\n",
       "      <td>1991820.0</td>\n",
       "      <td>{'type': 'Point', 'coordinates': [-87.75722039...</td>\n",
       "      <td>-87.757220</td>\n",
       "      <td>Pass w/ Conditions</td>\n",
       "      <td>Risk 1 (High)</td>\n",
       "      <td>IL</td>\n",
       "      <td>35. WALLS, CEILINGS, ATTACHED EQUIPMENT CONSTR...</td>\n",
       "      <td>60644.0</td>\n",
       "    </tr>\n",
       "    <tr>\n",
       "      <th>1</th>\n",
       "      <td>5958 W DIVERSEY AVE</td>\n",
       "      <td>TAQUERIA MORELOS</td>\n",
       "      <td>CHICAGO</td>\n",
       "      <td>TAQUERIA MORELOS</td>\n",
       "      <td>Restaurant</td>\n",
       "      <td>2014-02-06T00:00:00.000</td>\n",
       "      <td>1329698</td>\n",
       "      <td>Canvass</td>\n",
       "      <td>41.931250</td>\n",
       "      <td>2099479.0</td>\n",
       "      <td>{'type': 'Point', 'coordinates': [-87.77590699...</td>\n",
       "      <td>-87.775907</td>\n",
       "      <td>Pass</td>\n",
       "      <td>Risk 1 (High)</td>\n",
       "      <td>IL</td>\n",
       "      <td>33. FOOD AND NON-FOOD CONTACT EQUIPMENT UTENSI...</td>\n",
       "      <td>60639.0</td>\n",
       "    </tr>\n",
       "    <tr>\n",
       "      <th>2</th>\n",
       "      <td>5400-5402 N CLARK ST</td>\n",
       "      <td>HAMBURGER MARY'S/MARY'S REC ROOM</td>\n",
       "      <td>CHICAGO</td>\n",
       "      <td>HAMBURGER MARY'S CHICAGO/MARY'S REC ROOM</td>\n",
       "      <td>Restaurant</td>\n",
       "      <td>2010-12-03T00:00:00.000</td>\n",
       "      <td>470787</td>\n",
       "      <td>SFP</td>\n",
       "      <td>41.979884</td>\n",
       "      <td>1933748.0</td>\n",
       "      <td>{'type': 'Point', 'coordinates': [-87.66842948...</td>\n",
       "      <td>-87.668429</td>\n",
       "      <td>Fail</td>\n",
       "      <td>Risk 1 (High)</td>\n",
       "      <td>IL</td>\n",
       "      <td>6. HANDS WASHED AND CLEANED, GOOD HYGIENIC PRA...</td>\n",
       "      <td>60640.0</td>\n",
       "    </tr>\n",
       "    <tr>\n",
       "      <th>...</th>\n",
       "      <td>...</td>\n",
       "      <td>...</td>\n",
       "      <td>...</td>\n",
       "      <td>...</td>\n",
       "      <td>...</td>\n",
       "      <td>...</td>\n",
       "      <td>...</td>\n",
       "      <td>...</td>\n",
       "      <td>...</td>\n",
       "      <td>...</td>\n",
       "      <td>...</td>\n",
       "      <td>...</td>\n",
       "      <td>...</td>\n",
       "      <td>...</td>\n",
       "      <td>...</td>\n",
       "      <td>...</td>\n",
       "      <td>...</td>\n",
       "    </tr>\n",
       "    <tr>\n",
       "      <th>997</th>\n",
       "      <td>3251 E 92ND ST</td>\n",
       "      <td>VICTORY CENTRE OF SOUTH CHICAGO SLF</td>\n",
       "      <td>CHICAGO</td>\n",
       "      <td>VICTORY CENTRE OF SOUTH CHICAGO SLF</td>\n",
       "      <td>ASSISTED LIVING</td>\n",
       "      <td>2012-10-12T00:00:00.000</td>\n",
       "      <td>1296216</td>\n",
       "      <td>Canvass</td>\n",
       "      <td>41.728214</td>\n",
       "      <td>1968546.0</td>\n",
       "      <td>{'type': 'Point', 'coordinates': [-87.54469279...</td>\n",
       "      <td>-87.544693</td>\n",
       "      <td>Pass</td>\n",
       "      <td>Risk 1 (High)</td>\n",
       "      <td>IL</td>\n",
       "      <td>34. FLOORS: CONSTRUCTED PER CODE, CLEANED, GOO...</td>\n",
       "      <td>60617.0</td>\n",
       "    </tr>\n",
       "    <tr>\n",
       "      <th>998</th>\n",
       "      <td>4300 S UNION AVE</td>\n",
       "      <td>TUXEDO JUNCTION #2</td>\n",
       "      <td>CHICAGO</td>\n",
       "      <td>TUXEDO JUNCTION #2</td>\n",
       "      <td>Grocery Store</td>\n",
       "      <td>2011-07-14T00:00:00.000</td>\n",
       "      <td>585793</td>\n",
       "      <td>Canvass</td>\n",
       "      <td>41.816186</td>\n",
       "      <td>8974.0</td>\n",
       "      <td>{'type': 'Point', 'coordinates': [-87.64345182...</td>\n",
       "      <td>-87.643452</td>\n",
       "      <td>Fail</td>\n",
       "      <td>Risk 2 (Medium)</td>\n",
       "      <td>IL</td>\n",
       "      <td>16. FOOD PROTECTED DURING STORAGE, PREPARATION...</td>\n",
       "      <td>60609.0</td>\n",
       "    </tr>\n",
       "    <tr>\n",
       "      <th>999</th>\n",
       "      <td>3820 W CHICAGO AVE</td>\n",
       "      <td>Bro-N-Laws</td>\n",
       "      <td>CHICAGO</td>\n",
       "      <td>Bro-N-Laws</td>\n",
       "      <td>Restaurant</td>\n",
       "      <td>2015-08-19T00:00:00.000</td>\n",
       "      <td>1566470</td>\n",
       "      <td>Complaint Re-Inspection</td>\n",
       "      <td>41.895513</td>\n",
       "      <td>2288968.0</td>\n",
       "      <td>{'type': 'Point', 'coordinates': [-87.72216981...</td>\n",
       "      <td>-87.722170</td>\n",
       "      <td>Pass</td>\n",
       "      <td>Risk 1 (High)</td>\n",
       "      <td>IL</td>\n",
       "      <td>45. FOOD HANDLER REQUIREMENTS MET - Comments: ...</td>\n",
       "      <td>60651.0</td>\n",
       "    </tr>\n",
       "  </tbody>\n",
       "</table>\n",
       "<p>1000 rows × 17 columns</p>\n",
       "</div>"
      ],
      "text/plain": [
       "                   address                             aka_name     city  \\\n",
       "0       5255 W MADISON ST      RED SNAPPER FISH CHICKEN & PIZZA  CHICAGO   \n",
       "1     5958 W DIVERSEY AVE                      TAQUERIA MORELOS  CHICAGO   \n",
       "2    5400-5402 N CLARK ST      HAMBURGER MARY'S/MARY'S REC ROOM  CHICAGO   \n",
       "..                     ...                                  ...      ...   \n",
       "997        3251 E 92ND ST   VICTORY CENTRE OF SOUTH CHICAGO SLF  CHICAGO   \n",
       "998      4300 S UNION AVE                    TUXEDO JUNCTION #2  CHICAGO   \n",
       "999    3820 W CHICAGO AVE                            Bro-N-Laws  CHICAGO   \n",
       "\n",
       "                                     dba_name    facility_type  \\\n",
       "0            RED SNAPPER FISH CHICKEN & PIZZA       Restaurant   \n",
       "1                            TAQUERIA MORELOS       Restaurant   \n",
       "2    HAMBURGER MARY'S CHICAGO/MARY'S REC ROOM       Restaurant   \n",
       "..                                        ...              ...   \n",
       "997       VICTORY CENTRE OF SOUTH CHICAGO SLF  ASSISTED LIVING   \n",
       "998                        TUXEDO JUNCTION #2    Grocery Store   \n",
       "999                                Bro-N-Laws       Restaurant   \n",
       "\n",
       "             inspection_date  inspection_id          inspection_type  \\\n",
       "0    2016-09-26T00:00:00.000        1965287                  Canvass   \n",
       "1    2014-02-06T00:00:00.000        1329698                  Canvass   \n",
       "2    2010-12-03T00:00:00.000         470787                      SFP   \n",
       "..                       ...            ...                      ...   \n",
       "997  2012-10-12T00:00:00.000        1296216                  Canvass   \n",
       "998  2011-07-14T00:00:00.000         585793                  Canvass   \n",
       "999  2015-08-19T00:00:00.000        1566470  Complaint Re-Inspection   \n",
       "\n",
       "      latitude   license_                                           location  \\\n",
       "0    41.880237  1991820.0  {'type': 'Point', 'coordinates': [-87.75722039...   \n",
       "1    41.931250  2099479.0  {'type': 'Point', 'coordinates': [-87.77590699...   \n",
       "2    41.979884  1933748.0  {'type': 'Point', 'coordinates': [-87.66842948...   \n",
       "..         ...        ...                                                ...   \n",
       "997  41.728214  1968546.0  {'type': 'Point', 'coordinates': [-87.54469279...   \n",
       "998  41.816186     8974.0  {'type': 'Point', 'coordinates': [-87.64345182...   \n",
       "999  41.895513  2288968.0  {'type': 'Point', 'coordinates': [-87.72216981...   \n",
       "\n",
       "     longitude             results             risk state  \\\n",
       "0   -87.757220  Pass w/ Conditions    Risk 1 (High)    IL   \n",
       "1   -87.775907                Pass    Risk 1 (High)    IL   \n",
       "2   -87.668429                Fail    Risk 1 (High)    IL   \n",
       "..         ...                 ...              ...   ...   \n",
       "997 -87.544693                Pass    Risk 1 (High)    IL   \n",
       "998 -87.643452                Fail  Risk 2 (Medium)    IL   \n",
       "999 -87.722170                Pass    Risk 1 (High)    IL   \n",
       "\n",
       "                                            violations      zip  \n",
       "0    35. WALLS, CEILINGS, ATTACHED EQUIPMENT CONSTR...  60644.0  \n",
       "1    33. FOOD AND NON-FOOD CONTACT EQUIPMENT UTENSI...  60639.0  \n",
       "2    6. HANDS WASHED AND CLEANED, GOOD HYGIENIC PRA...  60640.0  \n",
       "..                                                 ...      ...  \n",
       "997  34. FLOORS: CONSTRUCTED PER CODE, CLEANED, GOO...  60617.0  \n",
       "998  16. FOOD PROTECTED DURING STORAGE, PREPARATION...  60609.0  \n",
       "999  45. FOOD HANDLER REQUIREMENTS MET - Comments: ...  60651.0  \n",
       "\n",
       "[1000 rows x 17 columns]"
      ]
     },
     "execution_count": 46,
     "metadata": {},
     "output_type": "execute_result"
    }
   ],
   "source": [
    "pd.read_csv(\"data/health_inspection_chi_sample.csv\")"
   ]
  },
  {
   "cell_type": "markdown",
   "metadata": {},
   "source": [
    "`read_csv` is one of the best/worst functions in all of Python. It's great because it does just about everything. It's terrible, because it does just about everything. Chances are if you have a special case that pandas `read_csv` will accomodate your needs. Go ahead and have a look at the `docstring`.\n"
   ]
  },
  {
   "cell_type": "code",
   "execution_count": 47,
   "metadata": {},
   "outputs": [],
   "source": [
    "pd.read_csv?"
   ]
  },
  {
   "cell_type": "markdown",
   "metadata": {},
   "source": [
    "`read_csv` returns a pandas DataFrame. We'll take a deeper dive into DataFrames next when we start to clean this data set."
   ]
  },
  {
   "cell_type": "markdown",
   "metadata": {},
   "source": [
    "The JSON counterpart to `read_csv` is `read_json`."
   ]
  },
  {
   "cell_type": "markdown",
   "metadata": {},
   "source": [
    "## Exercise\n",
    "\n",
    "Use `pd.read_json` to read in the Chicago health inspections json sample in the `data` folder. \n",
    "\n",
    "__Hints__: \n",
    "\n",
    "`read_json` has an `orient` kwarg that determines how pandas imports the data. Two of the options are `record` and `index`. For our example, since the json data is a list of json objects, each containing a separate record, the proper value for `orient` is \"record\". Try \"index\" to see how the data differs.\n",
    "\n",
    "Also, the `lines` kwarg, indicating whether the file being read consists of a json object per line, must be `True`.\n",
    "\n"
   ]
  },
  {
   "cell_type": "code",
   "execution_count": null,
   "metadata": {},
   "outputs": [],
   "source": [
    "# Type your solution Here"
   ]
  },
  {
   "cell_type": "code",
   "execution_count": 61,
   "metadata": {},
   "outputs": [
    {
     "data": {
      "text/html": [
       "<div>\n",
       "<style scoped>\n",
       "    .dataframe tbody tr th:only-of-type {\n",
       "        vertical-align: middle;\n",
       "    }\n",
       "\n",
       "    .dataframe tbody tr th {\n",
       "        vertical-align: top;\n",
       "    }\n",
       "\n",
       "    .dataframe thead th {\n",
       "        text-align: right;\n",
       "    }\n",
       "</style>\n",
       "<table border=\"1\" class=\"dataframe\">\n",
       "  <thead>\n",
       "    <tr style=\"text-align: right;\">\n",
       "      <th></th>\n",
       "      <th>address</th>\n",
       "      <th>aka_name</th>\n",
       "      <th>city</th>\n",
       "      <th>dba_name</th>\n",
       "      <th>facility_type</th>\n",
       "      <th>inspection_date</th>\n",
       "      <th>inspection_id</th>\n",
       "      <th>inspection_type</th>\n",
       "      <th>latitude</th>\n",
       "      <th>license_</th>\n",
       "      <th>location</th>\n",
       "      <th>longitude</th>\n",
       "      <th>results</th>\n",
       "      <th>risk</th>\n",
       "      <th>state</th>\n",
       "      <th>violations</th>\n",
       "      <th>zip</th>\n",
       "    </tr>\n",
       "  </thead>\n",
       "  <tbody>\n",
       "    <tr>\n",
       "      <th>0</th>\n",
       "      <td>5255 W MADISON ST</td>\n",
       "      <td>RED SNAPPER FISH CHICKEN &amp; PIZZA</td>\n",
       "      <td>CHICAGO</td>\n",
       "      <td>RED SNAPPER FISH CHICKEN &amp; PIZZA</td>\n",
       "      <td>Restaurant</td>\n",
       "      <td>2016-09-26T00:00:00.000</td>\n",
       "      <td>1965287</td>\n",
       "      <td>Canvass</td>\n",
       "      <td>41.880237</td>\n",
       "      <td>1991820.0</td>\n",
       "      <td>{'type': 'Point', 'coordinates': [-87.75722039...</td>\n",
       "      <td>-87.757220</td>\n",
       "      <td>Pass w/ Conditions</td>\n",
       "      <td>Risk 1 (High)</td>\n",
       "      <td>IL</td>\n",
       "      <td>35. WALLS, CEILINGS, ATTACHED EQUIPMENT CONSTR...</td>\n",
       "      <td>60644</td>\n",
       "    </tr>\n",
       "    <tr>\n",
       "      <th>1</th>\n",
       "      <td>5958 W DIVERSEY AVE</td>\n",
       "      <td>TAQUERIA MORELOS</td>\n",
       "      <td>CHICAGO</td>\n",
       "      <td>TAQUERIA MORELOS</td>\n",
       "      <td>Restaurant</td>\n",
       "      <td>2014-02-06T00:00:00.000</td>\n",
       "      <td>1329698</td>\n",
       "      <td>Canvass</td>\n",
       "      <td>41.931250</td>\n",
       "      <td>2099479.0</td>\n",
       "      <td>{'type': 'Point', 'coordinates': [-87.77590699...</td>\n",
       "      <td>-87.775907</td>\n",
       "      <td>Pass</td>\n",
       "      <td>Risk 1 (High)</td>\n",
       "      <td>IL</td>\n",
       "      <td>33. FOOD AND NON-FOOD CONTACT EQUIPMENT UTENSI...</td>\n",
       "      <td>60639</td>\n",
       "    </tr>\n",
       "    <tr>\n",
       "      <th>2</th>\n",
       "      <td>5400-5402 N CLARK ST</td>\n",
       "      <td>HAMBURGER MARY'S/MARY'S REC ROOM</td>\n",
       "      <td>CHICAGO</td>\n",
       "      <td>HAMBURGER MARY'S CHICAGO/MARY'S REC ROOM</td>\n",
       "      <td>Restaurant</td>\n",
       "      <td>2010-12-03T00:00:00.000</td>\n",
       "      <td>470787</td>\n",
       "      <td>SFP</td>\n",
       "      <td>41.979884</td>\n",
       "      <td>1933748.0</td>\n",
       "      <td>{'type': 'Point', 'coordinates': [-87.66842948...</td>\n",
       "      <td>-87.668429</td>\n",
       "      <td>Fail</td>\n",
       "      <td>Risk 1 (High)</td>\n",
       "      <td>IL</td>\n",
       "      <td>6. HANDS WASHED AND CLEANED, GOOD HYGIENIC PRA...</td>\n",
       "      <td>60640</td>\n",
       "    </tr>\n",
       "    <tr>\n",
       "      <th>...</th>\n",
       "      <td>...</td>\n",
       "      <td>...</td>\n",
       "      <td>...</td>\n",
       "      <td>...</td>\n",
       "      <td>...</td>\n",
       "      <td>...</td>\n",
       "      <td>...</td>\n",
       "      <td>...</td>\n",
       "      <td>...</td>\n",
       "      <td>...</td>\n",
       "      <td>...</td>\n",
       "      <td>...</td>\n",
       "      <td>...</td>\n",
       "      <td>...</td>\n",
       "      <td>...</td>\n",
       "      <td>...</td>\n",
       "      <td>...</td>\n",
       "    </tr>\n",
       "    <tr>\n",
       "      <th>997</th>\n",
       "      <td>3251 E 92ND ST</td>\n",
       "      <td>VICTORY CENTRE OF SOUTH CHICAGO SLF</td>\n",
       "      <td>CHICAGO</td>\n",
       "      <td>VICTORY CENTRE OF SOUTH CHICAGO SLF</td>\n",
       "      <td>ASSISTED LIVING</td>\n",
       "      <td>2012-10-12T00:00:00.000</td>\n",
       "      <td>1296216</td>\n",
       "      <td>Canvass</td>\n",
       "      <td>41.728214</td>\n",
       "      <td>1968546.0</td>\n",
       "      <td>{'type': 'Point', 'coordinates': [-87.54469279...</td>\n",
       "      <td>-87.544693</td>\n",
       "      <td>Pass</td>\n",
       "      <td>Risk 1 (High)</td>\n",
       "      <td>IL</td>\n",
       "      <td>34. FLOORS: CONSTRUCTED PER CODE, CLEANED, GOO...</td>\n",
       "      <td>60617</td>\n",
       "    </tr>\n",
       "    <tr>\n",
       "      <th>998</th>\n",
       "      <td>4300 S UNION AVE</td>\n",
       "      <td>TUXEDO JUNCTION #2</td>\n",
       "      <td>CHICAGO</td>\n",
       "      <td>TUXEDO JUNCTION #2</td>\n",
       "      <td>Grocery Store</td>\n",
       "      <td>2011-07-14T00:00:00.000</td>\n",
       "      <td>585793</td>\n",
       "      <td>Canvass</td>\n",
       "      <td>41.816186</td>\n",
       "      <td>8974.0</td>\n",
       "      <td>{'type': 'Point', 'coordinates': [-87.64345182...</td>\n",
       "      <td>-87.643452</td>\n",
       "      <td>Fail</td>\n",
       "      <td>Risk 2 (Medium)</td>\n",
       "      <td>IL</td>\n",
       "      <td>16. FOOD PROTECTED DURING STORAGE, PREPARATION...</td>\n",
       "      <td>60609</td>\n",
       "    </tr>\n",
       "    <tr>\n",
       "      <th>999</th>\n",
       "      <td>3820 W CHICAGO AVE</td>\n",
       "      <td>Bro-N-Laws</td>\n",
       "      <td>CHICAGO</td>\n",
       "      <td>Bro-N-Laws</td>\n",
       "      <td>Restaurant</td>\n",
       "      <td>2015-08-19T00:00:00.000</td>\n",
       "      <td>1566470</td>\n",
       "      <td>Complaint Re-Inspection</td>\n",
       "      <td>41.895513</td>\n",
       "      <td>2288968.0</td>\n",
       "      <td>{'type': 'Point', 'coordinates': [-87.72216981...</td>\n",
       "      <td>-87.722170</td>\n",
       "      <td>Pass</td>\n",
       "      <td>Risk 1 (High)</td>\n",
       "      <td>IL</td>\n",
       "      <td>45. FOOD HANDLER REQUIREMENTS MET - Comments: ...</td>\n",
       "      <td>60651</td>\n",
       "    </tr>\n",
       "  </tbody>\n",
       "</table>\n",
       "<p>1000 rows × 17 columns</p>\n",
       "</div>"
      ],
      "text/plain": [
       "                   address                             aka_name     city  \\\n",
       "0       5255 W MADISON ST      RED SNAPPER FISH CHICKEN & PIZZA  CHICAGO   \n",
       "1     5958 W DIVERSEY AVE                      TAQUERIA MORELOS  CHICAGO   \n",
       "2    5400-5402 N CLARK ST      HAMBURGER MARY'S/MARY'S REC ROOM  CHICAGO   \n",
       "..                     ...                                  ...      ...   \n",
       "997        3251 E 92ND ST   VICTORY CENTRE OF SOUTH CHICAGO SLF  CHICAGO   \n",
       "998      4300 S UNION AVE                    TUXEDO JUNCTION #2  CHICAGO   \n",
       "999    3820 W CHICAGO AVE                            Bro-N-Laws  CHICAGO   \n",
       "\n",
       "                                     dba_name    facility_type  \\\n",
       "0            RED SNAPPER FISH CHICKEN & PIZZA       Restaurant   \n",
       "1                            TAQUERIA MORELOS       Restaurant   \n",
       "2    HAMBURGER MARY'S CHICAGO/MARY'S REC ROOM       Restaurant   \n",
       "..                                        ...              ...   \n",
       "997       VICTORY CENTRE OF SOUTH CHICAGO SLF  ASSISTED LIVING   \n",
       "998                        TUXEDO JUNCTION #2    Grocery Store   \n",
       "999                                Bro-N-Laws       Restaurant   \n",
       "\n",
       "             inspection_date  inspection_id          inspection_type  \\\n",
       "0    2016-09-26T00:00:00.000        1965287                  Canvass   \n",
       "1    2014-02-06T00:00:00.000        1329698                  Canvass   \n",
       "2    2010-12-03T00:00:00.000         470787                      SFP   \n",
       "..                       ...            ...                      ...   \n",
       "997  2012-10-12T00:00:00.000        1296216                  Canvass   \n",
       "998  2011-07-14T00:00:00.000         585793                  Canvass   \n",
       "999  2015-08-19T00:00:00.000        1566470  Complaint Re-Inspection   \n",
       "\n",
       "      latitude   license_                                           location  \\\n",
       "0    41.880237  1991820.0  {'type': 'Point', 'coordinates': [-87.75722039...   \n",
       "1    41.931250  2099479.0  {'type': 'Point', 'coordinates': [-87.77590699...   \n",
       "2    41.979884  1933748.0  {'type': 'Point', 'coordinates': [-87.66842948...   \n",
       "..         ...        ...                                                ...   \n",
       "997  41.728214  1968546.0  {'type': 'Point', 'coordinates': [-87.54469279...   \n",
       "998  41.816186     8974.0  {'type': 'Point', 'coordinates': [-87.64345182...   \n",
       "999  41.895513  2288968.0  {'type': 'Point', 'coordinates': [-87.72216981...   \n",
       "\n",
       "     longitude             results             risk state  \\\n",
       "0   -87.757220  Pass w/ Conditions    Risk 1 (High)    IL   \n",
       "1   -87.775907                Pass    Risk 1 (High)    IL   \n",
       "2   -87.668429                Fail    Risk 1 (High)    IL   \n",
       "..         ...                 ...              ...   ...   \n",
       "997 -87.544693                Pass    Risk 1 (High)    IL   \n",
       "998 -87.643452                Fail  Risk 2 (Medium)    IL   \n",
       "999 -87.722170                Pass    Risk 1 (High)    IL   \n",
       "\n",
       "                                            violations    zip  \n",
       "0    35. WALLS, CEILINGS, ATTACHED EQUIPMENT CONSTR...  60644  \n",
       "1    33. FOOD AND NON-FOOD CONTACT EQUIPMENT UTENSI...  60639  \n",
       "2    6. HANDS WASHED AND CLEANED, GOOD HYGIENIC PRA...  60640  \n",
       "..                                                 ...    ...  \n",
       "997  34. FLOORS: CONSTRUCTED PER CODE, CLEANED, GOO...  60617  \n",
       "998  16. FOOD PROTECTED DURING STORAGE, PREPARATION...  60609  \n",
       "999  45. FOOD HANDLER REQUIREMENTS MET - Comments: ...  60651  \n",
       "\n",
       "[1000 rows x 17 columns]"
      ]
     },
     "execution_count": 61,
     "metadata": {},
     "output_type": "execute_result"
    }
   ],
   "source": [
    "# %load solutions/read_json.py\n",
    "import pandas as pd\n",
    "\n",
    "pd.read_json(\n",
    "    \"data/health_inspection_chi_sample.json\",\n",
    "    orient=\"record\",\n",
    "    lines=True\n",
    ")\n"
   ]
  },
  {
   "cell_type": "markdown",
   "metadata": {},
   "source": [
    "### Reading Data: web data"
   ]
  },
  {
   "cell_type": "markdown",
   "metadata": {},
   "source": [
    "So far, we've seen some ways that we can read data from disk. As Data Scientists, we often need to go out and grab data from the Internet.\n",
    "\n",
    "Generally Python is \"batteries included\" and reading data from the Internet is no exception, but there are some *great* packages out there. [requests](http://docs.python-requests.org/en/master/) is one of them for making HTTP requests.\n",
    "\n",
    "Let's look at how we can use the [Chicago Data Portal](https://data.cityofchicago.org/) API to get this data in the first place. (I originally used San Francisco for this, but the data was just too clean to be terribly interesting.)"
   ]
  },
  {
   "cell_type": "code",
   "execution_count": 62,
   "metadata": {},
   "outputs": [],
   "source": [
    "import requests"
   ]
  },
  {
   "cell_type": "markdown",
   "metadata": {},
   "source": [
    "We use the requests library to perform a GET request to the API, passing an optional query string via `params` to limit the returned number of records. The parameters are documented as part of the [Socrata Open Data API](https://dev.socrata.com/consumers/getting-started.html) (SODA)."
   ]
  },
  {
   "cell_type": "code",
   "execution_count": 63,
   "metadata": {},
   "outputs": [],
   "source": [
    "response = requests.get(\n",
    "    \"https://data.cityofchicago.org/resource/cwig-ma7x.json\", \n",
    "    params=\"$limit=10\"\n",
    ")"
   ]
  },
  {
   "cell_type": "markdown",
   "metadata": {},
   "source": [
    "Requests returns a [Reponse](http://docs.python-requests.org/en/master/api/#requests.Response) object with many helpful methods and attributes."
   ]
  },
  {
   "cell_type": "code",
   "execution_count": 64,
   "metadata": {
    "scrolled": true
   },
   "outputs": [
    {
     "data": {
      "text/plain": [
       "<Response [200]>"
      ]
     },
     "execution_count": 64,
     "metadata": {},
     "output_type": "execute_result"
    }
   ],
   "source": [
    "response"
   ]
  },
  {
   "cell_type": "code",
   "execution_count": 65,
   "metadata": {},
   "outputs": [
    {
     "data": {
      "text/plain": [
       "True"
      ]
     },
     "execution_count": 65,
     "metadata": {},
     "output_type": "execute_result"
    }
   ],
   "source": [
    "response.ok"
   ]
  },
  {
   "cell_type": "code",
   "execution_count": 66,
   "metadata": {},
   "outputs": [],
   "source": [
    "dta = pd.read_json(response.content, orient='records')"
   ]
  },
  {
   "cell_type": "markdown",
   "metadata": {},
   "source": [
    "We can use the `head` method to peak at the first 5 rows of data."
   ]
  },
  {
   "cell_type": "code",
   "execution_count": 67,
   "metadata": {},
   "outputs": [
    {
     "data": {
      "text/html": [
       "<div>\n",
       "<style scoped>\n",
       "    .dataframe tbody tr th:only-of-type {\n",
       "        vertical-align: middle;\n",
       "    }\n",
       "\n",
       "    .dataframe tbody tr th {\n",
       "        vertical-align: top;\n",
       "    }\n",
       "\n",
       "    .dataframe thead th {\n",
       "        text-align: right;\n",
       "    }\n",
       "</style>\n",
       "<table border=\"1\" class=\"dataframe\">\n",
       "  <thead>\n",
       "    <tr style=\"text-align: right;\">\n",
       "      <th></th>\n",
       "      <th>address</th>\n",
       "      <th>aka_name</th>\n",
       "      <th>city</th>\n",
       "      <th>dba_name</th>\n",
       "      <th>facility_type</th>\n",
       "      <th>inspection_date</th>\n",
       "      <th>inspection_id</th>\n",
       "      <th>inspection_type</th>\n",
       "      <th>latitude</th>\n",
       "      <th>license_</th>\n",
       "      <th>location</th>\n",
       "      <th>longitude</th>\n",
       "      <th>results</th>\n",
       "      <th>risk</th>\n",
       "      <th>state</th>\n",
       "      <th>violations</th>\n",
       "      <th>zip</th>\n",
       "    </tr>\n",
       "  </thead>\n",
       "  <tbody>\n",
       "    <tr>\n",
       "      <th>0</th>\n",
       "      <td>4949-4951 N BROADWAY</td>\n",
       "      <td>IMMM</td>\n",
       "      <td>CHICAGO</td>\n",
       "      <td>IMMM</td>\n",
       "      <td>Restaurant</td>\n",
       "      <td>2015-12-15T00:00:00.000</td>\n",
       "      <td>1591712</td>\n",
       "      <td>License</td>\n",
       "      <td>41.972963</td>\n",
       "      <td>2437509</td>\n",
       "      <td>{'type': 'Point', 'coordinates': [-87.65962861...</td>\n",
       "      <td>-87.659629</td>\n",
       "      <td>Fail</td>\n",
       "      <td>Risk 1 (High)</td>\n",
       "      <td>IL</td>\n",
       "      <td>11. ADEQUATE NUMBER, CONVENIENT, ACCESSIBLE, D...</td>\n",
       "      <td>60640</td>\n",
       "    </tr>\n",
       "    <tr>\n",
       "      <th>1</th>\n",
       "      <td>2804 N CLARK ST</td>\n",
       "      <td>Wells Street Popcorn</td>\n",
       "      <td>CHICAGO</td>\n",
       "      <td>Wells Street Popcorn</td>\n",
       "      <td>Restaurant</td>\n",
       "      <td>2010-02-01T00:00:00.000</td>\n",
       "      <td>68091</td>\n",
       "      <td>Canvass</td>\n",
       "      <td>41.932921</td>\n",
       "      <td>1954774</td>\n",
       "      <td>{'type': 'Point', 'coordinates': [-87.64515454...</td>\n",
       "      <td>-87.645155</td>\n",
       "      <td>Pass</td>\n",
       "      <td>Risk 2 (Medium)</td>\n",
       "      <td>IL</td>\n",
       "      <td>NaN</td>\n",
       "      <td>60657</td>\n",
       "    </tr>\n",
       "    <tr>\n",
       "      <th>2</th>\n",
       "      <td>100 N LA SALLE ST</td>\n",
       "      <td>PRET A MANGER</td>\n",
       "      <td>CHICAGO</td>\n",
       "      <td>PRET A MANGER</td>\n",
       "      <td>Restaurant</td>\n",
       "      <td>2010-12-06T00:00:00.000</td>\n",
       "      <td>409432</td>\n",
       "      <td>License</td>\n",
       "      <td>41.883237</td>\n",
       "      <td>2068718</td>\n",
       "      <td>{'type': 'Point', 'coordinates': [-87.63255557...</td>\n",
       "      <td>-87.632556</td>\n",
       "      <td>Pass</td>\n",
       "      <td>Risk 1 (High)</td>\n",
       "      <td>IL</td>\n",
       "      <td>NaN</td>\n",
       "      <td>60602</td>\n",
       "    </tr>\n",
       "    <tr>\n",
       "      <th>3</th>\n",
       "      <td>10806 S MICHIGAN AVE</td>\n",
       "      <td>EDDIE'S SUNSHINE FOOD &amp; LIQUOR, INC</td>\n",
       "      <td>CHICAGO</td>\n",
       "      <td>EDDIE'S SUNSHINE FOOD &amp; LIQUOR, INC</td>\n",
       "      <td>Grocery Store</td>\n",
       "      <td>2012-09-11T00:00:00.000</td>\n",
       "      <td>1154555</td>\n",
       "      <td>Canvass</td>\n",
       "      <td>41.697818</td>\n",
       "      <td>24217</td>\n",
       "      <td>{'type': 'Point', 'coordinates': [-87.62101100...</td>\n",
       "      <td>-87.621011</td>\n",
       "      <td>Fail</td>\n",
       "      <td>Risk 2 (Medium)</td>\n",
       "      <td>IL</td>\n",
       "      <td>18. NO EVIDENCE OF RODENT OR INSECT OUTER OPEN...</td>\n",
       "      <td>60628</td>\n",
       "    </tr>\n",
       "    <tr>\n",
       "      <th>4</th>\n",
       "      <td>219 W WASHINGTON ST</td>\n",
       "      <td>MED KITCHEN</td>\n",
       "      <td>CHICAGO</td>\n",
       "      <td>MED KITCHEN</td>\n",
       "      <td>Restaurant</td>\n",
       "      <td>2011-07-28T00:00:00.000</td>\n",
       "      <td>614371</td>\n",
       "      <td>Canvass</td>\n",
       "      <td>41.883100</td>\n",
       "      <td>2055163</td>\n",
       "      <td>{'type': 'Point', 'coordinates': [-87.63443384...</td>\n",
       "      <td>-87.634434</td>\n",
       "      <td>Pass</td>\n",
       "      <td>Risk 1 (High)</td>\n",
       "      <td>IL</td>\n",
       "      <td>35. WALLS, CEILINGS, ATTACHED EQUIPMENT CONSTR...</td>\n",
       "      <td>60606</td>\n",
       "    </tr>\n",
       "  </tbody>\n",
       "</table>\n",
       "</div>"
      ],
      "text/plain": [
       "                 address                             aka_name     city  \\\n",
       "0  4949-4951 N BROADWAY                                  IMMM  CHICAGO   \n",
       "1       2804 N CLARK ST                  Wells Street Popcorn  CHICAGO   \n",
       "2     100 N LA SALLE ST                         PRET A MANGER  CHICAGO   \n",
       "3  10806 S MICHIGAN AVE   EDDIE'S SUNSHINE FOOD & LIQUOR, INC  CHICAGO   \n",
       "4   219 W WASHINGTON ST                           MED KITCHEN  CHICAGO   \n",
       "\n",
       "                              dba_name  facility_type  \\\n",
       "0                                 IMMM     Restaurant   \n",
       "1                 Wells Street Popcorn     Restaurant   \n",
       "2                        PRET A MANGER     Restaurant   \n",
       "3  EDDIE'S SUNSHINE FOOD & LIQUOR, INC  Grocery Store   \n",
       "4                          MED KITCHEN     Restaurant   \n",
       "\n",
       "           inspection_date  inspection_id inspection_type   latitude  \\\n",
       "0  2015-12-15T00:00:00.000        1591712         License  41.972963   \n",
       "1  2010-02-01T00:00:00.000          68091         Canvass  41.932921   \n",
       "2  2010-12-06T00:00:00.000         409432         License  41.883237   \n",
       "3  2012-09-11T00:00:00.000        1154555         Canvass  41.697818   \n",
       "4  2011-07-28T00:00:00.000         614371         Canvass  41.883100   \n",
       "\n",
       "   license_                                           location  longitude  \\\n",
       "0   2437509  {'type': 'Point', 'coordinates': [-87.65962861... -87.659629   \n",
       "1   1954774  {'type': 'Point', 'coordinates': [-87.64515454... -87.645155   \n",
       "2   2068718  {'type': 'Point', 'coordinates': [-87.63255557... -87.632556   \n",
       "3     24217  {'type': 'Point', 'coordinates': [-87.62101100... -87.621011   \n",
       "4   2055163  {'type': 'Point', 'coordinates': [-87.63443384... -87.634434   \n",
       "\n",
       "  results             risk state  \\\n",
       "0    Fail    Risk 1 (High)    IL   \n",
       "1    Pass  Risk 2 (Medium)    IL   \n",
       "2    Pass    Risk 1 (High)    IL   \n",
       "3    Fail  Risk 2 (Medium)    IL   \n",
       "4    Pass    Risk 1 (High)    IL   \n",
       "\n",
       "                                          violations    zip  \n",
       "0  11. ADEQUATE NUMBER, CONVENIENT, ACCESSIBLE, D...  60640  \n",
       "1                                                NaN  60657  \n",
       "2                                                NaN  60602  \n",
       "3  18. NO EVIDENCE OF RODENT OR INSECT OUTER OPEN...  60628  \n",
       "4  35. WALLS, CEILINGS, ATTACHED EQUIPMENT CONSTR...  60606  "
      ]
     },
     "execution_count": 67,
     "metadata": {},
     "output_type": "execute_result"
    }
   ],
   "source": [
    "dta.head()"
   ]
  },
  {
   "cell_type": "markdown",
   "metadata": {},
   "source": [
    "Of course, pandas can also load data directly from a URL, but I encourage you to reach for `requests` as often as you need it."
   ]
  },
  {
   "cell_type": "markdown",
   "metadata": {},
   "source": [
    "## Exercise\n",
    "\n",
    "Try passing the URL above to `pd.read_json`. What happens?"
   ]
  },
  {
   "cell_type": "code",
   "execution_count": null,
   "metadata": {},
   "outputs": [],
   "source": [
    "# Type your solution here"
   ]
  },
  {
   "cell_type": "code",
   "execution_count": 69,
   "metadata": {},
   "outputs": [
    {
     "data": {
      "text/html": [
       "<div>\n",
       "<style scoped>\n",
       "    .dataframe tbody tr th:only-of-type {\n",
       "        vertical-align: middle;\n",
       "    }\n",
       "\n",
       "    .dataframe tbody tr th {\n",
       "        vertical-align: top;\n",
       "    }\n",
       "\n",
       "    .dataframe thead th {\n",
       "        text-align: right;\n",
       "    }\n",
       "</style>\n",
       "<table border=\"1\" class=\"dataframe\">\n",
       "  <thead>\n",
       "    <tr style=\"text-align: right;\">\n",
       "      <th></th>\n",
       "      <th>address</th>\n",
       "      <th>aka_name</th>\n",
       "      <th>city</th>\n",
       "      <th>dba_name</th>\n",
       "      <th>facility_type</th>\n",
       "      <th>inspection_date</th>\n",
       "      <th>inspection_id</th>\n",
       "      <th>inspection_type</th>\n",
       "      <th>latitude</th>\n",
       "      <th>license_</th>\n",
       "      <th>location</th>\n",
       "      <th>longitude</th>\n",
       "      <th>results</th>\n",
       "      <th>risk</th>\n",
       "      <th>state</th>\n",
       "      <th>violations</th>\n",
       "      <th>zip</th>\n",
       "    </tr>\n",
       "  </thead>\n",
       "  <tbody>\n",
       "    <tr>\n",
       "      <th>0</th>\n",
       "      <td>2804 N CLARK ST</td>\n",
       "      <td>Wells Street Popcorn</td>\n",
       "      <td>CHICAGO</td>\n",
       "      <td>Wells Street Popcorn</td>\n",
       "      <td>Restaurant</td>\n",
       "      <td>2010-02-01T00:00:00.000</td>\n",
       "      <td>68091</td>\n",
       "      <td>Canvass</td>\n",
       "      <td>41.932921</td>\n",
       "      <td>1954774</td>\n",
       "      <td>{'type': 'Point', 'coordinates': [-87.64515454...</td>\n",
       "      <td>-87.645155</td>\n",
       "      <td>Pass</td>\n",
       "      <td>Risk 2 (Medium)</td>\n",
       "      <td>IL</td>\n",
       "      <td>NaN</td>\n",
       "      <td>60657</td>\n",
       "    </tr>\n",
       "    <tr>\n",
       "      <th>1</th>\n",
       "      <td>6744 N SHERIDAN RD</td>\n",
       "      <td>RICE THAI CAFE</td>\n",
       "      <td>CHICAGO</td>\n",
       "      <td>RICE THAI CAFE</td>\n",
       "      <td>Restaurant</td>\n",
       "      <td>2015-08-21T00:00:00.000</td>\n",
       "      <td>1482935</td>\n",
       "      <td>Canvass Re-Inspection</td>\n",
       "      <td>42.004881</td>\n",
       "      <td>2354674</td>\n",
       "      <td>{'type': 'Point', 'coordinates': [-87.66101071...</td>\n",
       "      <td>-87.661011</td>\n",
       "      <td>Pass</td>\n",
       "      <td>Risk 1 (High)</td>\n",
       "      <td>IL</td>\n",
       "      <td>32. FOOD AND NON-FOOD CONTACT SURFACES PROPERL...</td>\n",
       "      <td>60626</td>\n",
       "    </tr>\n",
       "    <tr>\n",
       "      <th>2</th>\n",
       "      <td>160-164 E SUPERIOR ST</td>\n",
       "      <td>GINO'S EAST PIZZERIA</td>\n",
       "      <td>CHICAGO</td>\n",
       "      <td>GINO'S EAST PIZZERIA</td>\n",
       "      <td>Restaurant</td>\n",
       "      <td>2015-07-28T00:00:00.000</td>\n",
       "      <td>1447916</td>\n",
       "      <td>Suspected Food Poisoning Re-inspection</td>\n",
       "      <td>41.895863</td>\n",
       "      <td>1697132</td>\n",
       "      <td>{'type': 'Point', 'coordinates': [-87.62325304...</td>\n",
       "      <td>-87.623253</td>\n",
       "      <td>Pass</td>\n",
       "      <td>Risk 1 (High)</td>\n",
       "      <td>IL</td>\n",
       "      <td>32. FOOD AND NON-FOOD CONTACT SURFACES PROPERL...</td>\n",
       "      <td>60611</td>\n",
       "    </tr>\n",
       "    <tr>\n",
       "      <th>3</th>\n",
       "      <td>5844-5846 N BROADWAY</td>\n",
       "      <td>RAS DASHEN ETHIOPIAN RESTAURANT INC</td>\n",
       "      <td>CHICAGO</td>\n",
       "      <td>RAS DASHEN ETHIOPIAN RESTAURANT INC</td>\n",
       "      <td>Restaurant</td>\n",
       "      <td>2017-01-04T00:00:00.000</td>\n",
       "      <td>1978933</td>\n",
       "      <td>Canvass</td>\n",
       "      <td>41.988326</td>\n",
       "      <td>1122395</td>\n",
       "      <td>{'type': 'Point', 'coordinates': [-87.66036036...</td>\n",
       "      <td>-87.660360</td>\n",
       "      <td>Fail</td>\n",
       "      <td>Risk 1 (High)</td>\n",
       "      <td>IL</td>\n",
       "      <td>16. FOOD PROTECTED DURING STORAGE, PREPARATION...</td>\n",
       "      <td>60660</td>\n",
       "    </tr>\n",
       "    <tr>\n",
       "      <th>4</th>\n",
       "      <td>2352-2358 N MILWAUKEE AVE</td>\n",
       "      <td>EAST ROOM</td>\n",
       "      <td>CHICAGO</td>\n",
       "      <td>EAST ROOM</td>\n",
       "      <td>Liquor</td>\n",
       "      <td>2013-11-18T00:00:00.000</td>\n",
       "      <td>1375515</td>\n",
       "      <td>License Re-Inspection</td>\n",
       "      <td>41.923873</td>\n",
       "      <td>2263696</td>\n",
       "      <td>{'type': 'Point', 'coordinates': [-87.69916285...</td>\n",
       "      <td>-87.699163</td>\n",
       "      <td>Pass</td>\n",
       "      <td>Risk 3 (Low)</td>\n",
       "      <td>IL</td>\n",
       "      <td>NaN</td>\n",
       "      <td>60647</td>\n",
       "    </tr>\n",
       "  </tbody>\n",
       "</table>\n",
       "</div>"
      ],
      "text/plain": [
       "                      address                             aka_name     city  \\\n",
       "0            2804 N CLARK ST                  Wells Street Popcorn  CHICAGO   \n",
       "1         6744 N SHERIDAN RD                        RICE THAI CAFE  CHICAGO   \n",
       "2      160-164 E SUPERIOR ST                  GINO'S EAST PIZZERIA  CHICAGO   \n",
       "3       5844-5846 N BROADWAY   RAS DASHEN ETHIOPIAN RESTAURANT INC  CHICAGO   \n",
       "4  2352-2358 N MILWAUKEE AVE                             EAST ROOM  CHICAGO   \n",
       "\n",
       "                              dba_name facility_type          inspection_date  \\\n",
       "0                 Wells Street Popcorn    Restaurant  2010-02-01T00:00:00.000   \n",
       "1                       RICE THAI CAFE    Restaurant  2015-08-21T00:00:00.000   \n",
       "2                 GINO'S EAST PIZZERIA    Restaurant  2015-07-28T00:00:00.000   \n",
       "3  RAS DASHEN ETHIOPIAN RESTAURANT INC    Restaurant  2017-01-04T00:00:00.000   \n",
       "4                            EAST ROOM        Liquor  2013-11-18T00:00:00.000   \n",
       "\n",
       "   inspection_id                         inspection_type   latitude  license_  \\\n",
       "0          68091                                 Canvass  41.932921   1954774   \n",
       "1        1482935                   Canvass Re-Inspection  42.004881   2354674   \n",
       "2        1447916  Suspected Food Poisoning Re-inspection  41.895863   1697132   \n",
       "3        1978933                                 Canvass  41.988326   1122395   \n",
       "4        1375515                   License Re-Inspection  41.923873   2263696   \n",
       "\n",
       "                                            location  longitude results  \\\n",
       "0  {'type': 'Point', 'coordinates': [-87.64515454... -87.645155    Pass   \n",
       "1  {'type': 'Point', 'coordinates': [-87.66101071... -87.661011    Pass   \n",
       "2  {'type': 'Point', 'coordinates': [-87.62325304... -87.623253    Pass   \n",
       "3  {'type': 'Point', 'coordinates': [-87.66036036... -87.660360    Fail   \n",
       "4  {'type': 'Point', 'coordinates': [-87.69916285... -87.699163    Pass   \n",
       "\n",
       "              risk state                                         violations  \\\n",
       "0  Risk 2 (Medium)    IL                                                NaN   \n",
       "1    Risk 1 (High)    IL  32. FOOD AND NON-FOOD CONTACT SURFACES PROPERL...   \n",
       "2    Risk 1 (High)    IL  32. FOOD AND NON-FOOD CONTACT SURFACES PROPERL...   \n",
       "3    Risk 1 (High)    IL  16. FOOD PROTECTED DURING STORAGE, PREPARATION...   \n",
       "4     Risk 3 (Low)    IL                                                NaN   \n",
       "\n",
       "     zip  \n",
       "0  60657  \n",
       "1  60626  \n",
       "2  60611  \n",
       "3  60660  \n",
       "4  60647  "
      ]
     },
     "execution_count": 69,
     "metadata": {},
     "output_type": "execute_result"
    }
   ],
   "source": [
    "# %load solutions/read_url_json.py\n",
    "import pandas as pd\n",
    "\n",
    "url = ('https://data.cityofchicago.org/'\n",
    "              'resource/cwig-ma7x.json?$limit=5')\n",
    "pd.read_json(url, orient='records')\n"
   ]
  },
  {
   "cell_type": "markdown",
   "metadata": {},
   "source": [
    "Notice how you can split a string across lines. This can be a very handy tip for improving readability, by splitting a string and putting it in parentheses, we preserve a single string."
   ]
  },
  {
   "cell_type": "code",
   "execution_count": 70,
   "metadata": {},
   "outputs": [
    {
     "data": {
      "text/plain": [
       "'super long string split across lines'"
      ]
     },
     "execution_count": 70,
     "metadata": {},
     "output_type": "execute_result"
    }
   ],
   "source": [
    "(\"super \"\n",
    " \"long \"\n",
    " \"string \"\n",
    " \"split \"\n",
    " \"across \"\n",
    " \"lines\")"
   ]
  },
  {
   "cell_type": "markdown",
   "metadata": {},
   "source": [
    "#### Pandas DataReader"
   ]
  },
  {
   "cell_type": "markdown",
   "metadata": {},
   "source": [
    "In addition to the core I/O functionality in pandas, there is also the [pandas-datareader](https://pandas-datareader.readthedocs.io/en/latest/) project. This package provides programmatic access to data sets from\n",
    "\n",
    "* Yahoo! Finance (deprecated)\n",
    "* Google Finance\n",
    "* Enigma\n",
    "* Quandl\n",
    "* FRED\n",
    "* Fama/French\n",
    "* World Bank\n",
    "* OECD\n",
    "* Eurostat\n",
    "* EDGAR Index (deprecated)\n",
    "* TSP Fund Data\n",
    "* Nasdaq Trader Symbol Definitions\n",
    "* Morningstar\n",
    "* Etc."
   ]
  },
  {
   "cell_type": "markdown",
   "metadata": {},
   "source": [
    "#### Further Resources"
   ]
  },
  {
   "cell_type": "markdown",
   "metadata": {},
   "source": [
    "Sometimes we need to be resourceful in order to get data. Knowing how to scrape the web can really come in handy.\n",
    "\n",
    "We're not going to go into details today, but you'll likely find libraries like [Beautiful Soup](https://www.crummy.com/software/BeautifulSoup/), [lxml](http://lxml.de/), and [mechanize](https://mechanize.readthedocs.io/en/latest/) to be helpful. \n",
    "\n",
    "There's also a `read_html` function in pandas that will quickly scrape HTML tables for you and put them into a DataFrame. "
   ]
  }
 ],
 "metadata": {
  "celltoolbar": "Raw Cell Format",
  "kernelspec": {
   "display_name": "Python 3",
   "language": "python",
   "name": "python3"
  },
  "language_info": {
   "codemirror_mode": {
    "name": "ipython",
    "version": 3
   },
   "file_extension": ".py",
   "mimetype": "text/x-python",
   "name": "python",
   "nbconvert_exporter": "python",
   "pygments_lexer": "ipython3",
   "version": "3.6.6"
  }
 },
 "nbformat": 4,
 "nbformat_minor": 2
}
