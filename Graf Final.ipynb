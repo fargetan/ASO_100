{
 "cells": [
  {
   "cell_type": "markdown",
   "metadata": {},
   "source": [
    "# Final Exam, MTH 5401\n",
    "# Graf, Nathan J.\n",
    "\n",
    "1. (4 points) Problem 12-56 a), b), & c)\n",
    "2. (4 points) Problem 12-94 all parts but NOT a) ; use alpha to enter = .15 and alpha to leave = .15\n",
    "3. (4 points) Problem 13-8 a), b), & c); problem and chart is on page 556.\n",
    "4. (4 points) Problem 13-36 a), b), c), and d)\n",
    "5. (2 points) Problem 13-48 a) use alpha = .05\n",
    "6. (4 points) Problem 14-2 a), b), & c)\n",
    "7. (4 points) Problem 14-16 (should say 2^5, not 25 in the problem) do a) and b)\n",
    "8. (4 points) Problem 14-36 a) and b) {i.e. are any factors significant}\n",
    "9. (3 points) Problem 14-69 a) and b); use Y = 15 + 1.6X1 – 3.2X2 + 2.1X3 – 1.6X4 instead of the first-order model in the book.\n",
    "10. (2 points) Problem 14-52 a) and b) \n",
    "\n",
    "## 1. (12-56 a, b, c)\n",
    "\n",
    "### 12-56 a) 95% CI for $\\beta_{1}$, $\\beta_{2}$, $\\beta_{3}$, and $\\beta_{4}$\n"
   ]
  },
  {
   "cell_type": "code",
   "execution_count": 3,
   "metadata": {},
   "outputs": [
    {
     "ename": "FileNotFoundError",
     "evalue": "File b'12_55.csv' does not exist",
     "output_type": "error",
     "traceback": [
      "\u001b[0;31m---------------------------------------------------------------------------\u001b[0m",
      "\u001b[0;31mFileNotFoundError\u001b[0m                         Traceback (most recent call last)",
      "\u001b[0;32m<ipython-input-3-81c75cdc53bc>\u001b[0m in \u001b[0;36m<module>\u001b[0;34m\u001b[0m\n\u001b[1;32m      1\u001b[0m \u001b[0;32mimport\u001b[0m \u001b[0mpandas\u001b[0m \u001b[0;32mas\u001b[0m \u001b[0mpd\u001b[0m\u001b[0;34m\u001b[0m\u001b[0;34m\u001b[0m\u001b[0m\n\u001b[1;32m      2\u001b[0m \u001b[0;34m\u001b[0m\u001b[0m\n\u001b[0;32m----> 3\u001b[0;31m \u001b[0mdata\u001b[0m \u001b[0;34m=\u001b[0m \u001b[0mpd\u001b[0m\u001b[0;34m.\u001b[0m\u001b[0mread_csv\u001b[0m\u001b[0;34m(\u001b[0m\u001b[0;34m'12_55.csv'\u001b[0m\u001b[0;34m)\u001b[0m\u001b[0;34m\u001b[0m\u001b[0;34m\u001b[0m\u001b[0m\n\u001b[0m\u001b[1;32m      4\u001b[0m \u001b[0mdata\u001b[0m\u001b[0;34m\u001b[0m\u001b[0;34m\u001b[0m\u001b[0m\n",
      "\u001b[0;32m/srv/conda/lib/python3.7/site-packages/pandas/io/parsers.py\u001b[0m in \u001b[0;36mparser_f\u001b[0;34m(filepath_or_buffer, sep, delimiter, header, names, index_col, usecols, squeeze, prefix, mangle_dupe_cols, dtype, engine, converters, true_values, false_values, skipinitialspace, skiprows, nrows, na_values, keep_default_na, na_filter, verbose, skip_blank_lines, parse_dates, infer_datetime_format, keep_date_col, date_parser, dayfirst, iterator, chunksize, compression, thousands, decimal, lineterminator, quotechar, quoting, escapechar, comment, encoding, dialect, tupleize_cols, error_bad_lines, warn_bad_lines, skipfooter, doublequote, delim_whitespace, low_memory, memory_map, float_precision)\u001b[0m\n\u001b[1;32m    676\u001b[0m                     skip_blank_lines=skip_blank_lines)\n\u001b[1;32m    677\u001b[0m \u001b[0;34m\u001b[0m\u001b[0m\n\u001b[0;32m--> 678\u001b[0;31m         \u001b[0;32mreturn\u001b[0m \u001b[0m_read\u001b[0m\u001b[0;34m(\u001b[0m\u001b[0mfilepath_or_buffer\u001b[0m\u001b[0;34m,\u001b[0m \u001b[0mkwds\u001b[0m\u001b[0;34m)\u001b[0m\u001b[0;34m\u001b[0m\u001b[0;34m\u001b[0m\u001b[0m\n\u001b[0m\u001b[1;32m    679\u001b[0m \u001b[0;34m\u001b[0m\u001b[0m\n\u001b[1;32m    680\u001b[0m     \u001b[0mparser_f\u001b[0m\u001b[0;34m.\u001b[0m\u001b[0m__name__\u001b[0m \u001b[0;34m=\u001b[0m \u001b[0mname\u001b[0m\u001b[0;34m\u001b[0m\u001b[0;34m\u001b[0m\u001b[0m\n",
      "\u001b[0;32m/srv/conda/lib/python3.7/site-packages/pandas/io/parsers.py\u001b[0m in \u001b[0;36m_read\u001b[0;34m(filepath_or_buffer, kwds)\u001b[0m\n\u001b[1;32m    438\u001b[0m \u001b[0;34m\u001b[0m\u001b[0m\n\u001b[1;32m    439\u001b[0m     \u001b[0;31m# Create the parser.\u001b[0m\u001b[0;34m\u001b[0m\u001b[0;34m\u001b[0m\u001b[0;34m\u001b[0m\u001b[0m\n\u001b[0;32m--> 440\u001b[0;31m     \u001b[0mparser\u001b[0m \u001b[0;34m=\u001b[0m \u001b[0mTextFileReader\u001b[0m\u001b[0;34m(\u001b[0m\u001b[0mfilepath_or_buffer\u001b[0m\u001b[0;34m,\u001b[0m \u001b[0;34m**\u001b[0m\u001b[0mkwds\u001b[0m\u001b[0;34m)\u001b[0m\u001b[0;34m\u001b[0m\u001b[0;34m\u001b[0m\u001b[0m\n\u001b[0m\u001b[1;32m    441\u001b[0m \u001b[0;34m\u001b[0m\u001b[0m\n\u001b[1;32m    442\u001b[0m     \u001b[0;32mif\u001b[0m \u001b[0mchunksize\u001b[0m \u001b[0;32mor\u001b[0m \u001b[0miterator\u001b[0m\u001b[0;34m:\u001b[0m\u001b[0;34m\u001b[0m\u001b[0;34m\u001b[0m\u001b[0m\n",
      "\u001b[0;32m/srv/conda/lib/python3.7/site-packages/pandas/io/parsers.py\u001b[0m in \u001b[0;36m__init__\u001b[0;34m(self, f, engine, **kwds)\u001b[0m\n\u001b[1;32m    785\u001b[0m             \u001b[0mself\u001b[0m\u001b[0;34m.\u001b[0m\u001b[0moptions\u001b[0m\u001b[0;34m[\u001b[0m\u001b[0;34m'has_index_names'\u001b[0m\u001b[0;34m]\u001b[0m \u001b[0;34m=\u001b[0m \u001b[0mkwds\u001b[0m\u001b[0;34m[\u001b[0m\u001b[0;34m'has_index_names'\u001b[0m\u001b[0;34m]\u001b[0m\u001b[0;34m\u001b[0m\u001b[0;34m\u001b[0m\u001b[0m\n\u001b[1;32m    786\u001b[0m \u001b[0;34m\u001b[0m\u001b[0m\n\u001b[0;32m--> 787\u001b[0;31m         \u001b[0mself\u001b[0m\u001b[0;34m.\u001b[0m\u001b[0m_make_engine\u001b[0m\u001b[0;34m(\u001b[0m\u001b[0mself\u001b[0m\u001b[0;34m.\u001b[0m\u001b[0mengine\u001b[0m\u001b[0;34m)\u001b[0m\u001b[0;34m\u001b[0m\u001b[0;34m\u001b[0m\u001b[0m\n\u001b[0m\u001b[1;32m    788\u001b[0m \u001b[0;34m\u001b[0m\u001b[0m\n\u001b[1;32m    789\u001b[0m     \u001b[0;32mdef\u001b[0m \u001b[0mclose\u001b[0m\u001b[0;34m(\u001b[0m\u001b[0mself\u001b[0m\u001b[0;34m)\u001b[0m\u001b[0;34m:\u001b[0m\u001b[0;34m\u001b[0m\u001b[0;34m\u001b[0m\u001b[0m\n",
      "\u001b[0;32m/srv/conda/lib/python3.7/site-packages/pandas/io/parsers.py\u001b[0m in \u001b[0;36m_make_engine\u001b[0;34m(self, engine)\u001b[0m\n\u001b[1;32m   1012\u001b[0m     \u001b[0;32mdef\u001b[0m \u001b[0m_make_engine\u001b[0m\u001b[0;34m(\u001b[0m\u001b[0mself\u001b[0m\u001b[0;34m,\u001b[0m \u001b[0mengine\u001b[0m\u001b[0;34m=\u001b[0m\u001b[0;34m'c'\u001b[0m\u001b[0;34m)\u001b[0m\u001b[0;34m:\u001b[0m\u001b[0;34m\u001b[0m\u001b[0;34m\u001b[0m\u001b[0m\n\u001b[1;32m   1013\u001b[0m         \u001b[0;32mif\u001b[0m \u001b[0mengine\u001b[0m \u001b[0;34m==\u001b[0m \u001b[0;34m'c'\u001b[0m\u001b[0;34m:\u001b[0m\u001b[0;34m\u001b[0m\u001b[0;34m\u001b[0m\u001b[0m\n\u001b[0;32m-> 1014\u001b[0;31m             \u001b[0mself\u001b[0m\u001b[0;34m.\u001b[0m\u001b[0m_engine\u001b[0m \u001b[0;34m=\u001b[0m \u001b[0mCParserWrapper\u001b[0m\u001b[0;34m(\u001b[0m\u001b[0mself\u001b[0m\u001b[0;34m.\u001b[0m\u001b[0mf\u001b[0m\u001b[0;34m,\u001b[0m \u001b[0;34m**\u001b[0m\u001b[0mself\u001b[0m\u001b[0;34m.\u001b[0m\u001b[0moptions\u001b[0m\u001b[0;34m)\u001b[0m\u001b[0;34m\u001b[0m\u001b[0;34m\u001b[0m\u001b[0m\n\u001b[0m\u001b[1;32m   1015\u001b[0m         \u001b[0;32melse\u001b[0m\u001b[0;34m:\u001b[0m\u001b[0;34m\u001b[0m\u001b[0;34m\u001b[0m\u001b[0m\n\u001b[1;32m   1016\u001b[0m             \u001b[0;32mif\u001b[0m \u001b[0mengine\u001b[0m \u001b[0;34m==\u001b[0m \u001b[0;34m'python'\u001b[0m\u001b[0;34m:\u001b[0m\u001b[0;34m\u001b[0m\u001b[0;34m\u001b[0m\u001b[0m\n",
      "\u001b[0;32m/srv/conda/lib/python3.7/site-packages/pandas/io/parsers.py\u001b[0m in \u001b[0;36m__init__\u001b[0;34m(self, src, **kwds)\u001b[0m\n\u001b[1;32m   1706\u001b[0m         \u001b[0mkwds\u001b[0m\u001b[0;34m[\u001b[0m\u001b[0;34m'usecols'\u001b[0m\u001b[0;34m]\u001b[0m \u001b[0;34m=\u001b[0m \u001b[0mself\u001b[0m\u001b[0;34m.\u001b[0m\u001b[0musecols\u001b[0m\u001b[0;34m\u001b[0m\u001b[0;34m\u001b[0m\u001b[0m\n\u001b[1;32m   1707\u001b[0m \u001b[0;34m\u001b[0m\u001b[0m\n\u001b[0;32m-> 1708\u001b[0;31m         \u001b[0mself\u001b[0m\u001b[0;34m.\u001b[0m\u001b[0m_reader\u001b[0m \u001b[0;34m=\u001b[0m \u001b[0mparsers\u001b[0m\u001b[0;34m.\u001b[0m\u001b[0mTextReader\u001b[0m\u001b[0;34m(\u001b[0m\u001b[0msrc\u001b[0m\u001b[0;34m,\u001b[0m \u001b[0;34m**\u001b[0m\u001b[0mkwds\u001b[0m\u001b[0;34m)\u001b[0m\u001b[0;34m\u001b[0m\u001b[0;34m\u001b[0m\u001b[0m\n\u001b[0m\u001b[1;32m   1709\u001b[0m \u001b[0;34m\u001b[0m\u001b[0m\n\u001b[1;32m   1710\u001b[0m         \u001b[0mpassed_names\u001b[0m \u001b[0;34m=\u001b[0m \u001b[0mself\u001b[0m\u001b[0;34m.\u001b[0m\u001b[0mnames\u001b[0m \u001b[0;32mis\u001b[0m \u001b[0;32mNone\u001b[0m\u001b[0;34m\u001b[0m\u001b[0;34m\u001b[0m\u001b[0m\n",
      "\u001b[0;32mpandas/_libs/parsers.pyx\u001b[0m in \u001b[0;36mpandas._libs.parsers.TextReader.__cinit__\u001b[0;34m()\u001b[0m\n",
      "\u001b[0;32mpandas/_libs/parsers.pyx\u001b[0m in \u001b[0;36mpandas._libs.parsers.TextReader._setup_parser_source\u001b[0;34m()\u001b[0m\n",
      "\u001b[0;31mFileNotFoundError\u001b[0m: File b'12_55.csv' does not exist"
     ]
    }
   ],
   "source": [
    "import pandas as pd\n",
    "\n",
    "data = pd.read_csv('12_55.csv')\n",
    "data"
   ]
  },
  {
   "cell_type": "code",
   "execution_count": 4,
   "metadata": {},
   "outputs": [
    {
     "ename": "NameError",
     "evalue": "name 'data' is not defined",
     "output_type": "error",
     "traceback": [
      "\u001b[0;31m---------------------------------------------------------------------------\u001b[0m",
      "\u001b[0;31mNameError\u001b[0m                                 Traceback (most recent call last)",
      "\u001b[0;32m<ipython-input-4-44fc7d351900>\u001b[0m in \u001b[0;36m<module>\u001b[0;34m\u001b[0m\n\u001b[1;32m      1\u001b[0m \u001b[0;32mimport\u001b[0m \u001b[0mnumpy\u001b[0m \u001b[0;32mas\u001b[0m \u001b[0mnp\u001b[0m\u001b[0;34m\u001b[0m\u001b[0;34m\u001b[0m\u001b[0m\n\u001b[0;32m----> 2\u001b[0;31m \u001b[0mnp\u001b[0m\u001b[0;34m.\u001b[0m\u001b[0mmat\u001b[0m\u001b[0;34m(\u001b[0m\u001b[0mdata\u001b[0m\u001b[0;34m[\u001b[0m\u001b[0;34m[\u001b[0m\u001b[0;34m'x0'\u001b[0m\u001b[0;34m,\u001b[0m \u001b[0;34m'x1'\u001b[0m\u001b[0;34m,\u001b[0m \u001b[0;34m'x2'\u001b[0m\u001b[0;34m,\u001b[0m \u001b[0;34m'x3'\u001b[0m\u001b[0;34m,\u001b[0m \u001b[0;34m'x4'\u001b[0m\u001b[0;34m]\u001b[0m\u001b[0;34m]\u001b[0m\u001b[0;34m)\u001b[0m\u001b[0;34m\u001b[0m\u001b[0;34m\u001b[0m\u001b[0m\n\u001b[0m",
      "\u001b[0;31mNameError\u001b[0m: name 'data' is not defined"
     ]
    }
   ],
   "source": [
    "import numpy as np\n",
    "np.mat(data[['x0', 'x1', 'x2', 'x3', 'x4']])"
   ]
  },
  {
   "cell_type": "code",
   "execution_count": null,
   "metadata": {},
   "outputs": [],
   "source": [
    "X = np.mat(data[['x0', 'x1', 'x2', 'x3', 'x4']])\n",
    "Y = np.mat(data['y'])\n",
    "print(X)\n",
    "print(Y)"
   ]
  },
  {
   "cell_type": "code",
   "execution_count": null,
   "metadata": {},
   "outputs": [],
   "source": [
    "regressors = ((X.transpose()*X)**-1)*X.transpose()*Y.transpose()"
   ]
  },
  {
   "cell_type": "code",
   "execution_count": null,
   "metadata": {},
   "outputs": [],
   "source": [
    "regressors"
   ]
  },
  {
   "cell_type": "code",
   "execution_count": null,
   "metadata": {},
   "outputs": [],
   "source": [
    "import statsmodels.formula.api as sm\n",
    "\n",
    "data1 = data[['x1', 'x2', 'x3', 'x4', 'y']]\n",
    "result = sm.ols(formula='y~x1+x2+x3+x4', data=data1).fit()\n",
    "\n",
    "print(result.params)"
   ]
  },
  {
   "cell_type": "code",
   "execution_count": null,
   "metadata": {},
   "outputs": [],
   "source": [
    "print(result.resid)"
   ]
  },
  {
   "cell_type": "code",
   "execution_count": null,
   "metadata": {},
   "outputs": [],
   "source": [
    "resids = result.resid\n",
    "n = 12\n",
    "p = 4\n",
    "variance = (resids**2).sum()/(n-p)\n",
    "variance"
   ]
  },
  {
   "cell_type": "code",
   "execution_count": null,
   "metadata": {},
   "outputs": [],
   "source": [
    "# SSE = y'y - BhatX'y\n",
    "# but Bhat is actually the transpose of the previous Bhat\n",
    "# it is a row, not a column\n",
    "beta_hat = np.mat(result.params)\n",
    "SSE = Y*Y.transpose() - beta_hat*X.transpose()*Y.transpose()\n",
    "n = 12\n",
    "p = 4\n",
    "\n",
    "variance = SSE/(n - p)\n",
    "variance"
   ]
  },
  {
   "cell_type": "code",
   "execution_count": null,
   "metadata": {},
   "outputs": [],
   "source": [
    "from scipy import stats\n",
    "# calculate t value\n",
    "alpha = 0.05\n",
    "\n",
    "t_a = abs(stats.t.ppf(alpha/2, n-p))\n",
    "t_a"
   ]
  },
  {
   "cell_type": "code",
   "execution_count": null,
   "metadata": {},
   "outputs": [],
   "source": [
    "import math \n",
    "\n",
    "C = (X.transpose() * X)**-1\n",
    "\n",
    "# loop from 0 - 3 and calculate intervals\n",
    "for i in range(1, p+1):\n",
    "    lower = beta_hat[0, i] - t_a * math.sqrt(variance*C[i,i])\n",
    "    upper = beta_hat[0, i] + t_a * math.sqrt(variance*C[i,i])\n",
    "    print('{} <= B{} <= {}'.format(lower, i, upper))"
   ]
  },
  {
   "cell_type": "markdown",
   "metadata": {},
   "source": [
    "In other words the Confidence intervals for $\\hat{\\beta_{i}}$ $i \\in 1, 2, 3, 4$ are:   \n",
    "$0.15527 \\leq \\hat{\\beta_{1}} \\leq 1.3593$  \n",
    "$-1.1313 \\leq \\hat{\\beta_{2}} \\leq 16.169$  \n",
    "$-1.4199 \\leq \\hat{\\beta_{3}} \\leq 6.3860$  \n",
    "$-1.6787 \\leq \\hat{\\beta_{4}} \\leq 0.71641$  \n",
    "\n",
    "### 12-56 (b)  95% CI on mean of Y for $x_1 = 75, x_2 = 24, x_3 = 90, x_4 = 98$ \n"
   ]
  },
  {
   "cell_type": "code",
   "execution_count": null,
   "metadata": {},
   "outputs": [],
   "source": [
    "#t_a and most of the data is the same, for the formula, we construct a vector of the x-values\n",
    "X_0 = np.mat([1, 75, 24, 90, 98]).transpose()\n",
    "X_0"
   ]
  },
  {
   "cell_type": "code",
   "execution_count": null,
   "metadata": {},
   "outputs": [],
   "source": [
    "# mu_hat is predicted value\n",
    "mu_hat = beta_hat*X_0\n",
    "\n",
    "# formula mu_hat +- t*sqrt(variance*X_0'(X'X)**-1)\n",
    "lower = mu_hat - t_a * math.sqrt(variance*X_0.transpose()*C[i,i]*X_0)\n",
    "upper = mu_hat + t_a * math.sqrt(variance*X_0.transpose()*C[i,i]*X_0)\n",
    "print('{} <= mu_Y|X_0 <= {}'.format(lower, upper))"
   ]
  },
  {
   "cell_type": "markdown",
   "metadata": {},
   "source": [
    "$105.28 \\leq \\mu_{Y|x{0}} \\leq 475.60$  \n",
    "\n",
    "### 12-56 (c) 95% prediction"
   ]
  },
  {
   "cell_type": "code",
   "execution_count": null,
   "metadata": {},
   "outputs": [],
   "source": [
    "# formula y_hat(mu_hat) +- t*sqrt(variance*X_0'(X'X)**-1)\n",
    "lower = mu_hat - t_a * math.sqrt(variance*(1 + X_0.transpose()*C[i,i]*X_0))\n",
    "upper = mu_hat + t_a * math.sqrt(variance*(1 + X_0.transpose()*C[i,i]*X_0))\n",
    "print('{} <= Y_0 <= {}'.format(lower, upper))"
   ]
  },
  {
   "cell_type": "markdown",
   "metadata": {},
   "source": [
    "$103.54 \\leq \\mu_{Y_0} \\leq 477.34$  \n",
    "\n",
    "## 2. (12-94 (not a))\n",
    "\n",
    "### 12-94 (b) stepwise regression ($\\alpha$ to leave = 0.15"
   ]
  },
  {
   "cell_type": "code",
   "execution_count": null,
   "metadata": {},
   "outputs": [],
   "source": [
    "# import data\n",
    "data = pd.read_csv('12_12.csv')\n",
    "Y = np.mat(data['y']).transpose()\n",
    "X = np.mat(data[['x0', 'x1', 'x2', 'x3', 'x4', 'x5', 'x6']])"
   ]
  },
  {
   "cell_type": "code",
   "execution_count": null,
   "metadata": {},
   "outputs": [],
   "source": [
    "data1 = data[['x1', 'x2', 'x3', 'x4', 'x5', 'x6', 'y']]\n",
    "result = sm.ols(formula='y~x1+x2+x3+x4+x5+x6', data=data1).fit()\n"
   ]
  },
  {
   "cell_type": "code",
   "execution_count": null,
   "metadata": {},
   "outputs": [],
   "source": [
    "data1.columns"
   ]
  },
  {
   "cell_type": "code",
   "execution_count": null,
   "metadata": {},
   "outputs": [],
   "source": [
    "result.rsquared"
   ]
  },
  {
   "cell_type": "code",
   "execution_count": null,
   "metadata": {},
   "outputs": [],
   "source": [
    "# let's cycle through the variables and choose the strongest one\n",
    "for var in data1.columns[:-1]:\n",
    "    form = 'y~' + var\n",
    "    result = sm.ols(formula=form, data=data1).fit()\n",
    "    message = 'for ' + var\n",
    "    message += ' the correlation is: '\n",
    "    message += str(result.fvalue)\n",
    "    print(message)"
   ]
  },
  {
   "cell_type": "code",
   "execution_count": null,
   "metadata": {},
   "outputs": [],
   "source": [
    "# let's cycle through the variables and choose the strongest one\n",
    "for var in data1.columns[:-1]:\n",
    "    form = 'y~x3 + ' + var\n",
    "    result = sm.ols(formula=form, data=data1).fit()\n",
    "    message = 'for ' + var\n",
    "    message += ' the correlation is: '\n",
    "    message += str(result.pvalues)\n",
    "    print(message)"
   ]
  },
  {
   "cell_type": "code",
   "execution_count": null,
   "metadata": {},
   "outputs": [],
   "source": [
    "import statsmodels.api as sm\n",
    "\n",
    "X = data[['x1', 'x2', 'x3', 'x4', 'x5', 'x6']]\n",
    "y = data['y']\n",
    "\n",
    "\n",
    "def stepwise_selection(X, y, \n",
    "                       initial_list=[], \n",
    "                       threshold_in=0.15, \n",
    "                       threshold_out = 0.15, \n",
    "                       verbose=True):\n",
    "    \"\"\" Perform a forward-backward feature selection \n",
    "    based on p-value from statsmodels.api.OLS\n",
    "    Arguments:\n",
    "        X - pandas.DataFrame with candidate features\n",
    "        y - list-like with the target\n",
    "        initial_list - list of features to start with (column names of X)\n",
    "        threshold_in - include a feature if its p-value < threshold_in\n",
    "        threshold_out - exclude a feature if its p-value > threshold_out\n",
    "        verbose - whether to print the sequence of inclusions and exclusions\n",
    "    Returns: list of selected features \n",
    "    Always set threshold_in < threshold_out to avoid infinite looping.\n",
    "    See https://en.wikipedia.org/wiki/Stepwise_regression for the details\n",
    "    \"\"\"\n",
    "    included = list(initial_list)\n",
    "    while True:\n",
    "        changed=False\n",
    "        # forward step\n",
    "        excluded = list(set(X.columns)-set(included))\n",
    "        new_pval = pd.Series(index=excluded)\n",
    "        for new_column in excluded:\n",
    "            model = sm.OLS(y, sm.add_constant(pd.DataFrame(X[included+[new_column]]))).fit()\n",
    "            new_pval[new_column] = model.pvalues[new_column]\n",
    "        best_pval = new_pval.min()\n",
    "        if best_pval < threshold_in:\n",
    "            best_feature = new_pval.argmin()\n",
    "            included.append(best_feature)\n",
    "            changed=True\n",
    "            if verbose:\n",
    "                print('Add  {:30} with p-value {:.6}'.format(best_feature, best_pval))\n",
    "\n",
    "        # backward step\n",
    "        model = sm.OLS(y, sm.add_constant(pd.DataFrame(X[included]))).fit()\n",
    "        # use all coefs except intercept\n",
    "        pvalues = model.pvalues.iloc[1:]\n",
    "        worst_pval = pvalues.max() # null if pvalues is empty\n",
    "        if worst_pval > threshold_out:\n",
    "            changed=True\n",
    "            worst_feature = pvalues.argmax()\n",
    "            included.remove(worst_feature)\n",
    "            if verbose:\n",
    "                print('Drop {:30} with p-value {:.6}'.format(worst_feature, worst_pval))\n",
    "        if not changed:\n",
    "            break\n",
    "    return included\n",
    "\n",
    "result = stepwise_selection(X, y)\n",
    "\n",
    "print('resulting features:')\n",
    "print(result)"
   ]
  },
  {
   "cell_type": "markdown",
   "metadata": {},
   "source": [
    "The variables added using stepwise regression were $x_{3}$ and $x_{4}$\n",
    "\n",
    "### 12-94 (c) Forward Selection\n",
    "\n",
    "Since none of the variables got removed from the stepwise regression, forward selection will have identical results:\n",
    "the resulting regressors are $x_{3}$ and $x_{4}$\n",
    "\n",
    "### 12-94 (d) Backward Elimination\n",
    "\n"
   ]
  },
  {
   "cell_type": "code",
   "execution_count": null,
   "metadata": {},
   "outputs": [],
   "source": [
    "# import data\n",
    "data = pd.read_csv('12_12.csv')\n",
    "Y = np.mat(data['y']).transpose()\n",
    "X = np.mat(data[['x0', 'x1', 'x2', 'x3', 'x4', 'x5', 'x6']])\n",
    "data1 = data[['x1', 'x2', 'x3', 'x4', 'x5', 'x6', 'y']]\n",
    "result = sm.formula.ols(formula='y~x1+x2+x3+x4+x5+x6', data=data1).fit()\n",
    "print(result.summary())"
   ]
  },
  {
   "cell_type": "code",
   "execution_count": null,
   "metadata": {},
   "outputs": [],
   "source": [
    "# remove x2 and try again since it had the highest p-value\n",
    "result = sm.formula.ols(formula='y~x1+x3+x4+x5+x6', data=data1).fit()\n",
    "print(result.summary())"
   ]
  },
  {
   "cell_type": "code",
   "execution_count": null,
   "metadata": {},
   "outputs": [],
   "source": [
    "# remove x6 and try again since it had the highest p-value\n",
    "result = sm.formula.ols(formula='y~x1+x3+x4+x5', data=data1).fit()\n",
    "print(result.summary())"
   ]
  },
  {
   "cell_type": "code",
   "execution_count": null,
   "metadata": {},
   "outputs": [],
   "source": [
    "# remove x5 and try again since it had the highest p-value\n",
    "result = sm.formula.ols(formula='y~x1+x3+x4', data=data1).fit()\n",
    "print(result.summary())"
   ]
  },
  {
   "cell_type": "markdown",
   "metadata": {},
   "source": [
    "Finally, with a *p*-value of 0.301, we remove x1."
   ]
  },
  {
   "cell_type": "code",
   "execution_count": null,
   "metadata": {},
   "outputs": [],
   "source": [
    "# remove x2 and try again since it had the highest p-value\n",
    "result = sm.formula.ols(formula='y~x3+x4', data=data1).fit()\n",
    "print(result.summary())"
   ]
  },
  {
   "cell_type": "markdown",
   "metadata": {},
   "source": [
    "We are left with x3 and x4, just like before.\n",
    "\n",
    "### 12-94 (e) All the models ended up the same. With only 2 regressors and much lower *p*-values, a model with x3 and x4 would be the most preferred.\n",
    "\n",
    "## 3. 13-8 \n",
    "\n",
    "### 13-8 (a) $\\alpha = 0.01$"
   ]
  },
  {
   "cell_type": "code",
   "execution_count": null,
   "metadata": {},
   "outputs": [],
   "source": [
    "data = pd.DataFrame({'1': [19, 22, 20, 18, 25], \n",
    "                     '2': [20, 21, 33, 27, 40], \n",
    "                     '3': [16, 15, 18, 26, 17]})\n",
    "f_val, p_val = stats.f_oneway(data['1'], data['2'], data['3'])\n",
    "\n",
    "data.boxplot()\n",
    "\n",
    "print(\"f_0 is: \" + str(f_val) )\n",
    "print(\"p-value is: \" + str(p_val) )"
   ]
  },
  {
   "cell_type": "markdown",
   "metadata": {},
   "source": [
    "With a *p*-value of 0.0465, do not reject $H_{0}$. \n",
    "\n",
    "### 13-8 (b) Analyze residuals:\n"
   ]
  },
  {
   "cell_type": "code",
   "execution_count": null,
   "metadata": {},
   "outputs": [],
   "source": [
    "# new list of lists of residuals\n",
    "residuals = []\n",
    "allresids = []\n",
    "\n",
    "# for each column of the dataframe\n",
    "for treatment in data:\n",
    "    # new list of residuals\n",
    "    resids = []\n",
    "    # calculate mean of the treatmen\n",
    "    mean = data[treatment].mean()\n",
    "    # for each observation\n",
    "    for i in data[treatment]:\n",
    "        # calculate and append the residual\n",
    "        resids.append( i - mean )\n",
    "        allresids.append( i - mean )\n",
    "    # append treatment residuals to experiment residuals\n",
    "    residuals.append(resids)\n",
    "    \n",
    "residuals = pd.DataFrame({'1': residuals[0], '2': residuals[1], '3': residuals[2]})\n",
    "\n",
    "residuals"
   ]
  },
  {
   "cell_type": "code",
   "execution_count": null,
   "metadata": {},
   "outputs": [],
   "source": [
    "from matplotlib import pyplot as plt\n",
    "\n",
    "coords, z = stats.probplot(residuals.unstack(), plot=plt)\n",
    "x = coords[0]\n",
    "y = coords[1]\n",
    "\n",
    "plt.scatter(x, y)\n",
    "plt.show()"
   ]
  },
  {
   "cell_type": "code",
   "execution_count": null,
   "metadata": {},
   "outputs": [],
   "source": [
    "residuals.plot.density()"
   ]
  },
  {
   "cell_type": "code",
   "execution_count": null,
   "metadata": {},
   "outputs": [],
   "source": [
    "residuals.boxplot()"
   ]
  },
  {
   "cell_type": "markdown",
   "metadata": {},
   "source": [
    "There are some issues with the residuals. There appears to be more variation in the type 2 circuit. Also, the type 3 has a signifcant outlier. \n",
    "\n",
    "### 12-8 (c) 95% CI for mean response time on circuit 3\n",
    "\n",
    "Formula:\n",
    "$\\bar{y}_{i.} - t_{\\alpha/2,a(n-1)}\\sqrt{MSE/n} \\leq \\mu_{i} \\leq \\bar{y}_{i.} + t_{\\alpha/2,a(n-1)}\\sqrt{MSE/n}$"
   ]
  },
  {
   "cell_type": "code",
   "execution_count": null,
   "metadata": {},
   "outputs": [],
   "source": [
    "# constants\n",
    "a = 3\n",
    "n = 5\n",
    "\n",
    "y_bar = data['3'].mean()\n",
    "\n",
    "# calculate t value\n",
    "alpha = 0.025\n",
    "\n",
    "t_a = abs(stats.t.ppf(alpha/2, a*(n-1)))\n",
    "t_a"
   ]
  },
  {
   "cell_type": "code",
   "execution_count": null,
   "metadata": {},
   "outputs": [],
   "source": [
    "# calculate SSE\n",
    "SSE = 0\n",
    "for treatment in data:\n",
    "    mean = data[treatment].mean()\n",
    "    for i in data[treatment]:\n",
    "        SSE += (i - mean) ** 2\n",
    "SSE"
   ]
  },
  {
   "cell_type": "code",
   "execution_count": null,
   "metadata": {},
   "outputs": [],
   "source": [
    "# calculate MSE\n",
    "MSE = SSE/(a*(n-1))\n",
    "MSE"
   ]
  },
  {
   "cell_type": "code",
   "execution_count": null,
   "metadata": {},
   "outputs": [],
   "source": [
    "from math import sqrt\n",
    "\n",
    "# calculate lower and upper bounds of confidence interval\n",
    "lower = y_bar - t_a * sqrt(MSE/n)\n",
    "upper = y_bar + t_a * sqrt(MSE/n)\n",
    "\n",
    "print('The 95% confidence interval is ' + str(lower) + ' <= ' + 'mu_3' + ' <= ' + \n",
    "     str(upper) + '.')"
   ]
  },
  {
   "cell_type": "markdown",
   "metadata": {},
   "source": [
    "## 4. 13-36\n",
    "\n",
    "### 13-36 (a) Test for significance, $\\alpha = 0.01$."
   ]
  },
  {
   "cell_type": "code",
   "execution_count": 5,
   "metadata": {},
   "outputs": [
    {
     "ename": "FileNotFoundError",
     "evalue": "File b'13_36.csv' does not exist",
     "output_type": "error",
     "traceback": [
      "\u001b[0;31m---------------------------------------------------------------------------\u001b[0m",
      "\u001b[0;31mFileNotFoundError\u001b[0m                         Traceback (most recent call last)",
      "\u001b[0;32m<ipython-input-5-0c140542899d>\u001b[0m in \u001b[0;36m<module>\u001b[0;34m\u001b[0m\n\u001b[0;32m----> 1\u001b[0;31m \u001b[0mdata\u001b[0m \u001b[0;34m=\u001b[0m \u001b[0mpd\u001b[0m\u001b[0;34m.\u001b[0m\u001b[0mread_csv\u001b[0m\u001b[0;34m(\u001b[0m\u001b[0;34m'13_36.csv'\u001b[0m\u001b[0;34m)\u001b[0m\u001b[0;34m\u001b[0m\u001b[0;34m\u001b[0m\u001b[0m\n\u001b[0m\u001b[1;32m      2\u001b[0m \u001b[0;34m\u001b[0m\u001b[0m\n\u001b[1;32m      3\u001b[0m \u001b[0;31m#data = pd.DataFrame({'1': [98, 97, 99, 96], '2': [91, 90, 93, 92],\u001b[0m\u001b[0;34m\u001b[0m\u001b[0;34m\u001b[0m\u001b[0;34m\u001b[0m\u001b[0m\n\u001b[1;32m      4\u001b[0m  \u001b[0;31m#                    '3': [96, 95, 97, 95], '4': [95, 96, 99, 98]})\u001b[0m\u001b[0;34m\u001b[0m\u001b[0;34m\u001b[0m\u001b[0;34m\u001b[0m\u001b[0m\n\u001b[1;32m      5\u001b[0m \u001b[0;34m\u001b[0m\u001b[0m\n",
      "\u001b[0;32m/srv/conda/lib/python3.7/site-packages/pandas/io/parsers.py\u001b[0m in \u001b[0;36mparser_f\u001b[0;34m(filepath_or_buffer, sep, delimiter, header, names, index_col, usecols, squeeze, prefix, mangle_dupe_cols, dtype, engine, converters, true_values, false_values, skipinitialspace, skiprows, nrows, na_values, keep_default_na, na_filter, verbose, skip_blank_lines, parse_dates, infer_datetime_format, keep_date_col, date_parser, dayfirst, iterator, chunksize, compression, thousands, decimal, lineterminator, quotechar, quoting, escapechar, comment, encoding, dialect, tupleize_cols, error_bad_lines, warn_bad_lines, skipfooter, doublequote, delim_whitespace, low_memory, memory_map, float_precision)\u001b[0m\n\u001b[1;32m    676\u001b[0m                     skip_blank_lines=skip_blank_lines)\n\u001b[1;32m    677\u001b[0m \u001b[0;34m\u001b[0m\u001b[0m\n\u001b[0;32m--> 678\u001b[0;31m         \u001b[0;32mreturn\u001b[0m \u001b[0m_read\u001b[0m\u001b[0;34m(\u001b[0m\u001b[0mfilepath_or_buffer\u001b[0m\u001b[0;34m,\u001b[0m \u001b[0mkwds\u001b[0m\u001b[0;34m)\u001b[0m\u001b[0;34m\u001b[0m\u001b[0;34m\u001b[0m\u001b[0m\n\u001b[0m\u001b[1;32m    679\u001b[0m \u001b[0;34m\u001b[0m\u001b[0m\n\u001b[1;32m    680\u001b[0m     \u001b[0mparser_f\u001b[0m\u001b[0;34m.\u001b[0m\u001b[0m__name__\u001b[0m \u001b[0;34m=\u001b[0m \u001b[0mname\u001b[0m\u001b[0;34m\u001b[0m\u001b[0;34m\u001b[0m\u001b[0m\n",
      "\u001b[0;32m/srv/conda/lib/python3.7/site-packages/pandas/io/parsers.py\u001b[0m in \u001b[0;36m_read\u001b[0;34m(filepath_or_buffer, kwds)\u001b[0m\n\u001b[1;32m    438\u001b[0m \u001b[0;34m\u001b[0m\u001b[0m\n\u001b[1;32m    439\u001b[0m     \u001b[0;31m# Create the parser.\u001b[0m\u001b[0;34m\u001b[0m\u001b[0;34m\u001b[0m\u001b[0;34m\u001b[0m\u001b[0m\n\u001b[0;32m--> 440\u001b[0;31m     \u001b[0mparser\u001b[0m \u001b[0;34m=\u001b[0m \u001b[0mTextFileReader\u001b[0m\u001b[0;34m(\u001b[0m\u001b[0mfilepath_or_buffer\u001b[0m\u001b[0;34m,\u001b[0m \u001b[0;34m**\u001b[0m\u001b[0mkwds\u001b[0m\u001b[0;34m)\u001b[0m\u001b[0;34m\u001b[0m\u001b[0;34m\u001b[0m\u001b[0m\n\u001b[0m\u001b[1;32m    441\u001b[0m \u001b[0;34m\u001b[0m\u001b[0m\n\u001b[1;32m    442\u001b[0m     \u001b[0;32mif\u001b[0m \u001b[0mchunksize\u001b[0m \u001b[0;32mor\u001b[0m \u001b[0miterator\u001b[0m\u001b[0;34m:\u001b[0m\u001b[0;34m\u001b[0m\u001b[0;34m\u001b[0m\u001b[0m\n",
      "\u001b[0;32m/srv/conda/lib/python3.7/site-packages/pandas/io/parsers.py\u001b[0m in \u001b[0;36m__init__\u001b[0;34m(self, f, engine, **kwds)\u001b[0m\n\u001b[1;32m    785\u001b[0m             \u001b[0mself\u001b[0m\u001b[0;34m.\u001b[0m\u001b[0moptions\u001b[0m\u001b[0;34m[\u001b[0m\u001b[0;34m'has_index_names'\u001b[0m\u001b[0;34m]\u001b[0m \u001b[0;34m=\u001b[0m \u001b[0mkwds\u001b[0m\u001b[0;34m[\u001b[0m\u001b[0;34m'has_index_names'\u001b[0m\u001b[0;34m]\u001b[0m\u001b[0;34m\u001b[0m\u001b[0;34m\u001b[0m\u001b[0m\n\u001b[1;32m    786\u001b[0m \u001b[0;34m\u001b[0m\u001b[0m\n\u001b[0;32m--> 787\u001b[0;31m         \u001b[0mself\u001b[0m\u001b[0;34m.\u001b[0m\u001b[0m_make_engine\u001b[0m\u001b[0;34m(\u001b[0m\u001b[0mself\u001b[0m\u001b[0;34m.\u001b[0m\u001b[0mengine\u001b[0m\u001b[0;34m)\u001b[0m\u001b[0;34m\u001b[0m\u001b[0;34m\u001b[0m\u001b[0m\n\u001b[0m\u001b[1;32m    788\u001b[0m \u001b[0;34m\u001b[0m\u001b[0m\n\u001b[1;32m    789\u001b[0m     \u001b[0;32mdef\u001b[0m \u001b[0mclose\u001b[0m\u001b[0;34m(\u001b[0m\u001b[0mself\u001b[0m\u001b[0;34m)\u001b[0m\u001b[0;34m:\u001b[0m\u001b[0;34m\u001b[0m\u001b[0;34m\u001b[0m\u001b[0m\n",
      "\u001b[0;32m/srv/conda/lib/python3.7/site-packages/pandas/io/parsers.py\u001b[0m in \u001b[0;36m_make_engine\u001b[0;34m(self, engine)\u001b[0m\n\u001b[1;32m   1012\u001b[0m     \u001b[0;32mdef\u001b[0m \u001b[0m_make_engine\u001b[0m\u001b[0;34m(\u001b[0m\u001b[0mself\u001b[0m\u001b[0;34m,\u001b[0m \u001b[0mengine\u001b[0m\u001b[0;34m=\u001b[0m\u001b[0;34m'c'\u001b[0m\u001b[0;34m)\u001b[0m\u001b[0;34m:\u001b[0m\u001b[0;34m\u001b[0m\u001b[0;34m\u001b[0m\u001b[0m\n\u001b[1;32m   1013\u001b[0m         \u001b[0;32mif\u001b[0m \u001b[0mengine\u001b[0m \u001b[0;34m==\u001b[0m \u001b[0;34m'c'\u001b[0m\u001b[0;34m:\u001b[0m\u001b[0;34m\u001b[0m\u001b[0;34m\u001b[0m\u001b[0m\n\u001b[0;32m-> 1014\u001b[0;31m             \u001b[0mself\u001b[0m\u001b[0;34m.\u001b[0m\u001b[0m_engine\u001b[0m \u001b[0;34m=\u001b[0m \u001b[0mCParserWrapper\u001b[0m\u001b[0;34m(\u001b[0m\u001b[0mself\u001b[0m\u001b[0;34m.\u001b[0m\u001b[0mf\u001b[0m\u001b[0;34m,\u001b[0m \u001b[0;34m**\u001b[0m\u001b[0mself\u001b[0m\u001b[0;34m.\u001b[0m\u001b[0moptions\u001b[0m\u001b[0;34m)\u001b[0m\u001b[0;34m\u001b[0m\u001b[0;34m\u001b[0m\u001b[0m\n\u001b[0m\u001b[1;32m   1015\u001b[0m         \u001b[0;32melse\u001b[0m\u001b[0;34m:\u001b[0m\u001b[0;34m\u001b[0m\u001b[0;34m\u001b[0m\u001b[0m\n\u001b[1;32m   1016\u001b[0m             \u001b[0;32mif\u001b[0m \u001b[0mengine\u001b[0m \u001b[0;34m==\u001b[0m \u001b[0;34m'python'\u001b[0m\u001b[0;34m:\u001b[0m\u001b[0;34m\u001b[0m\u001b[0;34m\u001b[0m\u001b[0m\n",
      "\u001b[0;32m/srv/conda/lib/python3.7/site-packages/pandas/io/parsers.py\u001b[0m in \u001b[0;36m__init__\u001b[0;34m(self, src, **kwds)\u001b[0m\n\u001b[1;32m   1706\u001b[0m         \u001b[0mkwds\u001b[0m\u001b[0;34m[\u001b[0m\u001b[0;34m'usecols'\u001b[0m\u001b[0;34m]\u001b[0m \u001b[0;34m=\u001b[0m \u001b[0mself\u001b[0m\u001b[0;34m.\u001b[0m\u001b[0musecols\u001b[0m\u001b[0;34m\u001b[0m\u001b[0;34m\u001b[0m\u001b[0m\n\u001b[1;32m   1707\u001b[0m \u001b[0;34m\u001b[0m\u001b[0m\n\u001b[0;32m-> 1708\u001b[0;31m         \u001b[0mself\u001b[0m\u001b[0;34m.\u001b[0m\u001b[0m_reader\u001b[0m \u001b[0;34m=\u001b[0m \u001b[0mparsers\u001b[0m\u001b[0;34m.\u001b[0m\u001b[0mTextReader\u001b[0m\u001b[0;34m(\u001b[0m\u001b[0msrc\u001b[0m\u001b[0;34m,\u001b[0m \u001b[0;34m**\u001b[0m\u001b[0mkwds\u001b[0m\u001b[0;34m)\u001b[0m\u001b[0;34m\u001b[0m\u001b[0;34m\u001b[0m\u001b[0m\n\u001b[0m\u001b[1;32m   1709\u001b[0m \u001b[0;34m\u001b[0m\u001b[0m\n\u001b[1;32m   1710\u001b[0m         \u001b[0mpassed_names\u001b[0m \u001b[0;34m=\u001b[0m \u001b[0mself\u001b[0m\u001b[0;34m.\u001b[0m\u001b[0mnames\u001b[0m \u001b[0;32mis\u001b[0m \u001b[0;32mNone\u001b[0m\u001b[0;34m\u001b[0m\u001b[0;34m\u001b[0m\u001b[0m\n",
      "\u001b[0;32mpandas/_libs/parsers.pyx\u001b[0m in \u001b[0;36mpandas._libs.parsers.TextReader.__cinit__\u001b[0;34m()\u001b[0m\n",
      "\u001b[0;32mpandas/_libs/parsers.pyx\u001b[0m in \u001b[0;36mpandas._libs.parsers.TextReader._setup_parser_source\u001b[0;34m()\u001b[0m\n",
      "\u001b[0;31mFileNotFoundError\u001b[0m: File b'13_36.csv' does not exist"
     ]
    }
   ],
   "source": [
    "data = pd.read_csv('13_36.csv')\n",
    "\n",
    "#data = pd.DataFrame({'1': [98, 97, 99, 96], '2': [91, 90, 93, 92], \n",
    " #                    '3': [96, 95, 97, 95], '4': [95, 96, 99, 98]})\n",
    "\n",
    "#f_val, p_val = stats.f_oneway(data['1'], data['2'], data['3'], data['4'])\n",
    "\n",
    "f_val, p_val = stats.f_oneway(data['1'], data['2'], data['3'], data['4'], data['5'], data['6'])\n",
    "\n",
    "\n",
    "\n",
    "print(\"f_0 is: \" + str(f_val) )\n",
    "print(\"p-value is: \" + str(p_val) )"
   ]
  },
  {
   "cell_type": "markdown",
   "metadata": {},
   "source": [
    "With a *p*-value of 0.0044, reject $H_{0}$\n",
    "\n",
    "### 13-36 (b) Estimate variability between batches"
   ]
  },
  {
   "cell_type": "code",
   "execution_count": null,
   "metadata": {},
   "outputs": [],
   "source": [
    "# means and totals\n",
    "batch_means = data.mean()\n",
    "batch_totals = data.sum()\n",
    "total = batch_totals.sum()\n",
    "total_mean = batch_means.mean()\n",
    "\n",
    "# total number of measurements\n",
    "n = len(data)\n",
    "N = data.count().sum()\n",
    "a = N / n"
   ]
  },
  {
   "cell_type": "code",
   "execution_count": null,
   "metadata": {},
   "outputs": [],
   "source": [
    "a"
   ]
  },
  {
   "cell_type": "code",
   "execution_count": null,
   "metadata": {},
   "outputs": [],
   "source": [
    "# get sums of squares to calculate ANOVA manually\n",
    "\n",
    "\n",
    "# SST is difference between each measurement squared\n",
    "# and the mean squared over N\n",
    "SST = 0\n",
    "\n",
    "for batch in data:\n",
    "    for i in data[batch]:\n",
    "        SST += ( i - total_mean ) **2\n",
    "        \n",
    "SST"
   ]
  },
  {
   "cell_type": "code",
   "execution_count": null,
   "metadata": {},
   "outputs": [],
   "source": [
    "# SStr is total treatment square over number in treatment\n",
    "SStr = 0 \n",
    "\n",
    "for batch in batch_means:\n",
    "    SStr += ( batch - total_mean ) **2\n",
    "    \n",
    "SStr = SStr * n    \n",
    "SStr"
   ]
  },
  {
   "cell_type": "code",
   "execution_count": null,
   "metadata": {},
   "outputs": [],
   "source": [
    "# SSE = SST = SStr\n",
    "SSE = SST - SStr\n",
    "SSE"
   ]
  },
  {
   "cell_type": "code",
   "execution_count": null,
   "metadata": {},
   "outputs": [],
   "source": [
    "# degrees of freedom\n",
    "# df of random factor (looms) = a - 1\n",
    "df_factor = a -1\n",
    "\n",
    "# df of error = a(n-1), where a is the number of factors\n",
    "# and n is the number of observations per factor\n",
    "df_error = a*(n-1)\n",
    "\n",
    "# MStr = SStr / df_factor\n",
    "# MSE = SSE / df_error\n",
    "MStr = SStr / df_factor\n",
    "MSE = SSE / df_error\n",
    "F_0 = MStr/MSE\n",
    "F_0"
   ]
  },
  {
   "cell_type": "code",
   "execution_count": null,
   "metadata": {},
   "outputs": [],
   "source": [
    "# variance due to batches is estimated by: \n",
    "# (MStr - MSE) / n\n",
    "\n",
    "(MStr - MSE) / n"
   ]
  },
  {
   "cell_type": "markdown",
   "metadata": {},
   "source": [
    "The variability between batches is estimated at $1764.05$.  \n",
    "### 13-36 (c) Estimate variability between samples within batches\n",
    "\n",
    "This would be estimated by the mean square error, $MSE = 2451.25$"
   ]
  },
  {
   "cell_type": "code",
   "execution_count": null,
   "metadata": {},
   "outputs": [],
   "source": [
    "MSE"
   ]
  },
  {
   "cell_type": "markdown",
   "metadata": {},
   "source": [
    "### 13-36 (d) Analyze residuals"
   ]
  },
  {
   "cell_type": "code",
   "execution_count": null,
   "metadata": {},
   "outputs": [],
   "source": [
    "# new list of lists of residuals\n",
    "residuals = []\n",
    "\n",
    "# for each column of the dataframe\n",
    "for treatment in data:\n",
    "    # new list of residuals\n",
    "    resids = []\n",
    "    # calculate mean of the treatmen\n",
    "    mean = data[treatment].mean()\n",
    "    # for each observation\n",
    "    for i in data[treatment]:\n",
    "        # calculate and append the residual\n",
    "        resids.append( i - mean )\n",
    "    # append treatment residuals to experiment residuals\n",
    "    residuals.append(resids)\n",
    "    \n",
    "residuals = pd.DataFrame({'1': residuals[0], '2': residuals[1], \n",
    "                         '3': residuals[2], '4': residuals[3], '5': residuals[4]})\n",
    "\n",
    "residuals"
   ]
  },
  {
   "cell_type": "code",
   "execution_count": null,
   "metadata": {},
   "outputs": [],
   "source": [
    "from matplotlib import pyplot as plt\n",
    "\n",
    "coords, z = stats.probplot(residuals.unstack(), plot=plt)\n",
    "x = coords[0]\n",
    "y = coords[1]\n",
    "\n",
    "plt.scatter(x, y)\n",
    "plt.show()"
   ]
  },
  {
   "cell_type": "code",
   "execution_count": null,
   "metadata": {},
   "outputs": [],
   "source": [
    "residuals.plot.density()"
   ]
  },
  {
   "cell_type": "code",
   "execution_count": null,
   "metadata": {},
   "outputs": [],
   "source": [
    "residuals.boxplot()"
   ]
  },
  {
   "cell_type": "markdown",
   "metadata": {},
   "source": [
    "The residuals look mostly reasonable. Most of the residuals plot near the normal probability plot line. By the density plots and boxplots, it is possible that the variation is not consistent across the batches.  \n",
    "\n",
    "## 5. (13-48 )\n",
    "\n",
    "### 13-48 (a) Test for differences, $\\alpha = 0.05$"
   ]
  },
  {
   "cell_type": "code",
   "execution_count": null,
   "metadata": {},
   "outputs": [],
   "source": [
    "data = pd.read_csv('13_48.csv')\n",
    "data"
   ]
  },
  {
   "cell_type": "code",
   "execution_count": null,
   "metadata": {},
   "outputs": [],
   "source": [
    "# For RCBD, we get the totals for each block\n",
    "# in addition to each treatment\n",
    "tr_means = data.mean()\n",
    "tr_totals = data.sum()\n",
    "block_means = data.transpose().mean()\n",
    "block_totals = data.transpose().sum()\n",
    "total = tr_totals.sum()\n",
    "total_mean = tr_means.mean()\n",
    "\n",
    "\n",
    "\n",
    "# total number of measurements\n",
    "n = len(data)\n",
    "N = data.count().sum()\n",
    "a = N / n\n",
    "\n",
    "# SST is difference between each measurement squared\n",
    "# and the mean squared over N\n",
    "SST = 0\n",
    "\n",
    "for treatment in data:\n",
    "    for i in data[treatment]:\n",
    "        SST += ( i - total_mean ) **2\n",
    "        \n",
    "# SStr is number of observations times the square of\n",
    "# the treatment mean minus the total mean\n",
    "SStr = 0 \n",
    "\n",
    "for treatment in tr_means:\n",
    "    SStr += ( treatment - total_mean ) **2\n",
    "    \n",
    "SStr = SStr * n    \n",
    "\n",
    "## SSb is the block means minus the \n",
    "SSb = 0\n",
    "\n",
    "for block in block_means:\n",
    "    SSb += ( block - total_mean ) **2\n",
    "    \n",
    "SSb = SSb * a\n",
    "\n",
    "\n",
    "# SSE = SST - SStr\n",
    "SSE = SST - SStr - SSb\n",
    "SSE\n",
    "\n",
    "# degrees of freedom\n",
    "# df of random treatments = a - 1\n",
    "df_treatments = a - 1\n",
    "\n",
    "# df of blocks\n",
    "df_block = n - 1\n",
    "\n",
    "# df of error = a(n-1), where a is the number of factors\n",
    "# and n is the number of observations per factor\n",
    "df_error = (a-1)*(n-1)\n",
    "\n",
    "# MStr = SStr / df_factor\n",
    "# MSE = SSE / df_error\n",
    "MStr = SStr / df_treatments\n",
    "MSE = SSE / df_error\n",
    "F_0 = MStr/MSE\n",
    "F_0"
   ]
  },
  {
   "cell_type": "code",
   "execution_count": null,
   "metadata": {},
   "outputs": [],
   "source": [
    "stats.f.sf(F_0, df_treatments, df_error)"
   ]
  },
  {
   "cell_type": "markdown",
   "metadata": {},
   "source": [
    "With a *p*-value of 0.00087, reject $H_{0}$. The tip does affect the hardness meaurements.\n",
    "\n",
    "### 13-48 (b) Use Fisher's LSD to investigate differences."
   ]
  },
  {
   "cell_type": "code",
   "execution_count": null,
   "metadata": {},
   "outputs": [],
   "source": [
    "# means to compare\n",
    "tr_means "
   ]
  },
  {
   "cell_type": "code",
   "execution_count": null,
   "metadata": {},
   "outputs": [],
   "source": [
    "# get t_a/2, error df\n",
    "alpha = 0.05\n",
    "t_a = abs(stats.t.ppf(alpha/2, df_error))"
   ]
  },
  {
   "cell_type": "code",
   "execution_count": null,
   "metadata": {},
   "outputs": [],
   "source": [
    "LSD = t_a*math.sqrt(2*MSE/4)\n",
    "LSD"
   ]
  },
  {
   "cell_type": "code",
   "execution_count": null,
   "metadata": {},
   "outputs": [],
   "source": [
    "# check for differences greater than 0.1508\n",
    "for i in range(len(tr_means)):\n",
    "    for j in range(len(tr_means)):\n",
    "        if i != j:\n",
    "            diff = tr_means[i] - tr_means[j]\n",
    "            if abs(diff) > LSD:\n",
    "                print('|{} - {}| = {} is greater than LSD'.format(i, j, diff ))"
   ]
  },
  {
   "cell_type": "markdown",
   "metadata": {},
   "source": [
    "Type 4's mean is 0.3 greater than Type 1, 0.275 greater than Type 2, and 0.425 greater than Type 3. The other differences are not significant.\n",
    "\n",
    "### 13-48 (c) Analyze residuals"
   ]
  },
  {
   "cell_type": "code",
   "execution_count": null,
   "metadata": {},
   "outputs": [],
   "source": [
    "resids = []\n",
    "treatments = len(data)\n",
    "blocks = len(data.iloc[0])\n",
    "\n",
    "for i in range(treatments):\n",
    "    resids.append([])\n",
    "    for j in range(blocks):\n",
    "        fitted_val = tr_means[j] + block_means[i] - total_mean\n",
    "        resid = data.iloc[i][j] - fitted_val\n",
    "        resids[i].append(resid)\n",
    "resids = pd.DataFrame(resids)\n",
    "resids"
   ]
  },
  {
   "cell_type": "code",
   "execution_count": null,
   "metadata": {},
   "outputs": [],
   "source": [
    "coords, z = stats.probplot(resids.unstack(), plot=plt)\n",
    "x = coords[0]\n",
    "y = coords[1]\n",
    "\n",
    "plt.scatter(x, y)\n",
    "plt.show()"
   ]
  },
  {
   "cell_type": "code",
   "execution_count": null,
   "metadata": {},
   "outputs": [],
   "source": [
    "#by tip\n",
    "resids.plot.density()"
   ]
  },
  {
   "cell_type": "code",
   "execution_count": null,
   "metadata": {},
   "outputs": [],
   "source": [
    "#by specimen\n",
    "resids.transpose().plot.density()"
   ]
  },
  {
   "cell_type": "code",
   "execution_count": null,
   "metadata": {},
   "outputs": [],
   "source": [
    "# by tip\n",
    "resids.boxplot()"
   ]
  },
  {
   "cell_type": "code",
   "execution_count": null,
   "metadata": {},
   "outputs": [],
   "source": [
    "# by specimen\n",
    "resids.boxplot()"
   ]
  },
  {
   "cell_type": "markdown",
   "metadata": {},
   "source": [
    "Overall the variation in the residuals is fairly uniform. Normality assumptions seem to be valid.\n",
    "\n",
    "## 6. 14-2\n",
    "\n",
    "### 14-2 (a) \n",
    "$H_{0}: \\tau_{1} = \\tau_{2} = 0$  \n",
    "$H_{1}:$ at least one $\\tau_{i} \\neq 0$  \n",
    "$H_{0}: \\beta_{1} = \\beta_{2} = \\beta_{3} = 0$  \n",
    "$H_{1}:$ at least one $\\beta_{j} \\neq 0$  \n",
    "$H_{0}: (\\tau\\beta)_{11} = (\\tau\\beta)_{12} = . . . = (\\tau\\beta)_{23} = 0$   \n",
    "$H_{1}:$ at least one $(\\tau\\beta)_{ij} \\neq 0$  \n",
    "\n",
    "### 14-2 (b)\n"
   ]
  },
  {
   "cell_type": "code",
   "execution_count": 2,
   "metadata": {},
   "outputs": [
    {
     "data": {
      "text/html": [
       "<div>\n",
       "<style scoped>\n",
       "    .dataframe tbody tr th:only-of-type {\n",
       "        vertical-align: middle;\n",
       "    }\n",
       "\n",
       "    .dataframe tbody tr th {\n",
       "        vertical-align: top;\n",
       "    }\n",
       "\n",
       "    .dataframe thead th {\n",
       "        text-align: right;\n",
       "    }\n",
       "</style>\n",
       "<table border=\"1\" class=\"dataframe\">\n",
       "  <thead>\n",
       "    <tr style=\"text-align: right;\">\n",
       "      <th></th>\n",
       "      <th>Paint</th>\n",
       "      <th>Time</th>\n",
       "      <th>Finish</th>\n",
       "    </tr>\n",
       "  </thead>\n",
       "  <tbody>\n",
       "    <tr>\n",
       "      <th>0</th>\n",
       "      <td>1</td>\n",
       "      <td>1</td>\n",
       "      <td>74</td>\n",
       "    </tr>\n",
       "    <tr>\n",
       "      <th>1</th>\n",
       "      <td>1</td>\n",
       "      <td>2</td>\n",
       "      <td>73</td>\n",
       "    </tr>\n",
       "    <tr>\n",
       "      <th>2</th>\n",
       "      <td>1</td>\n",
       "      <td>3</td>\n",
       "      <td>78</td>\n",
       "    </tr>\n",
       "    <tr>\n",
       "      <th>3</th>\n",
       "      <td>1</td>\n",
       "      <td>1</td>\n",
       "      <td>64</td>\n",
       "    </tr>\n",
       "    <tr>\n",
       "      <th>4</th>\n",
       "      <td>1</td>\n",
       "      <td>2</td>\n",
       "      <td>61</td>\n",
       "    </tr>\n",
       "    <tr>\n",
       "      <th>5</th>\n",
       "      <td>1</td>\n",
       "      <td>3</td>\n",
       "      <td>85</td>\n",
       "    </tr>\n",
       "    <tr>\n",
       "      <th>6</th>\n",
       "      <td>1</td>\n",
       "      <td>1</td>\n",
       "      <td>50</td>\n",
       "    </tr>\n",
       "    <tr>\n",
       "      <th>7</th>\n",
       "      <td>1</td>\n",
       "      <td>2</td>\n",
       "      <td>44</td>\n",
       "    </tr>\n",
       "    <tr>\n",
       "      <th>8</th>\n",
       "      <td>1</td>\n",
       "      <td>3</td>\n",
       "      <td>92</td>\n",
       "    </tr>\n",
       "    <tr>\n",
       "      <th>9</th>\n",
       "      <td>2</td>\n",
       "      <td>1</td>\n",
       "      <td>92</td>\n",
       "    </tr>\n",
       "    <tr>\n",
       "      <th>10</th>\n",
       "      <td>2</td>\n",
       "      <td>2</td>\n",
       "      <td>98</td>\n",
       "    </tr>\n",
       "    <tr>\n",
       "      <th>11</th>\n",
       "      <td>2</td>\n",
       "      <td>3</td>\n",
       "      <td>66</td>\n",
       "    </tr>\n",
       "    <tr>\n",
       "      <th>12</th>\n",
       "      <td>2</td>\n",
       "      <td>1</td>\n",
       "      <td>86</td>\n",
       "    </tr>\n",
       "    <tr>\n",
       "      <th>13</th>\n",
       "      <td>2</td>\n",
       "      <td>2</td>\n",
       "      <td>73</td>\n",
       "    </tr>\n",
       "    <tr>\n",
       "      <th>14</th>\n",
       "      <td>2</td>\n",
       "      <td>3</td>\n",
       "      <td>45</td>\n",
       "    </tr>\n",
       "    <tr>\n",
       "      <th>15</th>\n",
       "      <td>2</td>\n",
       "      <td>1</td>\n",
       "      <td>68</td>\n",
       "    </tr>\n",
       "    <tr>\n",
       "      <th>16</th>\n",
       "      <td>2</td>\n",
       "      <td>2</td>\n",
       "      <td>88</td>\n",
       "    </tr>\n",
       "    <tr>\n",
       "      <th>17</th>\n",
       "      <td>2</td>\n",
       "      <td>3</td>\n",
       "      <td>85</td>\n",
       "    </tr>\n",
       "  </tbody>\n",
       "</table>\n",
       "</div>"
      ],
      "text/plain": [
       "    Paint  Time  Finish\n",
       "0       1     1      74\n",
       "1       1     2      73\n",
       "2       1     3      78\n",
       "3       1     1      64\n",
       "4       1     2      61\n",
       "5       1     3      85\n",
       "6       1     1      50\n",
       "7       1     2      44\n",
       "8       1     3      92\n",
       "9       2     1      92\n",
       "10      2     2      98\n",
       "11      2     3      66\n",
       "12      2     1      86\n",
       "13      2     2      73\n",
       "14      2     3      45\n",
       "15      2     1      68\n",
       "16      2     2      88\n",
       "17      2     3      85"
      ]
     },
     "execution_count": 2,
     "metadata": {},
     "output_type": "execute_result"
    }
   ],
   "source": [
    "import pandas as pd\n",
    "#load data\n",
    "data = pd.DataFrame({'Paint': [1, 1, 1, 1, 1, 1, 1, 1, 1, \n",
    "                               2, 2, 2, 2, 2, 2, 2, 2, 2], \n",
    "                     'Time': [1, 2, 3, 1, 2, 3, 1, 2, 3, \n",
    "                                  1, 2, 3, 1, 2, 3, 1, 2, 3], \n",
    "                     'Finish': [74, 73, 78, \n",
    "                                64, 61, 85, \n",
    "                                50, 44, 92, \n",
    "                                92, 98, 66, \n",
    "                                86, 73, 45, \n",
    "                                68, 88, 85]})\n",
    "data"
   ]
  },
  {
   "cell_type": "code",
   "execution_count": 3,
   "metadata": {},
   "outputs": [
    {
     "data": {
      "text/plain": [
       "97093.55555555556"
      ]
     },
     "execution_count": 3,
     "metadata": {},
     "output_type": "execute_result"
    }
   ],
   "source": [
    "total_sum = data['Finish'].sum()\n",
    "a = 2\n",
    "b = 3\n",
    "n = 3\n",
    "big_mean_square = (total_sum**2) / (a * b * n)\n",
    "big_mean_square"
   ]
  },
  {
   "cell_type": "code",
   "execution_count": 4,
   "metadata": {},
   "outputs": [
    {
     "data": {
      "text/plain": [
       "4504.444444444438"
      ]
     },
     "execution_count": 4,
     "metadata": {},
     "output_type": "execute_result"
    }
   ],
   "source": [
    "# SST all the responses squared minus big mean square\n",
    "squares = data['Finish']**2\n",
    "SST = squares.sum() - big_mean_square\n",
    "SST"
   ]
  },
  {
   "cell_type": "code",
   "execution_count": 5,
   "metadata": {},
   "outputs": [],
   "source": [
    "flipdata = data.transpose()\n",
    "# get counts and totals for the means\n",
    "a1_sum = a2_sum = b1_sum = b2_sum = b3_sum =0\n",
    "ab11_sum = ab12_sum = ab13_sum = ab21_sum = ab22_sum = ab23_sum = 0\n",
    "a1_count = a2_count = b1_count = b2_count = b3_count = 0\n",
    "for i in flipdata:\n",
    "    col = flipdata[i]\n",
    "    y = col['Finish']\n",
    "    if col['Paint'] == 1:\n",
    "        a1_sum += y\n",
    "        a1_count += 1\n",
    "        if col['Time'] == 1:\n",
    "            b1_sum += y\n",
    "            b1_count += 1\n",
    "            ab11_sum += y\n",
    "        elif col['Time'] == 2:\n",
    "            b2_sum += y\n",
    "            b2_count += 1\n",
    "            ab12_sum += y\n",
    "        elif col['Time'] == 3:\n",
    "            b3_sum += y\n",
    "            b3_count += 1\n",
    "            ab13_sum += y\n",
    "    elif col['Paint'] == 2:\n",
    "        a2_sum += y\n",
    "        a2_count += 1\n",
    "        if col['Time'] == 1:\n",
    "            b1_sum += y\n",
    "            b1_count +=1\n",
    "            ab21_sum += y\n",
    "        elif col['Time'] == 2:\n",
    "            b2_sum += y\n",
    "            b2_count += 1\n",
    "            ab22_sum += y\n",
    "        elif col['Time'] == 3:\n",
    "            b3_sum += y\n",
    "            b3_count += 1\n",
    "            ab23_sum += y\n",
    "\n",
    "# calclate means        \n",
    "a1_mean = a1_sum / a1_count\n",
    "a2_mean = a2_sum / a2_count\n",
    "b1_mean = b1_sum / b1_count\n",
    "b2_mean = b2_sum / b2_count\n",
    "b3_mean = b3_sum / b3_count\n",
    "\n"
   ]
  },
  {
   "cell_type": "code",
   "execution_count": 6,
   "metadata": {},
   "outputs": [
    {
     "data": {
      "text/plain": [
       "355.55555555554747"
      ]
     },
     "execution_count": 6,
     "metadata": {},
     "output_type": "execute_result"
    }
   ],
   "source": [
    "# SSA = sum of each group squared / bn - big_mean_square\n",
    "SSA = (a1_sum ** 2 + a2_sum ** 2)/(b*n) - big_mean_square\n",
    "SSA"
   ]
  },
  {
   "cell_type": "code",
   "execution_count": 7,
   "metadata": {},
   "outputs": [
    {
     "data": {
      "text/plain": [
       "27.444444444437977"
      ]
     },
     "execution_count": 7,
     "metadata": {},
     "output_type": "execute_result"
    }
   ],
   "source": [
    "## SSB = sum of each group squared / an - big_mean_square\n",
    "SSB = (b1_sum ** 2 + b2_sum ** 2 + b3_sum ** 2 )/(a*n) - big_mean_square\n",
    "SSB"
   ]
  },
  {
   "cell_type": "code",
   "execution_count": 9,
   "metadata": {},
   "outputs": [
    {
     "data": {
      "text/plain": [
       "1878.777777777781"
      ]
     },
     "execution_count": 9,
     "metadata": {},
     "output_type": "execute_result"
    }
   ],
   "source": [
    "# SSAB = sum of each pair of treatments squared / n - big_mean_square\n",
    "SSAB = (ab11_sum ** 2 + ab12_sum ** 2 + ab13_sum **2 + ab21_sum ** 2 + ab22_sum ** 2 + \n",
    "        ab23_sum ** 2) / n - big_mean_square - SSA - SSB\n",
    "SSAB"
   ]
  },
  {
   "cell_type": "code",
   "execution_count": 10,
   "metadata": {},
   "outputs": [
    {
     "data": {
      "text/plain": [
       "2242.6666666666715"
      ]
     },
     "execution_count": 10,
     "metadata": {},
     "output_type": "execute_result"
    }
   ],
   "source": [
    "## SSE = SST - SSA - SSB - SSAB\n",
    "SSE = SST - SSA - SSB - SSAB\n",
    "SSE"
   ]
  },
  {
   "cell_type": "code",
   "execution_count": 12,
   "metadata": {},
   "outputs": [
    {
     "name": "stdout",
     "output_type": "stream",
     "text": [
      "1\n",
      "2\n",
      "2\n",
      "12\n"
     ]
    }
   ],
   "source": [
    "df_A = a - 1\n",
    "df_B = b - 1\n",
    "df_AB = df_A * df_B\n",
    "df_error = a * b * (n - 1)\n",
    "print(df_A)\n",
    "print(df_B)\n",
    "print(df_AB)\n",
    "print(df_error)"
   ]
  },
  {
   "cell_type": "code",
   "execution_count": 13,
   "metadata": {},
   "outputs": [
    {
     "name": "stdout",
     "output_type": "stream",
     "text": [
      "F_0 for Paint Type is 1.9024970273483475\n",
      "F_0 for Drying Time is 0.07\n",
      "F_0 for Interaction is 5.03\n"
     ]
    }
   ],
   "source": [
    "# MSA, MSB, MSAB, MSE = SS/df\n",
    "MSA = SSA/df_A\n",
    "MSB = SSB/df_B\n",
    "MSAB = SSAB/df_AB\n",
    "MSE = SSE/df_error\n",
    "F_0A = MSA/MSE\n",
    "F_0B = MSB/MSE\n",
    "F_0AB = MSAB/MSE\n",
    "print('F_0 for Paint Type is {}'.format(F_0A))\n",
    "print('F_0 for Drying Time is {}'.format(F_0B.round(2)))\n",
    "print('F_0 for Interaction is {}'.format(F_0AB.round(2)))"
   ]
  },
  {
   "cell_type": "code",
   "execution_count": 14,
   "metadata": {},
   "outputs": [
    {
     "name": "stdout",
     "output_type": "stream",
     "text": [
      "P-value for Paint is 0.19296255138290022\n",
      "P-value for Time is 0.9296204787288459\n",
      "P-value for Interaction is 0.0259592217252373\n"
     ]
    }
   ],
   "source": [
    "from scipy import stats\n",
    "# P-values\n",
    "paint_p = stats.f.sf(F_0A, df_A, df_error)\n",
    "time_p = stats.f.sf(F_0B, df_B, df_error)\n",
    "inter_p = stats.f.sf(F_0AB, df_AB, df_error)\n",
    "print('P-value for Paint is {}'.format(paint_p))\n",
    "print('P-value for Time is {}'.format(time_p))\n",
    "print('P-value for Interaction is {}'.format(inter_p))"
   ]
  },
  {
   "cell_type": "markdown",
   "metadata": {},
   "source": [
    "With *p*-values of $0.193$, $0.930$, and 0.026, the only significant factor is the interaction\n",
    "\n",
    "### 14-2 (c) Analyze Residuals"
   ]
  },
  {
   "cell_type": "code",
   "execution_count": 15,
   "metadata": {},
   "outputs": [],
   "source": [
    "# calcluate residuals\n",
    "# start with cell means\n",
    "means = [[ab11_sum / n, ab12_sum / n, ab13_sum / n], \n",
    "         [ab21_sum / n, ab22_sum / n, ab23_sum / n]]\n",
    "# add column for residuals\n",
    "data['Residuals'] = pd.Series(index=data.index)\n",
    "# now subtract corresponding mean from each value\n",
    "flipdata = data.transpose()\n",
    "for row in flipdata:\n",
    "    col = flipdata[row]\n",
    "    i = int(col['Paint'] - 1)\n",
    "    j = int(col['Time'] - 1 )\n",
    "    col['Residuals'] = col['Finish'] - means[i][j]\n",
    "\n",
    "data1 = flipdata.transpose()"
   ]
  },
  {
   "cell_type": "code",
   "execution_count": 19,
   "metadata": {},
   "outputs": [
    {
     "data": {
      "image/png": "[encoded data removed]",
      "text/plain": [
       "<Figure size 432x288 with 1 Axes>"
      ]
     },
     "metadata": {
      "needs_background": "light"
     },
     "output_type": "display_data"
    }
   ],
   "source": [
    "from matplotlib import pyplot as plt\n",
    "data1.Residuals.plot.density()\n",
    "plt.show()"
   ]
  },
  {
   "cell_type": "code",
   "execution_count": 20,
   "metadata": {},
   "outputs": [
    {
     "data": {
      "image/png": "[encoded data removed]",
      "text/plain": [
       "<Figure size 432x288 with 1 Axes>"
      ]
     },
     "metadata": {
      "needs_background": "light"
     },
     "output_type": "display_data"
    }
   ],
   "source": [
    "coords, z = stats.probplot(data1.Residuals, plot=plt)\n",
    "x = coords[0]\n",
    "y = coords[1]\n",
    "\n",
    "plt.scatter(x, y)\n",
    "plt.show()"
   ]
  },
  {
   "cell_type": "code",
   "execution_count": 26,
   "metadata": {},
   "outputs": [
    {
     "data": {
      "text/plain": [
       "<matplotlib.collections.PathCollection at 0x7fd6a4aa84a8>"
      ]
     },
     "execution_count": 26,
     "metadata": {},
     "output_type": "execute_result"
    },
    {
     "data": {
      "image/png": "[encoded data removed]",
      "text/plain": [
       "<Figure size 432x288 with 1 Axes>"
      ]
     },
     "metadata": {
      "needs_background": "light"
     },
     "output_type": "display_data"
    }
   ],
   "source": [
    "ax = plt.subplot(111)\n",
    "ax.set_xlabel('Paint')\n",
    "ax.set_ylabel('Residual')\n",
    "ax.set_xticks([1, 2, 3], minor=False)\n",
    "plt.scatter(data1.Paint, data1.Residuals)"
   ]
  },
  {
   "cell_type": "code",
   "execution_count": 27,
   "metadata": {},
   "outputs": [
    {
     "data": {
      "text/plain": [
       "<matplotlib.collections.PathCollection at 0x7fd6a49fd710>"
      ]
     },
     "execution_count": 27,
     "metadata": {},
     "output_type": "execute_result"
    },
    {
     "data": {
      "image/png": "[encoded data removed]",
      "text/plain": [
       "<Figure size 432x288 with 1 Axes>"
      ]
     },
     "metadata": {
      "needs_background": "light"
     },
     "output_type": "display_data"
    }
   ],
   "source": [
    "ax = plt.subplot(111)\n",
    "ax.set_xlabel('Drying Time')\n",
    "ax.set_ylabel('Residual')\n",
    "ax.set_xticks([1, 2, 3], minor=False)\n",
    "plt.scatter(data1.Time, data1.Residuals)"
   ]
  },
  {
   "cell_type": "markdown",
   "metadata": {},
   "source": [
    "The residuals reasonably track the line in the normal probability plot. Additionally, the distribution of residuals looks fairly consistent across the factors.\n",
    "\n",
    "## 7. 14-16 a & b\n",
    "\n",
    "### 14-16 (a) "
   ]
  },
  {
   "cell_type": "code",
   "execution_count": null,
   "metadata": {},
   "outputs": [],
   "source": [
    "data = pd.read_csv('./14_16.csv')\n",
    "data"
   ]
  },
  {
   "cell_type": "code",
   "execution_count": null,
   "metadata": {},
   "outputs": [],
   "source": [
    "#start a df for holding calculations\n",
    "calcs = pd.DataFrame()\n",
    "calcs['treatments'] = []\n",
    "calcs['contrasts'] = []\n",
    "calcs['effects'] = []\n",
    "calcs['SSs'] = []\n",
    "calcs['coefficients'] = []\n",
    "calcs['coeff_ses'] = []\n",
    "calcs['t_vals'] = []\n",
    "#calculations\n",
    "for column in data[0:]:\n",
    "    treatment = data[column][0]\n",
    "    contrast = data[column][0:]*data[strength][0:]\n",
    "    effect = contrast/(n*(2**(k-1)))\n",
    "    SS = (contrast**2)/(n*(2**k))\n",
    "    coefficient = effect/2\n",
    "    coeff_se = MSE*math.sqrt(1/(n*(2**k)))\n",
    "    t_val = coefficient/coeff_se\n",
    "    calcs['treatments'].append(treatment)\n",
    "    calcs['contrasts'].append(contrast)\n",
    "    calcs['effects'].append(effect)\n",
    "    calcs['SSs'].append(SS)\n",
    "    calcs['coefficients'].append(coefficient)\n",
    "    calcs['coeff_ses'].append(coeff_se)\n",
    "    calcs['t_vals'].append(t_val)\n",
    "    \n"
   ]
  },
  {
   "cell_type": "markdown",
   "metadata": {},
   "source": [
    "\n",
    "## 8. 14-36 (a) and (b)\n",
    "\n",
    "### 14-36 (a)"
   ]
  },
  {
   "cell_type": "code",
   "execution_count": null,
   "metadata": {},
   "outputs": [],
   "source": []
  },
  {
   "cell_type": "markdown",
   "metadata": {},
   "source": [
    "## 9. 14-69 (a) and (b); use $Y = 15 + 1.6x_{1} – 3.2x_{2} + 2.1x+{3} – 1.6x_{4}$ instead of the first-order model in the book.\n",
    "\n",
    "### 14-69 (a)"
   ]
  },
  {
   "cell_type": "code",
   "execution_count": null,
   "metadata": {},
   "outputs": [],
   "source": []
  },
  {
   "cell_type": "markdown",
   "metadata": {},
   "source": [
    "## 10. 14-52 (a) and (b)\n",
    "\n",
    "### 14-52 (a)"
   ]
  },
  {
   "cell_type": "code",
   "execution_count": null,
   "metadata": {},
   "outputs": [],
   "source": []
  }
 ],
 "metadata": {
  "kernelspec": {
   "display_name": "Python 3",
   "language": "python",
   "name": "python3"
  },
  "language_info": {
   "codemirror_mode": {
    "name": "ipython",
    "version": 3
   },
   "file_extension": ".py",
   "mimetype": "text/x-python",
   "name": "python",
   "nbconvert_exporter": "python",
   "pygments_lexer": "ipython3",
   "version": "3.7.1"
  }
 },
 "nbformat": 4,
 "nbformat_minor": 2
}
