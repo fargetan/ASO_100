{
 "cells": [
  {
   "cell_type": "markdown",
   "metadata": {},
   "source": [
    "# Final Exam, MTH 5401\n",
    "# Graf, Nathan J.\n",
    "\n",
    "1. (4 points) Problem 12-56 a), b), & c)\n",
    "2. (4 points) Problem 12-94 all parts but NOT a) ; use alpha to enter = .15 and alpha to leave = .15\n",
    "3. (4 points) Problem 13-8 a), b), & c); problem and chart is on page 556.\n",
    "4. (4 points) Problem 13-36 a), b), c), and d)\n",
    "5. (2 points) Problem 13-48 a) use alpha = .05\n",
    "6. (4 points) Problem 14-2 a), b), & c)\n",
    "7. (4 points) Problem 14-16 (should say 2^5, not 25 in the problem) do a) and b)\n",
    "8. (4 points) Problem 14-36 a) and b) {i.e. are any factors significant}\n",
    "9. (3 points) Problem 14-69 a) and b); use Y = 15 + 1.6X1 – 3.2X2 + 2.1X3 – 1.6X4 instead of the first-order model in the book.\n",
    "10. (2 points) Problem 14-52 a) and b) \n",
    "\n",
    "## 1. (12-56 a, b, c)\n",
    "\n",
    "### 12-56 a) 95% CI for $\\beta_{1}$, $\\beta_{2}$, $\\beta_{3}$, and $\\beta_{4}$\n"
   ]
  },
  {
   "cell_type": "code",
   "execution_count": 143,
   "metadata": {},
   "outputs": [
    {
     "data": {
      "text/html": [
       "<div>\n",
       "<style scoped>\n",
       "    .dataframe tbody tr th:only-of-type {\n",
       "        vertical-align: middle;\n",
       "    }\n",
       "\n",
       "    .dataframe tbody tr th {\n",
       "        vertical-align: top;\n",
       "    }\n",
       "\n",
       "    .dataframe thead th {\n",
       "        text-align: right;\n",
       "    }\n",
       "</style>\n",
       "<table border=\"1\" class=\"dataframe\">\n",
       "  <thead>\n",
       "    <tr style=\"text-align: right;\">\n",
       "      <th></th>\n",
       "      <th>x0</th>\n",
       "      <th>x1</th>\n",
       "      <th>x2</th>\n",
       "      <th>x3</th>\n",
       "      <th>x4</th>\n",
       "      <th>y</th>\n",
       "    </tr>\n",
       "  </thead>\n",
       "  <tbody>\n",
       "    <tr>\n",
       "      <th>0</th>\n",
       "      <td>1</td>\n",
       "      <td>25</td>\n",
       "      <td>24</td>\n",
       "      <td>91</td>\n",
       "      <td>100</td>\n",
       "      <td>240</td>\n",
       "    </tr>\n",
       "    <tr>\n",
       "      <th>1</th>\n",
       "      <td>1</td>\n",
       "      <td>31</td>\n",
       "      <td>21</td>\n",
       "      <td>90</td>\n",
       "      <td>95</td>\n",
       "      <td>236</td>\n",
       "    </tr>\n",
       "    <tr>\n",
       "      <th>2</th>\n",
       "      <td>1</td>\n",
       "      <td>45</td>\n",
       "      <td>24</td>\n",
       "      <td>88</td>\n",
       "      <td>110</td>\n",
       "      <td>270</td>\n",
       "    </tr>\n",
       "    <tr>\n",
       "      <th>3</th>\n",
       "      <td>1</td>\n",
       "      <td>60</td>\n",
       "      <td>25</td>\n",
       "      <td>87</td>\n",
       "      <td>88</td>\n",
       "      <td>274</td>\n",
       "    </tr>\n",
       "    <tr>\n",
       "      <th>4</th>\n",
       "      <td>1</td>\n",
       "      <td>65</td>\n",
       "      <td>25</td>\n",
       "      <td>91</td>\n",
       "      <td>94</td>\n",
       "      <td>301</td>\n",
       "    </tr>\n",
       "    <tr>\n",
       "      <th>5</th>\n",
       "      <td>1</td>\n",
       "      <td>72</td>\n",
       "      <td>26</td>\n",
       "      <td>94</td>\n",
       "      <td>99</td>\n",
       "      <td>316</td>\n",
       "    </tr>\n",
       "    <tr>\n",
       "      <th>6</th>\n",
       "      <td>1</td>\n",
       "      <td>80</td>\n",
       "      <td>25</td>\n",
       "      <td>87</td>\n",
       "      <td>97</td>\n",
       "      <td>300</td>\n",
       "    </tr>\n",
       "    <tr>\n",
       "      <th>7</th>\n",
       "      <td>1</td>\n",
       "      <td>84</td>\n",
       "      <td>25</td>\n",
       "      <td>86</td>\n",
       "      <td>96</td>\n",
       "      <td>296</td>\n",
       "    </tr>\n",
       "    <tr>\n",
       "      <th>8</th>\n",
       "      <td>1</td>\n",
       "      <td>75</td>\n",
       "      <td>24</td>\n",
       "      <td>88</td>\n",
       "      <td>110</td>\n",
       "      <td>267</td>\n",
       "    </tr>\n",
       "    <tr>\n",
       "      <th>9</th>\n",
       "      <td>1</td>\n",
       "      <td>60</td>\n",
       "      <td>25</td>\n",
       "      <td>91</td>\n",
       "      <td>105</td>\n",
       "      <td>276</td>\n",
       "    </tr>\n",
       "    <tr>\n",
       "      <th>10</th>\n",
       "      <td>1</td>\n",
       "      <td>50</td>\n",
       "      <td>25</td>\n",
       "      <td>90</td>\n",
       "      <td>100</td>\n",
       "      <td>288</td>\n",
       "    </tr>\n",
       "    <tr>\n",
       "      <th>11</th>\n",
       "      <td>1</td>\n",
       "      <td>38</td>\n",
       "      <td>23</td>\n",
       "      <td>89</td>\n",
       "      <td>98</td>\n",
       "      <td>261</td>\n",
       "    </tr>\n",
       "  </tbody>\n",
       "</table>\n",
       "</div>"
      ],
      "text/plain": [
       "    x0  x1  x2  x3   x4    y\n",
       "0    1  25  24  91  100  240\n",
       "1    1  31  21  90   95  236\n",
       "2    1  45  24  88  110  270\n",
       "3    1  60  25  87   88  274\n",
       "4    1  65  25  91   94  301\n",
       "5    1  72  26  94   99  316\n",
       "6    1  80  25  87   97  300\n",
       "7    1  84  25  86   96  296\n",
       "8    1  75  24  88  110  267\n",
       "9    1  60  25  91  105  276\n",
       "10   1  50  25  90  100  288\n",
       "11   1  38  23  89   98  261"
      ]
     },
     "execution_count": 143,
     "metadata": {},
     "output_type": "execute_result"
    }
   ],
   "source": [
    "import pandas as pd\n",
    "\n",
    "data = pd.read_csv('12_55.csv')\n",
    "data"
   ]
  },
  {
   "cell_type": "code",
   "execution_count": 144,
   "metadata": {},
   "outputs": [
    {
     "data": {
      "text/plain": [
       "matrix([[  1,  25,  24,  91, 100],\n",
       "        [  1,  31,  21,  90,  95],\n",
       "        [  1,  45,  24,  88, 110],\n",
       "        [  1,  60,  25,  87,  88],\n",
       "        [  1,  65,  25,  91,  94],\n",
       "        [  1,  72,  26,  94,  99],\n",
       "        [  1,  80,  25,  87,  97],\n",
       "        [  1,  84,  25,  86,  96],\n",
       "        [  1,  75,  24,  88, 110],\n",
       "        [  1,  60,  25,  91, 105],\n",
       "        [  1,  50,  25,  90, 100],\n",
       "        [  1,  38,  23,  89,  98]], dtype=int64)"
      ]
     },
     "execution_count": 144,
     "metadata": {},
     "output_type": "execute_result"
    }
   ],
   "source": [
    "import numpy as np\n",
    "np.mat(data[['x0', 'x1', 'x2', 'x3', 'x4']])"
   ]
  },
  {
   "cell_type": "code",
   "execution_count": 145,
   "metadata": {},
   "outputs": [
    {
     "name": "stdout",
     "output_type": "stream",
     "text": [
      "[[  1  25  24  91 100]\n",
      " [  1  31  21  90  95]\n",
      " [  1  45  24  88 110]\n",
      " [  1  60  25  87  88]\n",
      " [  1  65  25  91  94]\n",
      " [  1  72  26  94  99]\n",
      " [  1  80  25  87  97]\n",
      " [  1  84  25  86  96]\n",
      " [  1  75  24  88 110]\n",
      " [  1  60  25  91 105]\n",
      " [  1  50  25  90 100]\n",
      " [  1  38  23  89  98]]\n",
      "[[240 236 270 274 301 316 300 296 267 276 288 261]]\n"
     ]
    }
   ],
   "source": [
    "X = np.mat(data[['x0', 'x1', 'x2', 'x3', 'x4']])\n",
    "Y = np.mat(data['y'])\n",
    "print(X)\n",
    "print(Y)"
   ]
  },
  {
   "cell_type": "code",
   "execution_count": 146,
   "metadata": {},
   "outputs": [],
   "source": [
    "regressors = ((X.transpose()*X)**-1)*X.transpose()*Y.transpose()"
   ]
  },
  {
   "cell_type": "code",
   "execution_count": 147,
   "metadata": {},
   "outputs": [
    {
     "data": {
      "text/plain": [
       "matrix([[-123.13124627],\n",
       "        [   0.75728909],\n",
       "        [   7.51878396],\n",
       "        [   2.48307855],\n",
       "        [  -0.48113523]])"
      ]
     },
     "execution_count": 147,
     "metadata": {},
     "output_type": "execute_result"
    }
   ],
   "source": [
    "regressors"
   ]
  },
  {
   "cell_type": "code",
   "execution_count": 148,
   "metadata": {},
   "outputs": [
    {
     "name": "stdout",
     "output_type": "stream",
     "text": [
      "Intercept   -123.131246\n",
      "x1             0.757289\n",
      "x2             7.518784\n",
      "x3             2.483079\n",
      "x4            -0.481135\n",
      "dtype: float64\n"
     ]
    }
   ],
   "source": [
    "import statsmodels.formula.api as sm\n",
    "\n",
    "data1 = data[['x1', 'x2', 'x3', 'x4', 'y']]\n",
    "result = sm.ols(formula='y~x1+x2+x3+x4', data=data1).fit()\n",
    "\n",
    "print(result.params)"
   ]
  },
  {
   "cell_type": "code",
   "execution_count": 149,
   "metadata": {},
   "outputs": [
    {
     "name": "stdout",
     "output_type": "stream",
     "text": [
      "0    -14.098421\n",
      "1     -0.008401\n",
      "2     13.016385\n",
      "3     -9.963632\n",
      "4      6.204420\n",
      "5      3.341053\n",
      "6      5.220804\n",
      "7      0.193590\n",
      "8    -12.702288\n",
      "9     -9.716647\n",
      "10     9.933646\n",
      "11     8.579491\n",
      "dtype: float64\n"
     ]
    }
   ],
   "source": [
    "print(result.resid)"
   ]
  },
  {
   "cell_type": "code",
   "execution_count": 150,
   "metadata": {},
   "outputs": [
    {
     "data": {
      "text/plain": [
       "121.55798180259414"
      ]
     },
     "execution_count": 150,
     "metadata": {},
     "output_type": "execute_result"
    }
   ],
   "source": [
    "resids = result.resid\n",
    "n = 12\n",
    "p = 4\n",
    "variance = (resids**2).sum()/(n-p)\n",
    "variance"
   ]
  },
  {
   "cell_type": "code",
   "execution_count": 151,
   "metadata": {},
   "outputs": [
    {
     "data": {
      "text/plain": [
       "matrix([[121.5579818]])"
      ]
     },
     "execution_count": 151,
     "metadata": {},
     "output_type": "execute_result"
    }
   ],
   "source": [
    "# SSE = y'y - BhatX'y\n",
    "# but Bhat is actually the transpose of the previous Bhat\n",
    "# it is a row, not a column\n",
    "beta_hat = np.mat(result.params)\n",
    "SSE = Y*Y.transpose() - beta_hat*X.transpose()*Y.transpose()\n",
    "n = 12\n",
    "p = 4\n",
    "\n",
    "variance = SSE/(n - p)\n",
    "variance"
   ]
  },
  {
   "cell_type": "code",
   "execution_count": 152,
   "metadata": {},
   "outputs": [
    {
     "data": {
      "text/plain": [
       "2.306004135033371"
      ]
     },
     "execution_count": 152,
     "metadata": {},
     "output_type": "execute_result"
    }
   ],
   "source": [
    "from scipy import stats\n",
    "# calculate t value\n",
    "alpha = 0.05\n",
    "\n",
    "t_a = abs(stats.t.ppf(alpha/2, n-p))\n",
    "t_a"
   ]
  },
  {
   "cell_type": "code",
   "execution_count": 153,
   "metadata": {},
   "outputs": [
    {
     "name": "stdout",
     "output_type": "stream",
     "text": [
      "0.15527308216574065 <= B1 <= 1.359305094875228\n",
      "-1.1313260528921685 <= B2 <= 16.16889396372833\n",
      "-1.4198916734044218 <= B3 <= 6.386048782698197\n",
      "-1.6786844403830763 <= B4 <= 0.7164139773300429\n"
     ]
    }
   ],
   "source": [
    "import math \n",
    "\n",
    "C = (X.transpose() * X)**-1\n",
    "\n",
    "# loop from 0 - 3 and calculate intervals\n",
    "for i in range(1, p+1):\n",
    "    lower = beta_hat[0, i] - t_a * math.sqrt(variance*C[i,i])\n",
    "    upper = beta_hat[0, i] + t_a * math.sqrt(variance*C[i,i])\n",
    "    print('{} <= B{} <= {}'.format(lower, i, upper))"
   ]
  },
  {
   "cell_type": "markdown",
   "metadata": {},
   "source": [
    "In other words the Confidence intervals for $\\hat{\\beta_{i}}$ $i \\in 1, 2, 3, 4$ are:   \n",
    "$0.15527 \\leq \\hat{\\beta_{1}} \\leq 1.3593$  \n",
    "$-1.1313 \\leq \\hat{\\beta_{2}} \\leq 16.169$  \n",
    "$-1.4199 \\leq \\hat{\\beta_{3}} \\leq 6.3860$  \n",
    "$-1.6787 \\leq \\hat{\\beta_{4}} \\leq 0.71641$  \n",
    "\n",
    "### 12-56 (b)  95% CI on mean of Y for $x_1 = 75, x_2 = 24, x_3 = 90, x_4 = 98$ \n"
   ]
  },
  {
   "cell_type": "code",
   "execution_count": 154,
   "metadata": {},
   "outputs": [
    {
     "data": {
      "text/plain": [
       "matrix([[ 1],\n",
       "        [75],\n",
       "        [24],\n",
       "        [90],\n",
       "        [98]])"
      ]
     },
     "execution_count": 154,
     "metadata": {},
     "output_type": "execute_result"
    }
   ],
   "source": [
    "#t_a and most of the data is the same, for the formula, we construct a vector of the x-values\n",
    "X_0 = np.mat([1, 75, 24, 90, 98]).transpose()\n",
    "X_0"
   ]
  },
  {
   "cell_type": "code",
   "execution_count": 155,
   "metadata": {},
   "outputs": [
    {
     "name": "stdout",
     "output_type": "stream",
     "text": [
      "[[105.28221519]] <= mu_Y|X_0 <= [[475.60191987]]\n"
     ]
    }
   ],
   "source": [
    "# mu_hat is predicted value\n",
    "mu_hat = beta_hat*X_0\n",
    "\n",
    "# formula mu_hat +- t*sqrt(variance*X_0'(X'X)**-1)\n",
    "lower = mu_hat - t_a * math.sqrt(variance*X_0.transpose()*C[i,i]*X_0)\n",
    "upper = mu_hat + t_a * math.sqrt(variance*X_0.transpose()*C[i,i]*X_0)\n",
    "print('{} <= mu_Y|X_0 <= {}'.format(lower, upper))"
   ]
  },
  {
   "cell_type": "markdown",
   "metadata": {},
   "source": [
    "$105.28 \\leq \\mu_{Y|x{0}} \\leq 475.60$  \n",
    "\n",
    "### 12-56 (c) 95% prediction"
   ]
  },
  {
   "cell_type": "code",
   "execution_count": 156,
   "metadata": {},
   "outputs": [
    {
     "name": "stdout",
     "output_type": "stream",
     "text": [
      "[[103.54483819]] <= Y_0 <= [[477.33929687]]\n"
     ]
    }
   ],
   "source": [
    "# formula y_hat(mu_hat) +- t*sqrt(variance*X_0'(X'X)**-1)\n",
    "lower = mu_hat - t_a * math.sqrt(variance*(1 + X_0.transpose()*C[i,i]*X_0))\n",
    "upper = mu_hat + t_a * math.sqrt(variance*(1 + X_0.transpose()*C[i,i]*X_0))\n",
    "print('{} <= Y_0 <= {}'.format(lower, upper))"
   ]
  },
  {
   "cell_type": "markdown",
   "metadata": {},
   "source": [
    "$103.54 \\leq \\mu_{Y_0} \\leq 477.34$  \n",
    "\n",
    "## 2. (12-94 (not a))\n",
    "\n",
    "### 12-94 (b) stepwise regression ($\\alpha$ to leave = 0.15"
   ]
  },
  {
   "cell_type": "code",
   "execution_count": 157,
   "metadata": {},
   "outputs": [],
   "source": [
    "# import data\n",
    "data = pd.read_csv('12_12.csv')\n",
    "Y = np.mat(data['y']).transpose()\n",
    "X = np.mat(data[['x0', 'x1', 'x2', 'x3', 'x4', 'x5', 'x6']])"
   ]
  },
  {
   "cell_type": "code",
   "execution_count": 158,
   "metadata": {},
   "outputs": [],
   "source": [
    "data1 = data[['x1', 'x2', 'x3', 'x4', 'x5', 'x6', 'y']]\n",
    "result = sm.ols(formula='y~x1+x2+x3+x4+x5+x6', data=data1).fit()\n"
   ]
  },
  {
   "cell_type": "code",
   "execution_count": 159,
   "metadata": {},
   "outputs": [
    {
     "data": {
      "text/plain": [
       "Index(['x1', 'x2', 'x3', 'x4', 'x5', 'x6', 'y'], dtype='object')"
      ]
     },
     "execution_count": 159,
     "metadata": {},
     "output_type": "execute_result"
    }
   ],
   "source": [
    "data1.columns"
   ]
  },
  {
   "cell_type": "code",
   "execution_count": 160,
   "metadata": {},
   "outputs": [
    {
     "data": {
      "text/plain": [
       "0.7112548532657963"
      ]
     },
     "execution_count": 160,
     "metadata": {},
     "output_type": "execute_result"
    }
   ],
   "source": [
    "result.rsquared"
   ]
  },
  {
   "cell_type": "code",
   "execution_count": 161,
   "metadata": {},
   "outputs": [
    {
     "name": "stdout",
     "output_type": "stream",
     "text": [
      "for x1 the correlation is: 1.9810147791674546\n",
      "for x2 the correlation is: 1.1303164472820604\n",
      "for x3 the correlation is: 15.519961240723473\n",
      "for x4 the correlation is: 7.663962604496091\n",
      "for x5 the correlation is: 2.1457366821308637\n",
      "for x6 the correlation is: 1.1149533007407104\n"
     ]
    }
   ],
   "source": [
    "# let's cycle through the variables and choose the strongest one\n",
    "for var in data1.columns[:-1]:\n",
    "    form = 'y~' + var\n",
    "    result = sm.ols(formula=form, data=data1).fit()\n",
    "    message = 'for ' + var\n",
    "    message += ' the correlation is: '\n",
    "    message += str(result.fvalue)\n",
    "    print(message)"
   ]
  },
  {
   "cell_type": "code",
   "execution_count": 162,
   "metadata": {},
   "outputs": [
    {
     "name": "stdout",
     "output_type": "stream",
     "text": [
      "for x1 the correlation is: Intercept    0.055334\n",
      "x3           0.002426\n",
      "x1           0.361784\n",
      "dtype: float64\n",
      "for x2 the correlation is: Intercept    0.765341\n",
      "x3           0.000869\n",
      "x2           0.156675\n",
      "dtype: float64\n",
      "for x3 the correlation is: Intercept    0.082078\n",
      "x3           0.001057\n",
      "dtype: float64\n",
      "for x4 the correlation is: Intercept    0.477052\n",
      "x3           0.001246\n",
      "x4           0.013357\n",
      "dtype: float64\n",
      "for x5 the correlation is: Intercept    0.994074\n",
      "x3           0.000766\n",
      "x5           0.078927\n",
      "dtype: float64\n",
      "for x6 the correlation is: Intercept    0.301998\n",
      "x3           0.002170\n",
      "x6           0.577429\n",
      "dtype: float64\n"
     ]
    }
   ],
   "source": [
    "# let's cycle through the variables and choose the strongest one\n",
    "for var in data1.columns[:-1]:\n",
    "    form = 'y~x3 + ' + var\n",
    "    result = sm.ols(formula=form, data=data1).fit()\n",
    "    message = 'for ' + var\n",
    "    message += ' the correlation is: '\n",
    "    message += str(result.pvalues)\n",
    "    print(message)"
   ]
  },
  {
   "cell_type": "code",
   "execution_count": 163,
   "metadata": {},
   "outputs": [
    {
     "name": "stdout",
     "output_type": "stream",
     "text": [
      "Add  x3                             with p-value 0.00105705\n",
      "Add  x4                             with p-value 0.0133574\n",
      "resulting features:\n",
      "['x3', 'x4']\n"
     ]
    },
    {
     "name": "stderr",
     "output_type": "stream",
     "text": [
      "C:\\ProgramData\\Anaconda3\\lib\\site-packages\\ipykernel_launcher.py:36: FutureWarning: 'argmin' is deprecated, use 'idxmin' instead. The behavior of 'argmin'\n",
      "will be corrected to return the positional minimum in the future.\n",
      "Use 'series.values.argmin' to get the position of the minimum now.\n"
     ]
    }
   ],
   "source": [
    "import statsmodels.api as sm\n",
    "\n",
    "X = data[['x1', 'x2', 'x3', 'x4', 'x5', 'x6']]\n",
    "y = data['y']\n",
    "\n",
    "\n",
    "def stepwise_selection(X, y, \n",
    "                       initial_list=[], \n",
    "                       threshold_in=0.15, \n",
    "                       threshold_out = 0.15, \n",
    "                       verbose=True):\n",
    "    \"\"\" Perform a forward-backward feature selection \n",
    "    based on p-value from statsmodels.api.OLS\n",
    "    Arguments:\n",
    "        X - pandas.DataFrame with candidate features\n",
    "        y - list-like with the target\n",
    "        initial_list - list of features to start with (column names of X)\n",
    "        threshold_in - include a feature if its p-value < threshold_in\n",
    "        threshold_out - exclude a feature if its p-value > threshold_out\n",
    "        verbose - whether to print the sequence of inclusions and exclusions\n",
    "    Returns: list of selected features \n",
    "    Always set threshold_in < threshold_out to avoid infinite looping.\n",
    "    See https://en.wikipedia.org/wiki/Stepwise_regression for the details\n",
    "    \"\"\"\n",
    "    included = list(initial_list)\n",
    "    while True:\n",
    "        changed=False\n",
    "        # forward step\n",
    "        excluded = list(set(X.columns)-set(included))\n",
    "        new_pval = pd.Series(index=excluded)\n",
    "        for new_column in excluded:\n",
    "            model = sm.OLS(y, sm.add_constant(pd.DataFrame(X[included+[new_column]]))).fit()\n",
    "            new_pval[new_column] = model.pvalues[new_column]\n",
    "        best_pval = new_pval.min()\n",
    "        if best_pval < threshold_in:\n",
    "            best_feature = new_pval.argmin()\n",
    "            included.append(best_feature)\n",
    "            changed=True\n",
    "            if verbose:\n",
    "                print('Add  {:30} with p-value {:.6}'.format(best_feature, best_pval))\n",
    "\n",
    "        # backward step\n",
    "        model = sm.OLS(y, sm.add_constant(pd.DataFrame(X[included]))).fit()\n",
    "        # use all coefs except intercept\n",
    "        pvalues = model.pvalues.iloc[1:]\n",
    "        worst_pval = pvalues.max() # null if pvalues is empty\n",
    "        if worst_pval > threshold_out:\n",
    "            changed=True\n",
    "            worst_feature = pvalues.argmax()\n",
    "            included.remove(worst_feature)\n",
    "            if verbose:\n",
    "                print('Drop {:30} with p-value {:.6}'.format(worst_feature, worst_pval))\n",
    "        if not changed:\n",
    "            break\n",
    "    return included\n",
    "\n",
    "result = stepwise_selection(X, y)\n",
    "\n",
    "print('resulting features:')\n",
    "print(result)"
   ]
  },
  {
   "cell_type": "markdown",
   "metadata": {},
   "source": [
    "The variables added using stepwise regression were $x_{3}$ and $x_{4}$\n",
    "\n",
    "### 12-94 (c) Forward Selection\n",
    "\n",
    "Since none of the variables got removed from the stepwise regression, forward selection will have identical results:\n",
    "the resulting regressors are $x_{3}$ and $x_{4}$\n",
    "\n",
    "### 12-94 (d) Backward Elimination\n",
    "\n"
   ]
  },
  {
   "cell_type": "code",
   "execution_count": 164,
   "metadata": {},
   "outputs": [
    {
     "name": "stderr",
     "output_type": "stream",
     "text": [
      "C:\\ProgramData\\Anaconda3\\lib\\site-packages\\scipy\\stats\\stats.py:1394: UserWarning: kurtosistest only valid for n>=20 ... continuing anyway, n=19\n",
      "  \"anyway, n=%i\" % int(n))\n"
     ]
    },
    {
     "name": "stdout",
     "output_type": "stream",
     "text": [
      "                            OLS Regression Results                            \n",
      "==============================================================================\n",
      "Dep. Variable:                      y   R-squared:                       0.711\n",
      "Model:                            OLS   Adj. R-squared:                  0.567\n",
      "Method:                 Least Squares   F-statistic:                     4.927\n",
      "Date:                Tue, 11 Dec 2018   Prob (F-statistic):            0.00921\n",
      "Time:                        00:52:31   Log-Likelihood:                -20.467\n",
      "No. Observations:                  19   AIC:                             54.93\n",
      "Df Residuals:                      12   BIC:                             61.54\n",
      "Df Model:                           6                                         \n",
      "Covariance Type:            nonrobust                                         \n",
      "==============================================================================\n",
      "                 coef    std err          t      P>|t|      [0.025      0.975]\n",
      "------------------------------------------------------------------------------\n",
      "Intercept      3.1368      8.110      0.387      0.706     -14.533      20.807\n",
      "x1             0.6444      0.589      1.094      0.295      -0.639       1.928\n",
      "x2            -0.0104      0.268     -0.039      0.970      -0.594       0.573\n",
      "x3             0.5046      0.142      3.545      0.004       0.195       0.815\n",
      "x4            -0.1197      0.056     -2.128      0.055      -0.242       0.003\n",
      "x5            -2.4618      2.598     -0.948      0.362      -8.122       3.198\n",
      "x6             1.5044      1.519      0.990      0.342      -1.806       4.815\n",
      "==============================================================================\n",
      "Omnibus:                        0.314   Durbin-Watson:                   1.954\n",
      "Prob(Omnibus):                  0.855   Jarque-Bera (JB):                0.418\n",
      "Skew:                           0.250   Prob(JB):                        0.811\n",
      "Kurtosis:                       2.472   Cond. No.                     3.83e+03\n",
      "==============================================================================\n",
      "\n",
      "Warnings:\n",
      "[1] Standard Errors assume that the covariance matrix of the errors is correctly specified.\n",
      "[2] The condition number is large, 3.83e+03. This might indicate that there are\n",
      "strong multicollinearity or other numerical problems.\n"
     ]
    }
   ],
   "source": [
    "# import data\n",
    "data = pd.read_csv('12_12.csv')\n",
    "Y = np.mat(data['y']).transpose()\n",
    "X = np.mat(data[['x0', 'x1', 'x2', 'x3', 'x4', 'x5', 'x6']])\n",
    "data1 = data[['x1', 'x2', 'x3', 'x4', 'x5', 'x6', 'y']]\n",
    "result = sm.formula.ols(formula='y~x1+x2+x3+x4+x5+x6', data=data1).fit()\n",
    "print(result.summary())"
   ]
  },
  {
   "cell_type": "code",
   "execution_count": 165,
   "metadata": {},
   "outputs": [
    {
     "name": "stdout",
     "output_type": "stream",
     "text": [
      "                            OLS Regression Results                            \n",
      "==============================================================================\n",
      "Dep. Variable:                      y   R-squared:                       0.711\n",
      "Model:                            OLS   Adj. R-squared:                  0.600\n",
      "Method:                 Least Squares   F-statistic:                     6.403\n",
      "Date:                Tue, 11 Dec 2018   Prob (F-statistic):            0.00328\n",
      "Time:                        00:52:31   Log-Likelihood:                -20.468\n",
      "No. Observations:                  19   AIC:                             52.94\n",
      "Df Residuals:                      13   BIC:                             58.60\n",
      "Df Model:                           5                                         \n",
      "Covariance Type:            nonrobust                                         \n",
      "==============================================================================\n",
      "                 coef    std err          t      P>|t|      [0.025      0.975]\n",
      "------------------------------------------------------------------------------\n",
      "Intercept      3.0804      7.667      0.402      0.694     -13.483      19.643\n",
      "x1             0.6447      0.566      1.140      0.275      -0.578       1.867\n",
      "x3             0.5041      0.136      3.702      0.003       0.210       0.798\n",
      "x4            -0.1204      0.051     -2.371      0.034      -0.230      -0.011\n",
      "x5            -2.4976      2.334     -1.070      0.304      -7.539       2.544\n",
      "x6             1.5094      1.455      1.038      0.318      -1.633       4.652\n",
      "==============================================================================\n",
      "Omnibus:                        0.325   Durbin-Watson:                   1.962\n",
      "Prob(Omnibus):                  0.850   Jarque-Bera (JB):                0.427\n",
      "Skew:                           0.254   Prob(JB):                        0.808\n",
      "Kurtosis:                       2.470   Cond. No.                     3.70e+03\n",
      "==============================================================================\n",
      "\n",
      "Warnings:\n",
      "[1] Standard Errors assume that the covariance matrix of the errors is correctly specified.\n",
      "[2] The condition number is large, 3.7e+03. This might indicate that there are\n",
      "strong multicollinearity or other numerical problems.\n"
     ]
    },
    {
     "name": "stderr",
     "output_type": "stream",
     "text": [
      "C:\\ProgramData\\Anaconda3\\lib\\site-packages\\scipy\\stats\\stats.py:1394: UserWarning: kurtosistest only valid for n>=20 ... continuing anyway, n=19\n",
      "  \"anyway, n=%i\" % int(n))\n"
     ]
    }
   ],
   "source": [
    "# remove x2 and try again since it had the highest p-value\n",
    "result = sm.formula.ols(formula='y~x1+x3+x4+x5+x6', data=data1).fit()\n",
    "print(result.summary())"
   ]
  },
  {
   "cell_type": "code",
   "execution_count": 166,
   "metadata": {},
   "outputs": [
    {
     "name": "stderr",
     "output_type": "stream",
     "text": [
      "C:\\ProgramData\\Anaconda3\\lib\\site-packages\\scipy\\stats\\stats.py:1394: UserWarning: kurtosistest only valid for n>=20 ... continuing anyway, n=19\n",
      "  \"anyway, n=%i\" % int(n))\n"
     ]
    },
    {
     "name": "stdout",
     "output_type": "stream",
     "text": [
      "                            OLS Regression Results                            \n",
      "==============================================================================\n",
      "Dep. Variable:                      y   R-squared:                       0.687\n",
      "Model:                            OLS   Adj. R-squared:                  0.598\n",
      "Method:                 Least Squares   F-statistic:                     7.693\n",
      "Date:                Tue, 11 Dec 2018   Prob (F-statistic):            0.00170\n",
      "Time:                        00:52:31   Log-Likelihood:                -21.224\n",
      "No. Observations:                  19   AIC:                             52.45\n",
      "Df Residuals:                      14   BIC:                             57.17\n",
      "Df Model:                           4                                         \n",
      "Covariance Type:            nonrobust                                         \n",
      "==============================================================================\n",
      "                 coef    std err          t      P>|t|      [0.025      0.975]\n",
      "------------------------------------------------------------------------------\n",
      "Intercept      4.9644      7.469      0.665      0.517     -11.055      20.984\n",
      "x1             0.4537      0.536      0.846      0.412      -0.697       1.604\n",
      "x3             0.4909      0.136      3.610      0.003       0.199       0.783\n",
      "x4            -0.1071      0.049     -2.173      0.047      -0.213      -0.001\n",
      "x5            -1.8218      2.247     -0.811      0.431      -6.641       2.998\n",
      "==============================================================================\n",
      "Omnibus:                        0.361   Durbin-Watson:                   1.782\n",
      "Prob(Omnibus):                  0.835   Jarque-Bera (JB):                0.508\n",
      "Skew:                          -0.174   Prob(JB):                        0.776\n",
      "Kurtosis:                       2.279   Cond. No.                     3.60e+03\n",
      "==============================================================================\n",
      "\n",
      "Warnings:\n",
      "[1] Standard Errors assume that the covariance matrix of the errors is correctly specified.\n",
      "[2] The condition number is large, 3.6e+03. This might indicate that there are\n",
      "strong multicollinearity or other numerical problems.\n"
     ]
    }
   ],
   "source": [
    "# remove x6 and try again since it had the highest p-value\n",
    "result = sm.formula.ols(formula='y~x1+x3+x4+x5', data=data1).fit()\n",
    "print(result.summary())"
   ]
  },
  {
   "cell_type": "code",
   "execution_count": 167,
   "metadata": {},
   "outputs": [
    {
     "name": "stdout",
     "output_type": "stream",
     "text": [
      "                            OLS Regression Results                            \n",
      "==============================================================================\n",
      "Dep. Variable:                      y   R-squared:                       0.673\n",
      "Model:                            OLS   Adj. R-squared:                  0.607\n",
      "Method:                 Least Squares   F-statistic:                     10.27\n",
      "Date:                Tue, 11 Dec 2018   Prob (F-statistic):           0.000630\n",
      "Time:                        00:52:31   Log-Likelihood:                -21.660\n",
      "No. Observations:                  19   AIC:                             51.32\n",
      "Df Residuals:                      15   BIC:                             55.10\n",
      "Df Model:                           3                                         \n",
      "Covariance Type:            nonrobust                                         \n",
      "==============================================================================\n",
      "                 coef    std err          t      P>|t|      [0.025      0.975]\n",
      "------------------------------------------------------------------------------\n",
      "Intercept      2.4193      6.700      0.361      0.723     -11.860      16.699\n",
      "x1             0.5530      0.516      1.071      0.301      -0.548       1.653\n",
      "x3             0.4790      0.134      3.585      0.003       0.194       0.764\n",
      "x4            -0.1234      0.044     -2.775      0.014      -0.218      -0.029\n",
      "==============================================================================\n",
      "Omnibus:                        0.633   Durbin-Watson:                   1.723\n",
      "Prob(Omnibus):                  0.729   Jarque-Bera (JB):                0.658\n",
      "Skew:                          -0.194   Prob(JB):                        0.720\n",
      "Kurtosis:                       2.175   Cond. No.                     3.24e+03\n",
      "==============================================================================\n",
      "\n",
      "Warnings:\n",
      "[1] Standard Errors assume that the covariance matrix of the errors is correctly specified.\n",
      "[2] The condition number is large, 3.24e+03. This might indicate that there are\n",
      "strong multicollinearity or other numerical problems.\n"
     ]
    },
    {
     "name": "stderr",
     "output_type": "stream",
     "text": [
      "C:\\ProgramData\\Anaconda3\\lib\\site-packages\\scipy\\stats\\stats.py:1394: UserWarning: kurtosistest only valid for n>=20 ... continuing anyway, n=19\n",
      "  \"anyway, n=%i\" % int(n))\n"
     ]
    }
   ],
   "source": [
    "# remove x5 and try again since it had the highest p-value\n",
    "result = sm.formula.ols(formula='y~x1+x3+x4', data=data1).fit()\n",
    "print(result.summary())"
   ]
  },
  {
   "cell_type": "markdown",
   "metadata": {},
   "source": [
    "Finally, with a *p*-value of 0.301, we remove x1."
   ]
  },
  {
   "cell_type": "code",
   "execution_count": 168,
   "metadata": {},
   "outputs": [
    {
     "name": "stdout",
     "output_type": "stream",
     "text": [
      "                            OLS Regression Results                            \n",
      "==============================================================================\n",
      "Dep. Variable:                      y   R-squared:                       0.648\n",
      "Model:                            OLS   Adj. R-squared:                  0.604\n",
      "Method:                 Least Squares   F-statistic:                     14.70\n",
      "Date:                Tue, 11 Dec 2018   Prob (F-statistic):           0.000238\n",
      "Time:                        00:52:31   Log-Likelihood:                -22.360\n",
      "No. Observations:                  19   AIC:                             50.72\n",
      "Df Residuals:                      16   BIC:                             53.55\n",
      "Df Model:                           2                                         \n",
      "Covariance Type:            nonrobust                                         \n",
      "==============================================================================\n",
      "                 coef    std err          t      P>|t|      [0.025      0.975]\n",
      "------------------------------------------------------------------------------\n",
      "Intercept      4.6563      6.395      0.728      0.477      -8.900      18.213\n",
      "x3             0.5113      0.131      3.911      0.001       0.234       0.789\n",
      "x4            -0.1242      0.045     -2.781      0.013      -0.219      -0.030\n",
      "==============================================================================\n",
      "Omnibus:                        0.536   Durbin-Watson:                   1.458\n",
      "Prob(Omnibus):                  0.765   Jarque-Bera (JB):                0.253\n",
      "Skew:                          -0.271   Prob(JB):                        0.881\n",
      "Kurtosis:                       2.843   Cond. No.                     3.07e+03\n",
      "==============================================================================\n",
      "\n",
      "Warnings:\n",
      "[1] Standard Errors assume that the covariance matrix of the errors is correctly specified.\n",
      "[2] The condition number is large, 3.07e+03. This might indicate that there are\n",
      "strong multicollinearity or other numerical problems."
     ]
    },
    {
     "name": "stderr",
     "output_type": "stream",
     "text": [
      "C:\\ProgramData\\Anaconda3\\lib\\site-packages\\scipy\\stats\\stats.py:1394: UserWarning: kurtosistest only valid for n>=20 ... continuing anyway, n=19\n",
      "  \"anyway, n=%i\" % int(n))\n"
     ]
    },
    {
     "name": "stdout",
     "output_type": "stream",
     "text": [
      "\n"
     ]
    }
   ],
   "source": [
    "# remove x2 and try again since it had the highest p-value\n",
    "result = sm.formula.ols(formula='y~x3+x4', data=data1).fit()\n",
    "print(result.summary())"
   ]
  },
  {
   "cell_type": "markdown",
   "metadata": {},
   "source": [
    "We are left with x3 and x4, just like before.\n",
    "\n",
    "### 12-94 (e) All the models ended up the same. With only 2 regressors and much lower *p*-values, a model with x3 and x4 would be the most preferred.\n",
    "\n",
    "## 3. 13-8 \n",
    "\n",
    "### 13-8 (a) $\\alpha = 0.01$"
   ]
  },
  {
   "cell_type": "code",
   "execution_count": 169,
   "metadata": {},
   "outputs": [
    {
     "name": "stdout",
     "output_type": "stream",
     "text": [
      "f_0 is: 4.006141248720574\n",
      "p-value is: 0.04648445325738717\n"
     ]
    },
    {
     "data": {
      "image/png": "[encoded data removed]",
      "text/plain": [
       "<Figure size 432x288 with 1 Axes>"
      ]
     },
     "metadata": {},
     "output_type": "display_data"
    }
   ],
   "source": [
    "data = pd.DataFrame({'1': [19, 22, 20, 18, 25], \n",
    "                     '2': [20, 21, 33, 27, 40], \n",
    "                     '3': [16, 15, 18, 26, 17]})\n",
    "f_val, p_val = stats.f_oneway(data['1'], data['2'], data['3'])\n",
    "\n",
    "data.boxplot()\n",
    "\n",
    "print(\"f_0 is: \" + str(f_val) )\n",
    "print(\"p-value is: \" + str(p_val) )"
   ]
  },
  {
   "cell_type": "markdown",
   "metadata": {},
   "source": [
    "With a *p*-value of 0.0465, do not reject $H_{0}$. \n",
    "\n",
    "### 13-8 (b) Analyze residuals:\n"
   ]
  },
  {
   "cell_type": "code",
   "execution_count": 170,
   "metadata": {},
   "outputs": [
    {
     "data": {
      "text/html": [
       "<div>\n",
       "<style scoped>\n",
       "    .dataframe tbody tr th:only-of-type {\n",
       "        vertical-align: middle;\n",
       "    }\n",
       "\n",
       "    .dataframe tbody tr th {\n",
       "        vertical-align: top;\n",
       "    }\n",
       "\n",
       "    .dataframe thead th {\n",
       "        text-align: right;\n",
       "    }\n",
       "</style>\n",
       "<table border=\"1\" class=\"dataframe\">\n",
       "  <thead>\n",
       "    <tr style=\"text-align: right;\">\n",
       "      <th></th>\n",
       "      <th>1</th>\n",
       "      <th>2</th>\n",
       "      <th>3</th>\n",
       "    </tr>\n",
       "  </thead>\n",
       "  <tbody>\n",
       "    <tr>\n",
       "      <th>0</th>\n",
       "      <td>-1.8</td>\n",
       "      <td>-8.2</td>\n",
       "      <td>-2.4</td>\n",
       "    </tr>\n",
       "    <tr>\n",
       "      <th>1</th>\n",
       "      <td>1.2</td>\n",
       "      <td>-7.2</td>\n",
       "      <td>-3.4</td>\n",
       "    </tr>\n",
       "    <tr>\n",
       "      <th>2</th>\n",
       "      <td>-0.8</td>\n",
       "      <td>4.8</td>\n",
       "      <td>-0.4</td>\n",
       "    </tr>\n",
       "    <tr>\n",
       "      <th>3</th>\n",
       "      <td>-2.8</td>\n",
       "      <td>-1.2</td>\n",
       "      <td>7.6</td>\n",
       "    </tr>\n",
       "    <tr>\n",
       "      <th>4</th>\n",
       "      <td>4.2</td>\n",
       "      <td>11.8</td>\n",
       "      <td>-1.4</td>\n",
       "    </tr>\n",
       "  </tbody>\n",
       "</table>\n",
       "</div>"
      ],
      "text/plain": [
       "     1     2    3\n",
       "0 -1.8  -8.2 -2.4\n",
       "1  1.2  -7.2 -3.4\n",
       "2 -0.8   4.8 -0.4\n",
       "3 -2.8  -1.2  7.6\n",
       "4  4.2  11.8 -1.4"
      ]
     },
     "execution_count": 170,
     "metadata": {},
     "output_type": "execute_result"
    }
   ],
   "source": [
    "# new list of lists of residuals\n",
    "residuals = []\n",
    "allresids = []\n",
    "\n",
    "# for each column of the dataframe\n",
    "for treatment in data:\n",
    "    # new list of residuals\n",
    "    resids = []\n",
    "    # calculate mean of the treatmen\n",
    "    mean = data[treatment].mean()\n",
    "    # for each observation\n",
    "    for i in data[treatment]:\n",
    "        # calculate and append the residual\n",
    "        resids.append( i - mean )\n",
    "        allresids.append( i - mean )\n",
    "    # append treatment residuals to experiment residuals\n",
    "    residuals.append(resids)\n",
    "    \n",
    "residuals = pd.DataFrame({'1': residuals[0], '2': residuals[1], '3': residuals[2]})\n",
    "\n",
    "residuals"
   ]
  },
  {
   "cell_type": "code",
   "execution_count": 171,
   "metadata": {},
   "outputs": [
    {
     "data": {
      "image/png": "[encoded data removed]",
      "text/plain": [
       "<Figure size 432x288 with 1 Axes>"
      ]
     },
     "metadata": {},
     "output_type": "display_data"
    }
   ],
   "source": [
    "from matplotlib import pyplot as plt\n",
    "\n",
    "coords, z = stats.probplot(residuals.unstack(), plot=plt)\n",
    "x = coords[0]\n",
    "y = coords[1]\n",
    "\n",
    "plt.scatter(x, y)\n",
    "plt.show()"
   ]
  },
  {
   "cell_type": "code",
   "execution_count": 172,
   "metadata": {},
   "outputs": [
    {
     "data": {
      "text/plain": [
       "<matplotlib.axes._subplots.AxesSubplot at 0x1e92b6105f8>"
      ]
     },
     "execution_count": 172,
     "metadata": {},
     "output_type": "execute_result"
    },
    {
     "data": {
      "image/png": "[encoded data removed]",
      "text/plain": [
       "<Figure size 432x288 with 1 Axes>"
      ]
     },
     "metadata": {},
     "output_type": "display_data"
    }
   ],
   "source": [
    "residuals.plot.density()"
   ]
  },
  {
   "cell_type": "code",
   "execution_count": 173,
   "metadata": {},
   "outputs": [
    {
     "data": {
      "text/plain": [
       "<matplotlib.axes._subplots.AxesSubplot at 0x1e92b697ba8>"
      ]
     },
     "execution_count": 173,
     "metadata": {},
     "output_type": "execute_result"
    },
    {
     "data": {
      "image/png": "[encoded data removed]",
      "text/plain": [
       "<Figure size 432x288 with 1 Axes>"
      ]
     },
     "metadata": {},
     "output_type": "display_data"
    }
   ],
   "source": [
    "residuals.boxplot()"
   ]
  },
  {
   "cell_type": "markdown",
   "metadata": {},
   "source": [
    "There are some issues with the residuals. There appears to be more variation in the type 2 circuit. Also, the type 3 has a signifcant outlier. \n",
    "\n",
    "### 12-8 (c) 95% CI for mean response time on circuit 3\n",
    "\n",
    "Formula:\n",
    "$\\bar{y}_{i.} - t_{\\alpha/2,a(n-1)}\\sqrt{MSE/n} \\leq \\mu_{i} \\leq \\bar{y}_{i.} + t_{\\alpha/2,a(n-1)}\\sqrt{MSE/n}$"
   ]
  },
  {
   "cell_type": "code",
   "execution_count": 175,
   "metadata": {},
   "outputs": [
    {
     "data": {
      "text/plain": [
       "2.560032959301552"
      ]
     },
     "execution_count": 175,
     "metadata": {},
     "output_type": "execute_result"
    }
   ],
   "source": [
    "# constants\n",
    "a = 3\n",
    "n = 5\n",
    "\n",
    "y_bar = data['3'].mean()\n",
    "\n",
    "# calculate t value\n",
    "alpha = 0.025\n",
    "\n",
    "t_a = abs(stats.t.ppf(alpha/2, a*(n-1)))\n",
    "t_a"
   ]
  },
  {
   "cell_type": "code",
   "execution_count": 176,
   "metadata": {},
   "outputs": [
    {
     "data": {
      "text/plain": [
       "390.8"
      ]
     },
     "execution_count": 176,
     "metadata": {},
     "output_type": "execute_result"
    }
   ],
   "source": [
    "# calculate SSE\n",
    "SSE = 0\n",
    "for treatment in data:\n",
    "    mean = data[treatment].mean()\n",
    "    for i in data[treatment]:\n",
    "        SSE += (i - mean) ** 2\n",
    "SSE"
   ]
  },
  {
   "cell_type": "code",
   "execution_count": 177,
   "metadata": {},
   "outputs": [
    {
     "data": {
      "text/plain": [
       "32.56666666666667"
      ]
     },
     "execution_count": 177,
     "metadata": {},
     "output_type": "execute_result"
    }
   ],
   "source": [
    "# calculate MSE\n",
    "MSE = SSE/(a*(n-1))\n",
    "MSE"
   ]
  },
  {
   "cell_type": "code",
   "execution_count": 179,
   "metadata": {},
   "outputs": [
    {
     "name": "stdout",
     "output_type": "stream",
     "text": [
      "The 95% confidence interval is 11.86648023834119 <= mu_3 <= 24.933519761658808.\n"
     ]
    }
   ],
   "source": [
    "from math import sqrt\n",
    "\n",
    "# calculate lower and upper bounds of confidence interval\n",
    "lower = y_bar - t_a * sqrt(MSE/n)\n",
    "upper = y_bar + t_a * sqrt(MSE/n)\n",
    "\n",
    "print('The 95% confidence interval is ' + str(lower) + ' <= ' + 'mu_3' + ' <= ' + \n",
    "     str(upper) + '.')"
   ]
  },
  {
   "cell_type": "markdown",
   "metadata": {},
   "source": [
    "## 4. 13-36\n",
    "\n",
    "### 13-36 (a) Test for significance, $\\alpha = 0.01$."
   ]
  },
  {
   "cell_type": "code",
   "execution_count": 230,
   "metadata": {},
   "outputs": [
    {
     "name": "stdout",
     "output_type": "stream",
     "text": [
      "f_0 is: 4.598266190719021\n",
      "p-value is: 0.0043975312683061625\n"
     ]
    }
   ],
   "source": [
    "data = pd.read_csv('13_36.csv')\n",
    "\n",
    "#data = pd.DataFrame({'1': [98, 97, 99, 96], '2': [91, 90, 93, 92], \n",
    " #                    '3': [96, 95, 97, 95], '4': [95, 96, 99, 98]})\n",
    "\n",
    "#f_val, p_val = stats.f_oneway(data['1'], data['2'], data['3'], data['4'])\n",
    "\n",
    "f_val, p_val = stats.f_oneway(data['1'], data['2'], data['3'], data['4'], data['5'], data['6'])\n",
    "\n",
    "\n",
    "\n",
    "print(\"f_0 is: \" + str(f_val) )\n",
    "print(\"p-value is: \" + str(p_val) )"
   ]
  },
  {
   "cell_type": "markdown",
   "metadata": {},
   "source": [
    "With a *p*-value of 0.0044, reject $H_{0}$\n",
    "\n",
    "### 13-36 (b) Estimate variability between batches"
   ]
  },
  {
   "cell_type": "code",
   "execution_count": 231,
   "metadata": {},
   "outputs": [],
   "source": [
    "# means and totals\n",
    "batch_means = data.mean()\n",
    "batch_totals = data.sum()\n",
    "total = batch_totals.sum()\n",
    "total_mean = batch_means.mean()\n",
    "\n",
    "# total number of measurements\n",
    "n = len(data)\n",
    "N = data.count().sum()\n",
    "a = N / n"
   ]
  },
  {
   "cell_type": "code",
   "execution_count": 240,
   "metadata": {},
   "outputs": [
    {
     "data": {
      "text/plain": [
       "6.0"
      ]
     },
     "execution_count": 240,
     "metadata": {},
     "output_type": "execute_result"
    }
   ],
   "source": [
    "a"
   ]
  },
  {
   "cell_type": "code",
   "execution_count": 233,
   "metadata": {},
   "outputs": [
    {
     "data": {
      "text/plain": [
       "115187.5"
      ]
     },
     "execution_count": 233,
     "metadata": {},
     "output_type": "execute_result"
    }
   ],
   "source": [
    "# get sums of squares to calculate ANOVA manually\n",
    "\n",
    "\n",
    "# SST is difference between each measurement squared\n",
    "# and the mean squared over N\n",
    "SST = 0\n",
    "\n",
    "for batch in data:\n",
    "    for i in data[batch]:\n",
    "        SST += ( i - total_mean ) **2\n",
    "        \n",
    "SST"
   ]
  },
  {
   "cell_type": "code",
   "execution_count": 234,
   "metadata": {},
   "outputs": [
    {
     "data": {
      "text/plain": [
       "56357.5"
      ]
     },
     "execution_count": 234,
     "metadata": {},
     "output_type": "execute_result"
    }
   ],
   "source": [
    "# SStr is total treatment square over number in treatment\n",
    "SStr = 0 \n",
    "\n",
    "for batch in batch_means:\n",
    "    SStr += ( batch - total_mean ) **2\n",
    "    \n",
    "SStr = SStr * n    \n",
    "SStr"
   ]
  },
  {
   "cell_type": "code",
   "execution_count": 235,
   "metadata": {},
   "outputs": [
    {
     "data": {
      "text/plain": [
       "58830.0"
      ]
     },
     "execution_count": 235,
     "metadata": {},
     "output_type": "execute_result"
    }
   ],
   "source": [
    "# SSE = SST = SStr\n",
    "SSE = SST - SStr\n",
    "SSE"
   ]
  },
  {
   "cell_type": "code",
   "execution_count": 236,
   "metadata": {},
   "outputs": [
    {
     "data": {
      "text/plain": [
       "4.598266190719021"
      ]
     },
     "execution_count": 236,
     "metadata": {},
     "output_type": "execute_result"
    }
   ],
   "source": [
    "# degrees of freedom\n",
    "# df of random factor (looms) = a - 1\n",
    "df_factor = a -1\n",
    "\n",
    "# df of error = a(n-1), where a is the number of factors\n",
    "# and n is the number of observations per factor\n",
    "df_error = a*(n-1)\n",
    "\n",
    "# MStr = SStr / df_factor\n",
    "# MSE = SSE / df_error\n",
    "MStr = SStr / df_factor\n",
    "MSE = SSE / df_error\n",
    "F_0 = MStr/MSE\n",
    "F_0"
   ]
  },
  {
   "cell_type": "code",
   "execution_count": 239,
   "metadata": {},
   "outputs": [
    {
     "data": {
      "text/plain": [
       "1764.05"
      ]
     },
     "execution_count": 239,
     "metadata": {},
     "output_type": "execute_result"
    }
   ],
   "source": [
    "# variance due to batches is estimated by: \n",
    "# (MStr - MSE) / n\n",
    "\n",
    "(MStr - MSE) / n"
   ]
  },
  {
   "cell_type": "markdown",
   "metadata": {},
   "source": [
    "The variability between batches is estimated at $1764.05$.  \n",
    "### 13-36 (c) Estimate variability between samples within batches\n",
    "\n",
    "This would be estimated by the mean square error, $MSE = 2451.25$"
   ]
  },
  {
   "cell_type": "code",
   "execution_count": 243,
   "metadata": {},
   "outputs": [
    {
     "data": {
      "text/plain": [
       "2451.25"
      ]
     },
     "execution_count": 243,
     "metadata": {},
     "output_type": "execute_result"
    }
   ],
   "source": [
    "MSE"
   ]
  },
  {
   "cell_type": "markdown",
   "metadata": {},
   "source": [
    "### 13-36 (d) Analyze residuals"
   ]
  },
  {
   "cell_type": "code",
   "execution_count": 244,
   "metadata": {},
   "outputs": [
    {
     "data": {
      "text/html": [
       "<div>\n",
       "<style scoped>\n",
       "    .dataframe tbody tr th:only-of-type {\n",
       "        vertical-align: middle;\n",
       "    }\n",
       "\n",
       "    .dataframe tbody tr th {\n",
       "        vertical-align: top;\n",
       "    }\n",
       "\n",
       "    .dataframe thead th {\n",
       "        text-align: right;\n",
       "    }\n",
       "</style>\n",
       "<table border=\"1\" class=\"dataframe\">\n",
       "  <thead>\n",
       "    <tr style=\"text-align: right;\">\n",
       "      <th></th>\n",
       "      <th>1</th>\n",
       "      <th>2</th>\n",
       "      <th>3</th>\n",
       "      <th>4</th>\n",
       "      <th>5</th>\n",
       "    </tr>\n",
       "  </thead>\n",
       "  <tbody>\n",
       "    <tr>\n",
       "      <th>0</th>\n",
       "      <td>40.0</td>\n",
       "      <td>12.0</td>\n",
       "      <td>31.0</td>\n",
       "      <td>-53.0</td>\n",
       "      <td>-5.0</td>\n",
       "    </tr>\n",
       "    <tr>\n",
       "      <th>1</th>\n",
       "      <td>-65.0</td>\n",
       "      <td>27.0</td>\n",
       "      <td>-14.0</td>\n",
       "      <td>-58.0</td>\n",
       "      <td>30.0</td>\n",
       "    </tr>\n",
       "    <tr>\n",
       "      <th>2</th>\n",
       "      <td>-65.0</td>\n",
       "      <td>-38.0</td>\n",
       "      <td>41.0</td>\n",
       "      <td>97.0</td>\n",
       "      <td>-85.0</td>\n",
       "    </tr>\n",
       "    <tr>\n",
       "      <th>3</th>\n",
       "      <td>15.0</td>\n",
       "      <td>32.0</td>\n",
       "      <td>-54.0</td>\n",
       "      <td>-33.0</td>\n",
       "      <td>35.0</td>\n",
       "    </tr>\n",
       "    <tr>\n",
       "      <th>4</th>\n",
       "      <td>75.0</td>\n",
       "      <td>-33.0</td>\n",
       "      <td>-4.0</td>\n",
       "      <td>47.0</td>\n",
       "      <td>25.0</td>\n",
       "    </tr>\n",
       "  </tbody>\n",
       "</table>\n",
       "</div>"
      ],
      "text/plain": [
       "      1     2     3     4     5\n",
       "0  40.0  12.0  31.0 -53.0  -5.0\n",
       "1 -65.0  27.0 -14.0 -58.0  30.0\n",
       "2 -65.0 -38.0  41.0  97.0 -85.0\n",
       "3  15.0  32.0 -54.0 -33.0  35.0\n",
       "4  75.0 -33.0  -4.0  47.0  25.0"
      ]
     },
     "execution_count": 244,
     "metadata": {},
     "output_type": "execute_result"
    }
   ],
   "source": [
    "# new list of lists of residuals\n",
    "residuals = []\n",
    "\n",
    "# for each column of the dataframe\n",
    "for treatment in data:\n",
    "    # new list of residuals\n",
    "    resids = []\n",
    "    # calculate mean of the treatmen\n",
    "    mean = data[treatment].mean()\n",
    "    # for each observation\n",
    "    for i in data[treatment]:\n",
    "        # calculate and append the residual\n",
    "        resids.append( i - mean )\n",
    "    # append treatment residuals to experiment residuals\n",
    "    residuals.append(resids)\n",
    "    \n",
    "residuals = pd.DataFrame({'1': residuals[0], '2': residuals[1], \n",
    "                         '3': residuals[2], '4': residuals[3], '5': residuals[4]})\n",
    "\n",
    "residuals"
   ]
  },
  {
   "cell_type": "code",
   "execution_count": 245,
   "metadata": {},
   "outputs": [
    {
     "data": {
      "image/png": "[encoded data removed]",
      "text/plain": [
       "<Figure size 432x288 with 1 Axes>"
      ]
     },
     "metadata": {},
     "output_type": "display_data"
    }
   ],
   "source": [
    "from matplotlib import pyplot as plt\n",
    "\n",
    "coords, z = stats.probplot(residuals.unstack(), plot=plt)\n",
    "x = coords[0]\n",
    "y = coords[1]\n",
    "\n",
    "plt.scatter(x, y)\n",
    "plt.show()"
   ]
  },
  {
   "cell_type": "code",
   "execution_count": 246,
   "metadata": {},
   "outputs": [
    {
     "data": {
      "text/plain": [
       "<matplotlib.axes._subplots.AxesSubplot at 0x1e92b73c940>"
      ]
     },
     "execution_count": 246,
     "metadata": {},
     "output_type": "execute_result"
    },
    {
     "data": {
      "image/png": "[encoded data removed]",
      "text/plain": [
       "<Figure size 432x288 with 1 Axes>"
      ]
     },
     "metadata": {},
     "output_type": "display_data"
    }
   ],
   "source": [
    "residuals.plot.density()"
   ]
  },
  {
   "cell_type": "code",
   "execution_count": 249,
   "metadata": {},
   "outputs": [
    {
     "data": {
      "text/plain": [
       "<matplotlib.axes._subplots.AxesSubplot at 0x1e92afe91d0>"
      ]
     },
     "execution_count": 249,
     "metadata": {},
     "output_type": "execute_result"
    },
    {
     "data": {
      "image/png": "[encoded data removed]",
      "text/plain": [
       "<Figure size 432x288 with 1 Axes>"
      ]
     },
     "metadata": {},
     "output_type": "display_data"
    }
   ],
   "source": [
    "residuals.boxplot()"
   ]
  },
  {
   "cell_type": "markdown",
   "metadata": {},
   "source": [
    "The residuals look mostly reasonable. Most of the residuals plot near the normal probability plot line. By the density plots and boxplots, it is possible that the variation is not consistent across the batches.  \n",
    "\n",
    "## 5. (13-48 )\n",
    "\n",
    "### 13-48 (a) Test for differences, $\\alpha = 0.05$"
   ]
  },
  {
   "cell_type": "code",
   "execution_count": 251,
   "metadata": {},
   "outputs": [
    {
     "data": {
      "text/html": [
       "<div>\n",
       "<style scoped>\n",
       "    .dataframe tbody tr th:only-of-type {\n",
       "        vertical-align: middle;\n",
       "    }\n",
       "\n",
       "    .dataframe tbody tr th {\n",
       "        vertical-align: top;\n",
       "    }\n",
       "\n",
       "    .dataframe thead th {\n",
       "        text-align: right;\n",
       "    }\n",
       "</style>\n",
       "<table border=\"1\" class=\"dataframe\">\n",
       "  <thead>\n",
       "    <tr style=\"text-align: right;\">\n",
       "      <th></th>\n",
       "      <th>1</th>\n",
       "      <th>2</th>\n",
       "      <th>3</th>\n",
       "      <th>4</th>\n",
       "    </tr>\n",
       "  </thead>\n",
       "  <tbody>\n",
       "    <tr>\n",
       "      <th>0</th>\n",
       "      <td>9.3</td>\n",
       "      <td>9.4</td>\n",
       "      <td>9.2</td>\n",
       "      <td>9.7</td>\n",
       "    </tr>\n",
       "    <tr>\n",
       "      <th>1</th>\n",
       "      <td>9.4</td>\n",
       "      <td>9.3</td>\n",
       "      <td>9.4</td>\n",
       "      <td>9.6</td>\n",
       "    </tr>\n",
       "    <tr>\n",
       "      <th>2</th>\n",
       "      <td>9.6</td>\n",
       "      <td>9.8</td>\n",
       "      <td>9.5</td>\n",
       "      <td>10.0</td>\n",
       "    </tr>\n",
       "    <tr>\n",
       "      <th>3</th>\n",
       "      <td>10.0</td>\n",
       "      <td>9.9</td>\n",
       "      <td>9.7</td>\n",
       "      <td>10.2</td>\n",
       "    </tr>\n",
       "  </tbody>\n",
       "</table>\n",
       "</div>"
      ],
      "text/plain": [
       "      1    2    3     4\n",
       "0   9.3  9.4  9.2   9.7\n",
       "1   9.4  9.3  9.4   9.6\n",
       "2   9.6  9.8  9.5  10.0\n",
       "3  10.0  9.9  9.7  10.2"
      ]
     },
     "execution_count": 251,
     "metadata": {},
     "output_type": "execute_result"
    }
   ],
   "source": [
    "data = pd.read_csv('13_48.csv')\n",
    "data"
   ]
  },
  {
   "cell_type": "code",
   "execution_count": 252,
   "metadata": {},
   "outputs": [
    {
     "data": {
      "text/plain": [
       "14.437499999999618"
      ]
     },
     "execution_count": 252,
     "metadata": {},
     "output_type": "execute_result"
    }
   ],
   "source": [
    "# For RCBD, we get the totals for each block\n",
    "# in addition to each treatment\n",
    "tr_means = data.mean()\n",
    "tr_totals = data.sum()\n",
    "block_means = data.transpose().mean()\n",
    "block_totals = data.transpose().sum()\n",
    "total = tr_totals.sum()\n",
    "total_mean = tr_means.mean()\n",
    "\n",
    "\n",
    "\n",
    "# total number of measurements\n",
    "n = len(data)\n",
    "N = data.count().sum()\n",
    "a = N / n\n",
    "\n",
    "# SST is difference between each measurement squared\n",
    "# and the mean squared over N\n",
    "SST = 0\n",
    "\n",
    "for treatment in data:\n",
    "    for i in data[treatment]:\n",
    "        SST += ( i - total_mean ) **2\n",
    "        \n",
    "# SStr is number of observations times the square of\n",
    "# the treatment mean minus the total mean\n",
    "SStr = 0 \n",
    "\n",
    "for treatment in tr_means:\n",
    "    SStr += ( treatment - total_mean ) **2\n",
    "    \n",
    "SStr = SStr * n    \n",
    "\n",
    "## SSb is the block means minus the \n",
    "SSb = 0\n",
    "\n",
    "for block in block_means:\n",
    "    SSb += ( block - total_mean ) **2\n",
    "    \n",
    "SSb = SSb * a\n",
    "\n",
    "\n",
    "# SSE = SST - SStr\n",
    "SSE = SST - SStr - SSb\n",
    "SSE\n",
    "\n",
    "# degrees of freedom\n",
    "# df of random treatments = a - 1\n",
    "df_treatments = a - 1\n",
    "\n",
    "# df of blocks\n",
    "df_block = n - 1\n",
    "\n",
    "# df of error = a(n-1), where a is the number of factors\n",
    "# and n is the number of observations per factor\n",
    "df_error = (a-1)*(n-1)\n",
    "\n",
    "# MStr = SStr / df_factor\n",
    "# MSE = SSE / df_error\n",
    "MStr = SStr / df_treatments\n",
    "MSE = SSE / df_error\n",
    "F_0 = MStr/MSE\n",
    "F_0"
   ]
  },
  {
   "cell_type": "code",
   "execution_count": 253,
   "metadata": {},
   "outputs": [
    {
     "data": {
      "text/plain": [
       "0.0008712720711117495"
      ]
     },
     "execution_count": 253,
     "metadata": {},
     "output_type": "execute_result"
    }
   ],
   "source": [
    "stats.f.sf(F_0, df_treatments, df_error)"
   ]
  },
  {
   "cell_type": "markdown",
   "metadata": {},
   "source": [
    "With a *p*-value of 0.00087, reject $H_{0}$. The tip does affect the hardness meaurements.\n",
    "\n",
    "### 13-48 (b) Use Fisher's LSD to investigate differences."
   ]
  },
  {
   "cell_type": "code",
   "execution_count": 257,
   "metadata": {},
   "outputs": [
    {
     "data": {
      "text/plain": [
       "1    9.575\n",
       "2    9.600\n",
       "3    9.450\n",
       "4    9.875\n",
       "dtype: float64"
      ]
     },
     "execution_count": 257,
     "metadata": {},
     "output_type": "execute_result"
    }
   ],
   "source": [
    "# means to compare\n",
    "tr_means "
   ]
  },
  {
   "cell_type": "code",
   "execution_count": 258,
   "metadata": {},
   "outputs": [],
   "source": [
    "# get t_a/2, error df\n",
    "alpha = 0.05\n",
    "t_a = abs(stats.t.ppf(alpha/2, df_error))"
   ]
  },
  {
   "cell_type": "code",
   "execution_count": 260,
   "metadata": {},
   "outputs": [
    {
     "data": {
      "text/plain": [
       "0.15081047751606821"
      ]
     },
     "execution_count": 260,
     "metadata": {},
     "output_type": "execute_result"
    }
   ],
   "source": [
    "LSD = t_a*math.sqrt(2*MSE/4)\n",
    "LSD"
   ]
  },
  {
   "cell_type": "code",
   "execution_count": 268,
   "metadata": {},
   "outputs": [
    {
     "name": "stdout",
     "output_type": "stream",
     "text": [
      "|0 - 3| = -0.29999999999999893 is greater than LSD\n",
      "|1 - 3| = -0.2749999999999986 is greater than LSD\n",
      "|2 - 3| = -0.4250000000000007 is greater than LSD\n",
      "|3 - 0| = 0.29999999999999893 is greater than LSD\n",
      "|3 - 1| = 0.2749999999999986 is greater than LSD\n",
      "|3 - 2| = 0.4250000000000007 is greater than LSD\n"
     ]
    }
   ],
   "source": [
    "# check for differences greater than 0.1508\n",
    "for i in range(len(tr_means)):\n",
    "    for j in range(len(tr_means)):\n",
    "        if i != j:\n",
    "            diff = tr_means[i] - tr_means[j]\n",
    "            if abs(diff) > LSD:\n",
    "                print('|{} - {}| = {} is greater than LSD'.format(i, j, diff ))"
   ]
  },
  {
   "cell_type": "markdown",
   "metadata": {},
   "source": [
    "Type 4's mean is 0.3 greater than Type 1, 0.275 greater than Type 2, and 0.425 greater than Type 3. The other differences are not significant.\n",
    "\n",
    "### 13-48 (c) Analyze residuals"
   ]
  },
  {
   "cell_type": "code",
   "execution_count": 269,
   "metadata": {},
   "outputs": [
    {
     "data": {
      "text/html": [
       "<div>\n",
       "<style scoped>\n",
       "    .dataframe tbody tr th:only-of-type {\n",
       "        vertical-align: middle;\n",
       "    }\n",
       "\n",
       "    .dataframe tbody tr th {\n",
       "        vertical-align: top;\n",
       "    }\n",
       "\n",
       "    .dataframe thead th {\n",
       "        text-align: right;\n",
       "    }\n",
       "</style>\n",
       "<table border=\"1\" class=\"dataframe\">\n",
       "  <thead>\n",
       "    <tr style=\"text-align: right;\">\n",
       "      <th></th>\n",
       "      <th>0</th>\n",
       "      <th>1</th>\n",
       "      <th>2</th>\n",
       "      <th>3</th>\n",
       "    </tr>\n",
       "  </thead>\n",
       "  <tbody>\n",
       "    <tr>\n",
       "      <th>0</th>\n",
       "      <td>-0.050</td>\n",
       "      <td>0.025</td>\n",
       "      <td>-0.025</td>\n",
       "      <td>0.050</td>\n",
       "    </tr>\n",
       "    <tr>\n",
       "      <th>1</th>\n",
       "      <td>0.025</td>\n",
       "      <td>-0.100</td>\n",
       "      <td>0.150</td>\n",
       "      <td>-0.075</td>\n",
       "    </tr>\n",
       "    <tr>\n",
       "      <th>2</th>\n",
       "      <td>-0.075</td>\n",
       "      <td>0.100</td>\n",
       "      <td>-0.050</td>\n",
       "      <td>0.025</td>\n",
       "    </tr>\n",
       "    <tr>\n",
       "      <th>3</th>\n",
       "      <td>0.100</td>\n",
       "      <td>-0.025</td>\n",
       "      <td>-0.075</td>\n",
       "      <td>0.000</td>\n",
       "    </tr>\n",
       "  </tbody>\n",
       "</table>\n",
       "</div>"
      ],
      "text/plain": [
       "       0      1      2      3\n",
       "0 -0.050  0.025 -0.025  0.050\n",
       "1  0.025 -0.100  0.150 -0.075\n",
       "2 -0.075  0.100 -0.050  0.025\n",
       "3  0.100 -0.025 -0.075  0.000"
      ]
     },
     "execution_count": 269,
     "metadata": {},
     "output_type": "execute_result"
    }
   ],
   "source": [
    "resids = []\n",
    "treatments = len(data)\n",
    "blocks = len(data.iloc[0])\n",
    "\n",
    "for i in range(treatments):\n",
    "    resids.append([])\n",
    "    for j in range(blocks):\n",
    "        fitted_val = tr_means[j] + block_means[i] - total_mean\n",
    "        resid = data.iloc[i][j] - fitted_val\n",
    "        resids[i].append(resid)\n",
    "resids = pd.DataFrame(resids)\n",
    "resids"
   ]
  },
  {
   "cell_type": "code",
   "execution_count": 272,
   "metadata": {},
   "outputs": [
    {
     "data": {
      "image/png": "[encoded data removed]",
      "text/plain": [
       "<Figure size 432x288 with 1 Axes>"
      ]
     },
     "metadata": {},
     "output_type": "display_data"
    }
   ],
   "source": [
    "coords, z = stats.probplot(resids.unstack(), plot=plt)\n",
    "x = coords[0]\n",
    "y = coords[1]\n",
    "\n",
    "plt.scatter(x, y)\n",
    "plt.show()"
   ]
  },
  {
   "cell_type": "code",
   "execution_count": 273,
   "metadata": {},
   "outputs": [
    {
     "data": {
      "text/plain": [
       "<matplotlib.axes._subplots.AxesSubplot at 0x1e92c85b710>"
      ]
     },
     "execution_count": 273,
     "metadata": {},
     "output_type": "execute_result"
    },
    {
     "data": {
      "image/png": "[encoded data removed]",
      "text/plain": [
       "<Figure size 432x288 with 1 Axes>"
      ]
     },
     "metadata": {},
     "output_type": "display_data"
    }
   ],
   "source": [
    "#by tip\n",
    "resids.plot.density()"
   ]
  },
  {
   "cell_type": "code",
   "execution_count": 275,
   "metadata": {},
   "outputs": [
    {
     "data": {
      "text/plain": [
       "<matplotlib.axes._subplots.AxesSubplot at 0x1e92c961ba8>"
      ]
     },
     "execution_count": 275,
     "metadata": {},
     "output_type": "execute_result"
    },
    {
     "data": {
      "image/png": "[encoded data removed]",
      "text/plain": [
       "<Figure size 432x288 with 1 Axes>"
      ]
     },
     "metadata": {},
     "output_type": "display_data"
    }
   ],
   "source": [
    "#by specimen\n",
    "resids.transpose().plot.density()"
   ]
  },
  {
   "cell_type": "code",
   "execution_count": 276,
   "metadata": {},
   "outputs": [
    {
     "data": {
      "text/plain": [
       "<matplotlib.axes._subplots.AxesSubplot at 0x1e92c9d66a0>"
      ]
     },
     "execution_count": 276,
     "metadata": {},
     "output_type": "execute_result"
    },
    {
     "data": {
      "image/png": "[encoded data removed]",
      "text/plain": [
       "<Figure size 432x288 with 1 Axes>"
      ]
     },
     "metadata": {},
     "output_type": "display_data"
    }
   ],
   "source": [
    "# by tip\n",
    "resids.boxplot()"
   ]
  },
  {
   "cell_type": "code",
   "execution_count": 277,
   "metadata": {},
   "outputs": [
    {
     "data": {
      "text/plain": [
       "<matplotlib.axes._subplots.AxesSubplot at 0x1e92ca67c88>"
      ]
     },
     "execution_count": 277,
     "metadata": {},
     "output_type": "execute_result"
    },
    {
     "data": {
      "image/png": "[encoded data removed]",
      "text/plain": [
       "<Figure size 432x288 with 1 Axes>"
      ]
     },
     "metadata": {},
     "output_type": "display_data"
    }
   ],
   "source": [
    "# by specimen\n",
    "resids.boxplot()"
   ]
  },
  {
   "cell_type": "markdown",
   "metadata": {},
   "source": [
    "Overall the variation in the residuals is fairly uniform. Normality assumptions seem to be valid.\n",
    "\n",
    "## 6. 14-2\n",
    "\n",
    "### 14-2 (a) \n",
    "$H_{0}: \\tau_{1} = \\tau_{2} = 0$  \n",
    "$H_{1}:$ at least one $\\tau_{i} \\neq 0$  \n",
    "$H_{0}: \\beta_{1} = \\beta_{2} = \\beta_{3} = 0$  \n",
    "$H_{1}:$ at least one $\\beta_{j} \\neq 0$  \n",
    "$H_{0}: (\\tau\\beta)_{11} = (\\tau\\beta)_{12} = . . . = (\\tau\\beta)_{23} = 0$   \n",
    "$H_{1}:$ at least one $(\\tau\\beta)_{ij} \\neq 0$  \n",
    "\n",
    "### 14-2 (b)\n"
   ]
  },
  {
   "cell_type": "code",
   "execution_count": 278,
   "metadata": {},
   "outputs": [
    {
     "data": {
      "text/html": [
       "<div>\n",
       "<style scoped>\n",
       "    .dataframe tbody tr th:only-of-type {\n",
       "        vertical-align: middle;\n",
       "    }\n",
       "\n",
       "    .dataframe tbody tr th {\n",
       "        vertical-align: top;\n",
       "    }\n",
       "\n",
       "    .dataframe thead th {\n",
       "        text-align: right;\n",
       "    }\n",
       "</style>\n",
       "<table border=\"1\" class=\"dataframe\">\n",
       "  <thead>\n",
       "    <tr style=\"text-align: right;\">\n",
       "      <th></th>\n",
       "      <th>Paint</th>\n",
       "      <th>Time</th>\n",
       "      <th>Finish</th>\n",
       "    </tr>\n",
       "  </thead>\n",
       "  <tbody>\n",
       "    <tr>\n",
       "      <th>0</th>\n",
       "      <td>1</td>\n",
       "      <td>1</td>\n",
       "      <td>74</td>\n",
       "    </tr>\n",
       "    <tr>\n",
       "      <th>1</th>\n",
       "      <td>1</td>\n",
       "      <td>2</td>\n",
       "      <td>73</td>\n",
       "    </tr>\n",
       "    <tr>\n",
       "      <th>2</th>\n",
       "      <td>1</td>\n",
       "      <td>3</td>\n",
       "      <td>78</td>\n",
       "    </tr>\n",
       "    <tr>\n",
       "      <th>3</th>\n",
       "      <td>1</td>\n",
       "      <td>1</td>\n",
       "      <td>64</td>\n",
       "    </tr>\n",
       "    <tr>\n",
       "      <th>4</th>\n",
       "      <td>1</td>\n",
       "      <td>2</td>\n",
       "      <td>61</td>\n",
       "    </tr>\n",
       "    <tr>\n",
       "      <th>5</th>\n",
       "      <td>1</td>\n",
       "      <td>3</td>\n",
       "      <td>85</td>\n",
       "    </tr>\n",
       "    <tr>\n",
       "      <th>6</th>\n",
       "      <td>1</td>\n",
       "      <td>1</td>\n",
       "      <td>50</td>\n",
       "    </tr>\n",
       "    <tr>\n",
       "      <th>7</th>\n",
       "      <td>1</td>\n",
       "      <td>2</td>\n",
       "      <td>44</td>\n",
       "    </tr>\n",
       "    <tr>\n",
       "      <th>8</th>\n",
       "      <td>1</td>\n",
       "      <td>3</td>\n",
       "      <td>92</td>\n",
       "    </tr>\n",
       "    <tr>\n",
       "      <th>9</th>\n",
       "      <td>2</td>\n",
       "      <td>1</td>\n",
       "      <td>92</td>\n",
       "    </tr>\n",
       "    <tr>\n",
       "      <th>10</th>\n",
       "      <td>2</td>\n",
       "      <td>2</td>\n",
       "      <td>98</td>\n",
       "    </tr>\n",
       "    <tr>\n",
       "      <th>11</th>\n",
       "      <td>2</td>\n",
       "      <td>3</td>\n",
       "      <td>66</td>\n",
       "    </tr>\n",
       "    <tr>\n",
       "      <th>12</th>\n",
       "      <td>2</td>\n",
       "      <td>1</td>\n",
       "      <td>86</td>\n",
       "    </tr>\n",
       "    <tr>\n",
       "      <th>13</th>\n",
       "      <td>2</td>\n",
       "      <td>2</td>\n",
       "      <td>73</td>\n",
       "    </tr>\n",
       "    <tr>\n",
       "      <th>14</th>\n",
       "      <td>2</td>\n",
       "      <td>3</td>\n",
       "      <td>45</td>\n",
       "    </tr>\n",
       "    <tr>\n",
       "      <th>15</th>\n",
       "      <td>2</td>\n",
       "      <td>1</td>\n",
       "      <td>68</td>\n",
       "    </tr>\n",
       "    <tr>\n",
       "      <th>16</th>\n",
       "      <td>2</td>\n",
       "      <td>2</td>\n",
       "      <td>88</td>\n",
       "    </tr>\n",
       "    <tr>\n",
       "      <th>17</th>\n",
       "      <td>2</td>\n",
       "      <td>3</td>\n",
       "      <td>85</td>\n",
       "    </tr>\n",
       "  </tbody>\n",
       "</table>\n",
       "</div>"
      ],
      "text/plain": [
       "    Paint  Time  Finish\n",
       "0       1     1      74\n",
       "1       1     2      73\n",
       "2       1     3      78\n",
       "3       1     1      64\n",
       "4       1     2      61\n",
       "5       1     3      85\n",
       "6       1     1      50\n",
       "7       1     2      44\n",
       "8       1     3      92\n",
       "9       2     1      92\n",
       "10      2     2      98\n",
       "11      2     3      66\n",
       "12      2     1      86\n",
       "13      2     2      73\n",
       "14      2     3      45\n",
       "15      2     1      68\n",
       "16      2     2      88\n",
       "17      2     3      85"
      ]
     },
     "execution_count": 278,
     "metadata": {},
     "output_type": "execute_result"
    }
   ],
   "source": [
    "#load data\n",
    "data = pd.DataFrame({'Paint': [1, 1, 1, 1, 1, 1, 1, 1, 1, \n",
    "                               2, 2, 2, 2, 2, 2, 2, 2, 2], \n",
    "                     'Time': [1, 2, 3, 1, 2, 3, 1, 2, 3, \n",
    "                                  1, 2, 3, 1, 2, 3, 1, 2, 3], \n",
    "                     'Finish': [74, 73, 78, \n",
    "                                64, 61, 85, \n",
    "                                50, 44, 92, \n",
    "                                92, 98, 66, \n",
    "                                86, 73, 45, \n",
    "                                68, 88, 85]})\n",
    "data"
   ]
  },
  {
   "cell_type": "code",
   "execution_count": 279,
   "metadata": {},
   "outputs": [
    {
     "data": {
      "text/plain": [
       "97093.55555555556"
      ]
     },
     "execution_count": 279,
     "metadata": {},
     "output_type": "execute_result"
    }
   ],
   "source": [
    "total_sum = data['Finish'].sum()\n",
    "a = 2\n",
    "b = 3\n",
    "n = 3\n",
    "big_mean_square = (total_sum**2) / (a * b * n)\n",
    "big_mean_square"
   ]
  },
  {
   "cell_type": "code",
   "execution_count": 283,
   "metadata": {},
   "outputs": [],
   "source": [
    "flipdata = data.transpose()\n",
    "# get counts and totals for the means\n",
    "a1_sum = a2_sum = b1_sum = b2_sum = b3_sum =0\n",
    "ab11_sum = ab12_sum = ab13_sum = ab21_sum = ab22_sum = ab23_sum = 0\n",
    "a1_count = a2_count = b1_count = b2_count = b3_count = 0\n",
    "for i in flipdata:\n",
    "    col = flipdata[i]\n",
    "    y = col['Finish']\n",
    "    if col['Paint'] == 1:\n",
    "        a1_sum += y\n",
    "        a1_count += 1\n",
    "        if col['Time'] == 1:\n",
    "            b1_sum += y\n",
    "            b1_count += 1\n",
    "            ab11_sum += y\n",
    "        elif col['Time'] == 2:\n",
    "            b2_sum += y\n",
    "            b2_count += 1\n",
    "            ab12_sum += y\n",
    "        elif col['Time'] == 3:\n",
    "            b3_sum += y\n",
    "            b3_count += 1\n",
    "            ab13_sum += y\n",
    "    elif col['Paint'] == 2:\n",
    "        a2_sum += y\n",
    "        a2_count += 1\n",
    "        if col['Time'] == 1:\n",
    "            b1_sum += y\n",
    "            b1_count +=1\n",
    "            ab21_sum += y\n",
    "        elif col['Time'] == 2:\n",
    "            b2_sum += y\n",
    "            b2_count += 1\n",
    "            ab22_sum += y\n",
    "        elif col['Time'] == 3:\n",
    "            b3_sum += y\n",
    "            b3_count += 1\n",
    "            ab23_sum += y\n",
    "\n",
    "# calclate means        \n",
    "a1_mean = a1_sum / a1_count\n",
    "a2_mean = a2_sum / a2_count\n",
    "b1_mean = b1_sum / b1_count\n",
    "b2_mean = b2_sum / b2_count\n",
    "b3_mean = b3_sum / b3_count\n",
    "\n"
   ]
  },
  {
   "cell_type": "code",
   "execution_count": null,
   "metadata": {},
   "outputs": [],
   "source": [
    "# MSA, MSB, MSAB, MSE = SS/df\n",
    "MSA = SSA/df_A\n",
    "MSB = SSB/df_B\n",
    "MSAB = SSab/df_AB\n",
    "MSE = SSE/df_error\n",
    "F_0A = MSA/MSE\n",
    "F_0B = MSB/MSE\n",
    "F_0AB = MSAB/MSE\n",
    "print('F_0 for Paint Type is {}'.format(F_0A))\n",
    "print('F_0 for Drying Time is {}'.format(F_0B.round(2)))\n",
    "print('F_0 for Interaction is {}'.format(F_0AB.round(2)))"
   ]
  }
 ],
 "metadata": {
  "kernelspec": {
   "display_name": "Python 3",
   "language": "python",
   "name": "python3"
  },
  "language_info": {
   "codemirror_mode": {
    "name": "ipython",
    "version": 3
   },
   "file_extension": ".py",
   "mimetype": "text/x-python",
   "name": "python",
   "nbconvert_exporter": "python",
   "pygments_lexer": "ipython3",
   "version": "3.6.5"
  }
 },
 "nbformat": 4,
 "nbformat_minor": 2
}
